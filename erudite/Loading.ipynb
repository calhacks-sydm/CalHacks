{
 "cells": [
  {
   "cell_type": "code",
   "execution_count": 1,
   "id": "f7ab5d2b",
   "metadata": {},
   "outputs": [],
   "source": [
    "import requests\n",
    "import json"
   ]
  },
  {
   "cell_type": "markdown",
   "id": "2051b74c",
   "metadata": {},
   "source": [
    "questions  \n",
    "- question_id\n",
    "- questions\n",
    "- hint\n",
    "- topic_id\n",
    "\n",
    "solution\n",
    "- solution_id (generated)\n",
    "- answer\n",
    "- question_id\n",
    "\n",
    "\n",
    "topic\n",
    "- topic_id (generated) \n",
    "- topic \n",
    "\n",
    "subproblems\n",
    "- id (generated)\n",
    "- topic_id\n",
    "- count\n",
    "- question_id\n",
    "- title\n",
    "- description\n"
   ]
  },
  {
   "cell_type": "code",
   "execution_count": 136,
   "id": "ce6f5881",
   "metadata": {},
   "outputs": [
    {
     "name": "stdout",
     "output_type": "stream",
     "text": [
      "question_id 10\n",
      "topic 14\n",
      "question_description 2143\n",
      "answer 100\n",
      "hint 92\n",
      "subproblem 3\n",
      "simplifiedAns 1494\n",
      "++++++++++++++++++++++++\n",
      "question_id 10\n",
      "topic 18\n",
      "question_description 631\n",
      "answer 46\n",
      "hint 82\n",
      "subproblem 3\n",
      "simplifiedAns 659\n",
      "++++++++++++++++++++++++\n",
      "question_id 10\n",
      "topic 18\n",
      "question_description 733\n",
      "answer 113\n",
      "hint 97\n",
      "subproblem 3\n",
      "simplifiedAns 1851\n",
      "++++++++++++++++++++++++\n",
      "question_id 10\n",
      "topic 19\n",
      "question_description 860\n",
      "answer 184\n",
      "hint 122\n",
      "subproblem 3\n",
      "simplifiedAns 1148\n",
      "++++++++++++++++++++++++\n",
      "question_id 10\n",
      "topic 18\n",
      "question_description 744\n",
      "answer 21\n",
      "hint 154\n",
      "subproblem 3\n",
      "simplifiedAns 1090\n",
      "++++++++++++++++++++++++\n",
      "question_id 10\n",
      "topic 18\n",
      "question_description 2591\n",
      "hint 99\n",
      "subproblem 0\n",
      "++++++++++++++++++++++++\n",
      "question_id 10\n",
      "topic 17\n",
      "question_description 724\n",
      "++++++++++++++++++++++++\n"
     ]
    }
   ],
   "source": [
    "# Open the JSON file for reading\n",
    "with open('2014_new.json', 'r') as file:\n",
    "    # Parse the JSON data from the file\n",
    "    data2014 = json.load(file)\n",
    "    for i in range(len(data2014)):\n",
    "        for k, v in data2014[i].items():\n",
    "            print(k, len(v))\n",
    "        print(\"++++++++++++++++++++++++\")\n"
   ]
  },
  {
   "cell_type": "code",
   "execution_count": 106,
   "id": "a5fbde18",
   "metadata": {},
   "outputs": [
    {
     "data": {
      "text/plain": [
       "'Fall2014_1'"
      ]
     },
     "execution_count": 106,
     "metadata": {},
     "output_type": "execute_result"
    }
   ],
   "source": [
    "data[0]['question_id']"
   ]
  },
  {
   "cell_type": "code",
   "execution_count": 11,
   "id": "99606074",
   "metadata": {},
   "outputs": [],
   "source": [
    "base_url = \"http://localhost:3000/api/\""
   ]
  },
  {
   "cell_type": "code",
   "execution_count": 86,
   "id": "6eed3593",
   "metadata": {},
   "outputs": [
    {
     "data": {
      "text/plain": [
       "{'error': 'Failed to create user.'}"
      ]
     },
     "execution_count": 86,
     "metadata": {},
     "output_type": "execute_result"
    }
   ],
   "source": [
    "data = {\n",
    "        \"first_name\":\"dz\",\n",
    "        \"last_name\":\"chang\",\n",
    "        \"email\":\"dzchang@gmail\",\n",
    "        \"password\":\"hellosecure\", }\n",
    "res = requests.post(base_url+'createUser', data=data)\n",
    "res.json()"
   ]
  },
  {
   "cell_type": "code",
   "execution_count": 88,
   "id": "13362103",
   "metadata": {},
   "outputs": [
    {
     "data": {
      "text/plain": [
       "[{'id': '912606855362707457',\n",
       "  'first_name': 'dz',\n",
       "  'last_name': 'chang',\n",
       "  'email': 'dzchang@gmail',\n",
       "  'password': 'hellosecure'}]"
      ]
     },
     "execution_count": 88,
     "metadata": {},
     "output_type": "execute_result"
    }
   ],
   "source": [
    "res = requests.get(base_url+'readAllUsers')\n",
    "res.json()"
   ]
  },
  {
   "cell_type": "markdown",
   "id": "7ba4a55c",
   "metadata": {},
   "source": [
    "## Courses"
   ]
  },
  {
   "cell_type": "code",
   "execution_count": 168,
   "id": "4eddef23",
   "metadata": {},
   "outputs": [
    {
     "data": {
      "text/plain": [
       "[{'id': '912607011899179009', 'course_name': 'cs170'}]"
      ]
     },
     "execution_count": 168,
     "metadata": {},
     "output_type": "execute_result"
    }
   ],
   "source": [
    "res = requests.get(base_url+'readAllCourses')\n",
    "res.json()"
   ]
  },
  {
   "cell_type": "code",
   "execution_count": 89,
   "id": "91b078a2",
   "metadata": {},
   "outputs": [
    {
     "data": {
      "text/plain": [
       "{'error': {}}"
      ]
     },
     "execution_count": 89,
     "metadata": {},
     "output_type": "execute_result"
    }
   ],
   "source": [
    "data = {'course_name': \"cs170\"}\n",
    "res = requests.post(base_url+'createCourse', data=data)\n",
    "res.json()"
   ]
  },
  {
   "cell_type": "markdown",
   "id": "bd6990f7",
   "metadata": {},
   "source": [
    "## Topics"
   ]
  },
  {
   "cell_type": "code",
   "execution_count": 245,
   "id": "97280010",
   "metadata": {},
   "outputs": [
    {
     "data": {
      "text/plain": [
       "[{'id': '10236',\n",
       "  'topic_name': 'Greedy Algorithms',\n",
       "  'course_id': '912607011899179009'},\n",
       " {'id': '11361',\n",
       "  'topic_name': 'Algorithm Analysis',\n",
       "  'course_id': '912607011899179009'},\n",
       " {'id': '14113',\n",
       "  'topic_name': 'Approximation Algorithms',\n",
       "  'course_id': '912607011899179009'},\n",
       " {'id': '18478',\n",
       "  'topic_name': 'Randomized Algorithms',\n",
       "  'course_id': '912607011899179009'},\n",
       " {'id': '20882',\n",
       "  'topic_name': 'NP-Completeness',\n",
       "  'course_id': '912607011899179009'},\n",
       " {'id': '21049',\n",
       "  'topic_name': 'Factoring Numbers via Circuit SAT',\n",
       "  'course_id': '912607011899179009'},\n",
       " {'id': '21100',\n",
       "  'topic_name': 'Finding Bridges',\n",
       "  'course_id': '912607011899179009'},\n",
       " {'id': '23509', 'topic_name': 'Hashing', 'course_id': '912607011899179009'},\n",
       " {'id': '30573',\n",
       "  'topic_name': 'Updating Distances',\n",
       "  'course_id': '912607011899179009'},\n",
       " {'id': '30898',\n",
       "  'topic_name': 'Vertex Cover',\n",
       "  'course_id': '912607011899179009'},\n",
       " {'id': '32240',\n",
       "  'topic_name': 'Paths in Graphs',\n",
       "  'course_id': '912607011899179009'},\n",
       " {'id': '32666',\n",
       "  'topic_name': 'NP-completeness',\n",
       "  'course_id': '912607011899179009'},\n",
       " {'id': '37006',\n",
       "  'topic_name': 'Strongly Connected Components',\n",
       "  'course_id': '912607011899179009'},\n",
       " {'id': '60460',\n",
       "  'topic_name': 'Complete the sentences',\n",
       "  'course_id': '912607011899179009'},\n",
       " {'id': '61239',\n",
       "  'topic_name': 'Find the satisfying one',\n",
       "  'course_id': '912607011899179009'},\n",
       " {'id': '62106',\n",
       "  'topic_name': 'Maximum Flow',\n",
       "  'course_id': '912607011899179009'},\n",
       " {'id': '62601',\n",
       "  'topic_name': 'Roadside Assistance',\n",
       "  'course_id': '912607011899179009'},\n",
       " {'id': '63544',\n",
       "  'topic_name': 'Minimum Spanning Tree',\n",
       "  'course_id': '912607011899179009'},\n",
       " {'id': '65251',\n",
       "  'topic_name': 'Reductions, Bipartite Matching',\n",
       "  'course_id': '912607011899179009'},\n",
       " {'id': '66431',\n",
       "  'topic_name': 'Introduction Big-O Notation and Arithmetic',\n",
       "  'course_id': '912607011899179009'},\n",
       " {'id': '73874',\n",
       "  'topic_name': 'Divide-and-Conquer',\n",
       "  'course_id': '912607011899179009'},\n",
       " {'id': '75084',\n",
       "  'topic_name': 'True or False or Maybe..?',\n",
       "  'course_id': '912607011899179009'},\n",
       " {'id': '75094',\n",
       "  'topic_name': 'Linear Programming',\n",
       "  'course_id': '912607011899179009'},\n",
       " {'id': '76147', 'topic_name': 'Gambling', 'course_id': '912607011899179009'},\n",
       " {'id': '85963',\n",
       "  'topic_name': 'Algorithms',\n",
       "  'course_id': '912607011899179009'},\n",
       " {'id': '87372',\n",
       "  'topic_name': 'Dynamic Programming',\n",
       "  'course_id': '912607011899179009'},\n",
       " {'id': '87390',\n",
       "  'topic_name': 'Reductions',\n",
       "  'course_id': '912607011899179009'},\n",
       " {'id': '87528',\n",
       "  'topic_name': 'Graphs and DFS',\n",
       "  'course_id': '912607011899179009'},\n",
       " {'id': '91030',\n",
       "  'topic_name': 'True or False?',\n",
       "  'course_id': '912607011899179009'},\n",
       " {'id': '96070',\n",
       "  'topic_name': 'Graph Algorithms',\n",
       "  'course_id': '912607011899179009'},\n",
       " {'id': '98161',\n",
       "  'topic_name': 'Zero-Sum Games',\n",
       "  'course_id': '912607011899179009'}]"
      ]
     },
     "execution_count": 245,
     "metadata": {},
     "output_type": "execute_result"
    }
   ],
   "source": [
    "res = requests.get(base_url+'readAllTopics')\n",
    "res.json()"
   ]
  },
  {
   "cell_type": "code",
   "execution_count": 191,
   "id": "79fcf595",
   "metadata": {},
   "outputs": [
    {
     "data": {
      "text/plain": [
       "{'error': 'Failed to fetch topics.'}"
      ]
     },
     "execution_count": 191,
     "metadata": {},
     "output_type": "execute_result"
    }
   ],
   "source": [
    "res = requests.get(base_url+'deleteTopics')\n",
    "res.json()"
   ]
  },
  {
   "cell_type": "code",
   "execution_count": 94,
   "id": "c370043a",
   "metadata": {},
   "outputs": [
    {
     "name": "stdout",
     "output_type": "stream",
     "text": [
      "{'id': '61530', 'topic_name': 'Divide and Conquer', 'course_id': '912607011899179009'}\n"
     ]
    }
   ],
   "source": [
    "topic_id = randrange(10000,100000)\n",
    "topic = \"Divide and Conquer\"\n",
    "data = {'id': topic_id, 'topic_name': topic, 'course_id': \"912607011899179009\"}\n",
    "do_create = True \n",
    "res = requests.get(base_url+'readAllTopics')\n",
    "res_json = res.json()\n",
    "for entry in res_json:\n",
    "    if entry['topic_name'] == topic:\n",
    "        do_create = False\n",
    "\n",
    "if do_create: \n",
    "    res = requests.post(base_url+'createTopic', data=data)\n",
    "    print(res.json())\n",
    "else:\n",
    "    print(\"topic already exists\")"
   ]
  },
  {
   "cell_type": "markdown",
   "id": "b2800c88",
   "metadata": {},
   "source": [
    "## Question"
   ]
  },
  {
   "cell_type": "code",
   "execution_count": 171,
   "id": "589356fe",
   "metadata": {},
   "outputs": [
    {
     "data": {
      "text/plain": [
       "{'error': 'Failed to create questions.'}"
      ]
     },
     "execution_count": 171,
     "metadata": {},
     "output_type": "execute_result"
    }
   ],
   "source": [
    "q_id = randrange(10000,100000)\n",
    "item = {\n",
    "    \"question_id\": q_id,\n",
    "    \"question_description\": \"Lorem ipsum something somethign\",\n",
    "    \"hint\": \"use a * b + c\", \n",
    "    \"topic_id\": 61530\n",
    "}\n",
    "data = {'id': item['question_id'], 'question': item['question_description'],  'topic_id': item['topic_id'], 'hint': item['hint']}\n",
    "# data = {'id': item.question_id, 'questions': item.question_description, 'hint': item.hint, 'topic_id': topic_id}  # Replace with your data\n",
    "res = requests.post(base_url+'createQuestion', data=data)\n",
    "res.json()"
   ]
  },
  {
   "cell_type": "code",
   "execution_count": 211,
   "id": "a18b93eb",
   "metadata": {},
   "outputs": [],
   "source": [
    "res = requests.get(base_url+'readAllQuestions')\n",
    "questions = res.json()"
   ]
  },
  {
   "cell_type": "code",
   "execution_count": 157,
   "id": "adace61d",
   "metadata": {},
   "outputs": [
    {
     "data": {
      "text/plain": [
       "{'message': 'success'}"
      ]
     },
     "execution_count": 157,
     "metadata": {},
     "output_type": "execute_result"
    }
   ],
   "source": [
    "res = requests.get(base_url+'deleteQuestions')\n",
    "resres.json()"
   ]
  },
  {
   "cell_type": "code",
   "execution_count": 219,
   "id": "9229364f",
   "metadata": {},
   "outputs": [
    {
     "name": "stdout",
     "output_type": "stream",
     "text": [
      "12055\n",
      "14499\n",
      "15355\n",
      "16073\n",
      "18936\n",
      "20455\n",
      "27957\n",
      "28447\n",
      "29715\n",
      "39482\n",
      "40710\n",
      "42686\n",
      "44025\n",
      "46789\n",
      "48966\n",
      "50759\n",
      "63666\n",
      "64106\n",
      "66415\n",
      "68320\n",
      "71553\n",
      "71915\n",
      "76472\n",
      "79147\n",
      "84029\n",
      "85198\n",
      "87842\n",
      "91025\n",
      "96022\n",
      "96216\n"
     ]
    }
   ],
   "source": [
    "for item in questions:\n",
    "    print(item['id'])"
   ]
  },
  {
   "cell_type": "markdown",
   "id": "81e27f2a",
   "metadata": {},
   "source": [
    "## Solution\n"
   ]
  },
  {
   "cell_type": "code",
   "execution_count": 174,
   "id": "5c53ab60",
   "metadata": {},
   "outputs": [
    {
     "data": {
      "text/plain": [
       "[{'id': '26569', 'question_id': '16823', 'solution': '1. Divide-and-conquer'},\n",
       " {'id': '32385',\n",
       "  'question_id': '15142',\n",
       "  'solution': 'a) O(nlgn)\\nb) O((n + m)lgn)\\nc) O(nm)\\nd) O(n^2)'},\n",
       " {'id': '42581',\n",
       "  'question_id': '49189',\n",
       "  'solution': 'a) FALSE\\nb) TRUE\\nc) TRUE\\nd) TRUE\\ne) FALSE\\nf) FALSE\\ng) TRUE\\nh) TRUE\\ni) TRUE\\nj) TRUE\\nk) FALSE\\nl) FALSE'},\n",
       " {'id': '43079',\n",
       "  'question_id': '42091',\n",
       "  'solution': 'Classifier B. The running time of B is fixed regardless of n, whereas the running time of A is proportional to n.'},\n",
       " {'id': '49362',\n",
       "  'question_id': '63217',\n",
       "  'solution': \"O(k(n + m)lgn + 4). We do Dijkstra's algorithm 2k times, once for each endpoint of a negative edge, and that takes O((n + m)lgn) time per endpoint; then Bellman-Ford takes O(k^2) time.\"},\n",
       " {'id': '79617', 'question_id': '24478', 'solution': ' '},\n",
       " {'id': '96409', 'question_id': '60644', 'solution': ' '}]"
      ]
     },
     "execution_count": 174,
     "metadata": {},
     "output_type": "execute_result"
    }
   ],
   "source": [
    "res = requests.get(base_url+'readAllSolutions')\n",
    "res.json()"
   ]
  },
  {
   "cell_type": "code",
   "execution_count": 102,
   "id": "8c08b020",
   "metadata": {},
   "outputs": [
    {
     "data": {
      "text/plain": [
       "{'id': '37721', 'question_id': '51704', 'solution': 'ASDFGHJKLOIUYTREW'}"
      ]
     },
     "execution_count": 102,
     "metadata": {},
     "output_type": "execute_result"
    }
   ],
   "source": [
    "s_id = randrange(10000,100000)\n",
    "item = {\n",
    "    \"id\": s_id ,\n",
    "    \"question_id\": 51704 ,\n",
    "    \"solution\": \"ASDFGHJKLOIUYTREW\"\n",
    "}\n",
    "data = {'id': item['id'], 'question_id': item['question_id'],  'solution': item['solution']}\n",
    "# data = {'id': item.question_id, 'questions': item.question_description, 'hint': item.hint, 'topic_id': topic_id}  # Replace with your data\n",
    "res = requests.post(base_url+'createSolution', data=data)\n",
    "res.json()"
   ]
  },
  {
   "cell_type": "code",
   "execution_count": 156,
   "id": "161e4d84",
   "metadata": {},
   "outputs": [
    {
     "data": {
      "text/plain": [
       "{'message': 'success'}"
      ]
     },
     "execution_count": 156,
     "metadata": {},
     "output_type": "execute_result"
    }
   ],
   "source": [
    "res = requests.get(base_url+'deleteSolutions')\n",
    "res.json()"
   ]
  },
  {
   "cell_type": "markdown",
   "id": "4751e520",
   "metadata": {},
   "source": [
    "## Subproblem"
   ]
  },
  {
   "cell_type": "code",
   "execution_count": 175,
   "id": "b3f3aa0c",
   "metadata": {},
   "outputs": [
    {
     "data": {
      "text/plain": [
       "[{'id': '17922',\n",
       "  'count': '1',\n",
       "  'question_id': '42091',\n",
       "  'title': 'Analyze the complexity of Classifier B',\n",
       "  'description': 'Consider the complexity of Classifier B, which is a random forest classifier with a fixed T = 25 (i.e., 25 decision trees), where each decision tree has depth at most 10.'},\n",
       " {'id': '25173',\n",
       "  'count': '1',\n",
       "  'question_id': '15142',\n",
       "  'title': 'Question (b)',\n",
       "  'description': \"What is the asymptotic running time of Dijkstra's algorithm, on a graph with n vertices and m edges (assuming all edges have non-negative length), if we implement the priority queue with a binary heap?\"},\n",
       " {'id': '30721',\n",
       "  'count': '0',\n",
       "  'question_id': '15142',\n",
       "  'title': 'Question (a)',\n",
       "  'description': 'What is the asymptotic running time of decomposing a directed graph into strongly connected components, if the graph has n vertices and nlgn edges?'},\n",
       " {'id': '37490',\n",
       "  'count': '0',\n",
       "  'question_id': '49189',\n",
       "  'title': 'Undirected Graphs',\n",
       "  'description': 'Think about the properties of an undirected graph and the type of edges that are present in the graph.'},\n",
       " {'id': '48880',\n",
       "  'count': '0',\n",
       "  'question_id': '42091',\n",
       "  'title': 'Analyze the complexity of Classifier A',\n",
       "  'description': 'Consider the complexity of Classifier A, which is a k-nearest neighbors classifier with a fixed k = 25, using a linear search implementation (not a k-d tree).'},\n",
       " {'id': '50398',\n",
       "  'count': '0',\n",
       "  'question_id': '16823',\n",
       "  'title': 'Divide the problem into two subproblems',\n",
       "  'description': 'Divide the problem into two subproblems by comparing the kth element of the two sorted lists and recursively calling the function on the smaller subproblem.'},\n",
       " {'id': '53901',\n",
       "  'count': '2',\n",
       "  'question_id': '16823',\n",
       "  'title': 'Base case',\n",
       "  'description': 'The base case is when the kth element of the two sorted lists is equal, in which case the kth element is returned.'},\n",
       " {'id': '57489',\n",
       "  'count': '2',\n",
       "  'question_id': '42091',\n",
       "  'title': 'Compare the complexities of Classifier A and B',\n",
       "  'description': 'Compare the complexities of Classifier A and B and determine which one will have an asymptotically faster running time.'},\n",
       " {'id': '64082',\n",
       "  'count': '1',\n",
       "  'question_id': '16823',\n",
       "  'title': 'Find the kth element',\n",
       "  'description': 'Find the kth element by comparing the kth element of the two sorted lists and returning the smaller one.'},\n",
       " {'id': '66342',\n",
       "  'count': '1',\n",
       "  'question_id': '49189',\n",
       "  'title': 'Directed Graphs',\n",
       "  'description': 'Think about the properties of a directed graph and the type of edges that are present in the graph.'},\n",
       " {'id': '70383',\n",
       "  'count': '1',\n",
       "  'question_id': '63217',\n",
       "  'title': 'Bellman-Ford Algorithm',\n",
       "  'description': 'Bellman-Ford algorithm is used to find the shortest paths from a given source vertex to all other vertices in a graph. It has a time complexity of O(k^2).'},\n",
       " {'id': '74883',\n",
       "  'count': '2',\n",
       "  'question_id': '63217',\n",
       "  'title': 'Combining Time Complexities',\n",
       "  'description': \"Combine the time complexities of Dijkstra's and Bellman-Ford algorithms to get the total time complexity of your friend's algorithm.\"},\n",
       " {'id': '75637',\n",
       "  'count': '0',\n",
       "  'question_id': '63217',\n",
       "  'title': \"Dijkstra's Algorithm\",\n",
       "  'description': \"Dijkstra's algorithm is used to find the shortest path from a given source vertex to all other vertices in a graph. It has a time complexity of O((n + m)lgn).\"},\n",
       " {'id': '77204',\n",
       "  'count': '2',\n",
       "  'question_id': '15142',\n",
       "  'title': 'Question (c)',\n",
       "  'description': 'What is the asymptotic running time of the Bellman-Ford algorithm, on a graph with n vertices and m edges?'},\n",
       " {'id': '96495',\n",
       "  'count': '2',\n",
       "  'question_id': '49189',\n",
       "  'title': 'Trees',\n",
       "  'description': 'Think about the properties of a tree and the type of edges that are present in the graph.'}]"
      ]
     },
     "execution_count": 175,
     "metadata": {},
     "output_type": "execute_result"
    }
   ],
   "source": [
    "res = requests.get(base_url+'readAllSubproblems')\n",
    "res.json()"
   ]
  },
  {
   "cell_type": "code",
   "execution_count": 120,
   "id": "1b7fbe7f",
   "metadata": {},
   "outputs": [
    {
     "data": {
      "text/plain": [
       "{'id': '55264',\n",
       " 'count': '55264',\n",
       " 'question_id': '51704',\n",
       " 'title': 'recursion',\n",
       " 'description': 'trees and recursions'}"
      ]
     },
     "execution_count": 120,
     "metadata": {},
     "output_type": "execute_result"
    }
   ],
   "source": [
    "sub_id = randrange(10000,100000)\n",
    "item = {\n",
    "    \"id\": sub_id ,\n",
    "    \"count\": 2, \n",
    "    \"question_id\": 51704 ,\n",
    "    \"title\": \"recursion\",\n",
    "    \"description\": \"trees and recursions\",\n",
    "}\n",
    "data = {'id': item['id'],'count':item['count'],'question_id': item['question_id'],  'title': item['title'], 'description': item['description']}\n",
    "# data = {'id': item.question_id, 'questions': item.question_description, 'hint': item.hint, 'topic_id': topic_id}  # Replace with your data\n",
    "res = requests.post(base_url+'createSubproblem', data=data)\n",
    "res.json()"
   ]
  },
  {
   "cell_type": "code",
   "execution_count": 155,
   "id": "6c4ecf42",
   "metadata": {},
   "outputs": [
    {
     "data": {
      "text/plain": [
       "{'message': 'success'}"
      ]
     },
     "execution_count": 155,
     "metadata": {},
     "output_type": "execute_result"
    }
   ],
   "source": [
    "res = requests.get(base_url+'deleteSubproblems')\n",
    "res.json()"
   ]
  },
  {
   "cell_type": "code",
   "execution_count": 131,
   "id": "c48fb78f",
   "metadata": {},
   "outputs": [
    {
     "name": "stdout",
     "output_type": "stream",
     "text": [
      "Divide-and-Conquer\n"
     ]
    }
   ],
   "source": [
    "print(data2014[1]['topic'])"
   ]
  },
  {
   "cell_type": "code",
   "execution_count": 243,
   "id": "0923a381",
   "metadata": {},
   "outputs": [
    {
     "data": {
      "text/plain": [
       "81"
      ]
     },
     "execution_count": 243,
     "metadata": {},
     "output_type": "execute_result"
    }
   ],
   "source": [
    "dataSet = []\n",
    "arr = ['2017_new.json', '2019.json', '2015_new.json', '2014_new.json', '2023_new.json', \"2021_new.json\", \"2024_new.json\", \"2025_new.json\"]\n",
    "for f in arr:\n",
    "    with open(f, 'r') as file:\n",
    "        # Parse the JSON data from the file\n",
    "        temp_data = json.load(file)\n",
    "        dataSet.extend(temp_data)\n",
    "\n",
    "len(dataSet)"
   ]
  },
  {
   "cell_type": "code",
   "execution_count": 244,
   "id": "eb54b37f",
   "metadata": {},
   "outputs": [
    {
     "name": "stdout",
     "output_type": "stream",
     "text": [
      "[{'id': '14113', 'topic_name': 'Approximation Algorithms', 'course_id': '912607011899179009'}, {'id': '18478', 'topic_name': 'Randomized Algorithms', 'course_id': '912607011899179009'}, {'id': '66431', 'topic_name': 'Introduction Big-O Notation and Arithmetic', 'course_id': '912607011899179009'}, {'id': '85963', 'topic_name': 'Algorithms', 'course_id': '912607011899179009'}]\n",
      "[{'id': '14113', 'topic_name': 'Approximation Algorithms', 'course_id': '912607011899179009'}, {'id': '18478', 'topic_name': 'Randomized Algorithms', 'course_id': '912607011899179009'}, {'id': '66431', 'topic_name': 'Introduction Big-O Notation and Arithmetic', 'course_id': '912607011899179009'}, {'id': '73874', 'topic_name': 'Divide-and-Conquer', 'course_id': '912607011899179009'}, {'id': '85963', 'topic_name': 'Algorithms', 'course_id': '912607011899179009'}]\n",
      "[{'id': '14113', 'topic_name': 'Approximation Algorithms', 'course_id': '912607011899179009'}, {'id': '18478', 'topic_name': 'Randomized Algorithms', 'course_id': '912607011899179009'}, {'id': '23509', 'topic_name': 'Hashing', 'course_id': '912607011899179009'}, {'id': '66431', 'topic_name': 'Introduction Big-O Notation and Arithmetic', 'course_id': '912607011899179009'}, {'id': '73874', 'topic_name': 'Divide-and-Conquer', 'course_id': '912607011899179009'}, {'id': '85963', 'topic_name': 'Algorithms', 'course_id': '912607011899179009'}]\n",
      "[{'id': '14113', 'topic_name': 'Approximation Algorithms', 'course_id': '912607011899179009'}, {'id': '18478', 'topic_name': 'Randomized Algorithms', 'course_id': '912607011899179009'}, {'id': '23509', 'topic_name': 'Hashing', 'course_id': '912607011899179009'}, {'id': '66431', 'topic_name': 'Introduction Big-O Notation and Arithmetic', 'course_id': '912607011899179009'}, {'id': '73874', 'topic_name': 'Divide-and-Conquer', 'course_id': '912607011899179009'}, {'id': '85963', 'topic_name': 'Algorithms', 'course_id': '912607011899179009'}, {'id': '98161', 'topic_name': 'Zero-Sum Games', 'course_id': '912607011899179009'}]\n",
      "[{'id': '14113', 'topic_name': 'Approximation Algorithms', 'course_id': '912607011899179009'}, {'id': '18478', 'topic_name': 'Randomized Algorithms', 'course_id': '912607011899179009'}, {'id': '23509', 'topic_name': 'Hashing', 'course_id': '912607011899179009'}, {'id': '65251', 'topic_name': 'Reductions, Bipartite Matching', 'course_id': '912607011899179009'}, {'id': '66431', 'topic_name': 'Introduction Big-O Notation and Arithmetic', 'course_id': '912607011899179009'}, {'id': '73874', 'topic_name': 'Divide-and-Conquer', 'course_id': '912607011899179009'}, {'id': '85963', 'topic_name': 'Algorithms', 'course_id': '912607011899179009'}, {'id': '98161', 'topic_name': 'Zero-Sum Games', 'course_id': '912607011899179009'}]\n",
      "[{'id': '14113', 'topic_name': 'Approximation Algorithms', 'course_id': '912607011899179009'}, {'id': '18478', 'topic_name': 'Randomized Algorithms', 'course_id': '912607011899179009'}, {'id': '23509', 'topic_name': 'Hashing', 'course_id': '912607011899179009'}, {'id': '65251', 'topic_name': 'Reductions, Bipartite Matching', 'course_id': '912607011899179009'}, {'id': '66431', 'topic_name': 'Introduction Big-O Notation and Arithmetic', 'course_id': '912607011899179009'}, {'id': '73874', 'topic_name': 'Divide-and-Conquer', 'course_id': '912607011899179009'}, {'id': '75094', 'topic_name': 'Linear Programming', 'course_id': '912607011899179009'}, {'id': '85963', 'topic_name': 'Algorithms', 'course_id': '912607011899179009'}, {'id': '98161', 'topic_name': 'Zero-Sum Games', 'course_id': '912607011899179009'}]\n",
      "Reductions, Bipartite Matching topic already exists\n",
      "[{'id': '14113', 'topic_name': 'Approximation Algorithms', 'course_id': '912607011899179009'}, {'id': '18478', 'topic_name': 'Randomized Algorithms', 'course_id': '912607011899179009'}, {'id': '23509', 'topic_name': 'Hashing', 'course_id': '912607011899179009'}, {'id': '65251', 'topic_name': 'Reductions, Bipartite Matching', 'course_id': '912607011899179009'}, {'id': '66431', 'topic_name': 'Introduction Big-O Notation and Arithmetic', 'course_id': '912607011899179009'}, {'id': '73874', 'topic_name': 'Divide-and-Conquer', 'course_id': '912607011899179009'}, {'id': '75094', 'topic_name': 'Linear Programming', 'course_id': '912607011899179009'}, {'id': '85963', 'topic_name': 'Algorithms', 'course_id': '912607011899179009'}, {'id': '98161', 'topic_name': 'Zero-Sum Games', 'course_id': '912607011899179009'}]\n",
      "[{'id': '10236', 'topic_name': 'Greedy Algorithms', 'course_id': '912607011899179009'}, {'id': '14113', 'topic_name': 'Approximation Algorithms', 'course_id': '912607011899179009'}, {'id': '18478', 'topic_name': 'Randomized Algorithms', 'course_id': '912607011899179009'}, {'id': '23509', 'topic_name': 'Hashing', 'course_id': '912607011899179009'}, {'id': '65251', 'topic_name': 'Reductions, Bipartite Matching', 'course_id': '912607011899179009'}, {'id': '66431', 'topic_name': 'Introduction Big-O Notation and Arithmetic', 'course_id': '912607011899179009'}, {'id': '73874', 'topic_name': 'Divide-and-Conquer', 'course_id': '912607011899179009'}, {'id': '75094', 'topic_name': 'Linear Programming', 'course_id': '912607011899179009'}, {'id': '85963', 'topic_name': 'Algorithms', 'course_id': '912607011899179009'}, {'id': '98161', 'topic_name': 'Zero-Sum Games', 'course_id': '912607011899179009'}]\n",
      "[{'id': '10236', 'topic_name': 'Greedy Algorithms', 'course_id': '912607011899179009'}, {'id': '14113', 'topic_name': 'Approximation Algorithms', 'course_id': '912607011899179009'}, {'id': '18478', 'topic_name': 'Randomized Algorithms', 'course_id': '912607011899179009'}, {'id': '23509', 'topic_name': 'Hashing', 'course_id': '912607011899179009'}, {'id': '65251', 'topic_name': 'Reductions, Bipartite Matching', 'course_id': '912607011899179009'}, {'id': '66431', 'topic_name': 'Introduction Big-O Notation and Arithmetic', 'course_id': '912607011899179009'}, {'id': '73874', 'topic_name': 'Divide-and-Conquer', 'course_id': '912607011899179009'}, {'id': '75094', 'topic_name': 'Linear Programming', 'course_id': '912607011899179009'}, {'id': '85963', 'topic_name': 'Algorithms', 'course_id': '912607011899179009'}, {'id': '87372', 'topic_name': 'Dynamic Programming', 'course_id': '912607011899179009'}, {'id': '98161', 'topic_name': 'Zero-Sum Games', 'course_id': '912607011899179009'}]\n",
      "Greedy Algorithms topic already exists\n",
      "[{'id': '10236', 'topic_name': 'Greedy Algorithms', 'course_id': '912607011899179009'}, {'id': '14113', 'topic_name': 'Approximation Algorithms', 'course_id': '912607011899179009'}, {'id': '18478', 'topic_name': 'Randomized Algorithms', 'course_id': '912607011899179009'}, {'id': '23509', 'topic_name': 'Hashing', 'course_id': '912607011899179009'}, {'id': '65251', 'topic_name': 'Reductions, Bipartite Matching', 'course_id': '912607011899179009'}, {'id': '66431', 'topic_name': 'Introduction Big-O Notation and Arithmetic', 'course_id': '912607011899179009'}, {'id': '73874', 'topic_name': 'Divide-and-Conquer', 'course_id': '912607011899179009'}, {'id': '75094', 'topic_name': 'Linear Programming', 'course_id': '912607011899179009'}, {'id': '85963', 'topic_name': 'Algorithms', 'course_id': '912607011899179009'}, {'id': '87372', 'topic_name': 'Dynamic Programming', 'course_id': '912607011899179009'}, {'id': '98161', 'topic_name': 'Zero-Sum Games', 'course_id': '912607011899179009'}]\n",
      "Dynamic Programming topic already exists\n",
      "[{'id': '10236', 'topic_name': 'Greedy Algorithms', 'course_id': '912607011899179009'}, {'id': '14113', 'topic_name': 'Approximation Algorithms', 'course_id': '912607011899179009'}, {'id': '18478', 'topic_name': 'Randomized Algorithms', 'course_id': '912607011899179009'}, {'id': '23509', 'topic_name': 'Hashing', 'course_id': '912607011899179009'}, {'id': '65251', 'topic_name': 'Reductions, Bipartite Matching', 'course_id': '912607011899179009'}, {'id': '66431', 'topic_name': 'Introduction Big-O Notation and Arithmetic', 'course_id': '912607011899179009'}, {'id': '73874', 'topic_name': 'Divide-and-Conquer', 'course_id': '912607011899179009'}, {'id': '75094', 'topic_name': 'Linear Programming', 'course_id': '912607011899179009'}, {'id': '85963', 'topic_name': 'Algorithms', 'course_id': '912607011899179009'}, {'id': '87372', 'topic_name': 'Dynamic Programming', 'course_id': '912607011899179009'}, {'id': '98161', 'topic_name': 'Zero-Sum Games', 'course_id': '912607011899179009'}]\n",
      "Reductions, Bipartite Matching topic already exists\n"
     ]
    },
    {
     "name": "stdout",
     "output_type": "stream",
     "text": [
      "[{'id': '10236', 'topic_name': 'Greedy Algorithms', 'course_id': '912607011899179009'}, {'id': '14113', 'topic_name': 'Approximation Algorithms', 'course_id': '912607011899179009'}, {'id': '18478', 'topic_name': 'Randomized Algorithms', 'course_id': '912607011899179009'}, {'id': '23509', 'topic_name': 'Hashing', 'course_id': '912607011899179009'}, {'id': '65251', 'topic_name': 'Reductions, Bipartite Matching', 'course_id': '912607011899179009'}, {'id': '66431', 'topic_name': 'Introduction Big-O Notation and Arithmetic', 'course_id': '912607011899179009'}, {'id': '73874', 'topic_name': 'Divide-and-Conquer', 'course_id': '912607011899179009'}, {'id': '75094', 'topic_name': 'Linear Programming', 'course_id': '912607011899179009'}, {'id': '85963', 'topic_name': 'Algorithms', 'course_id': '912607011899179009'}, {'id': '87372', 'topic_name': 'Dynamic Programming', 'course_id': '912607011899179009'}, {'id': '98161', 'topic_name': 'Zero-Sum Games', 'course_id': '912607011899179009'}]\n",
      "Greedy Algorithms topic already exists\n",
      "[{'id': '10236', 'topic_name': 'Greedy Algorithms', 'course_id': '912607011899179009'}, {'id': '14113', 'topic_name': 'Approximation Algorithms', 'course_id': '912607011899179009'}, {'id': '18478', 'topic_name': 'Randomized Algorithms', 'course_id': '912607011899179009'}, {'id': '23509', 'topic_name': 'Hashing', 'course_id': '912607011899179009'}, {'id': '65251', 'topic_name': 'Reductions, Bipartite Matching', 'course_id': '912607011899179009'}, {'id': '66431', 'topic_name': 'Introduction Big-O Notation and Arithmetic', 'course_id': '912607011899179009'}, {'id': '73874', 'topic_name': 'Divide-and-Conquer', 'course_id': '912607011899179009'}, {'id': '75094', 'topic_name': 'Linear Programming', 'course_id': '912607011899179009'}, {'id': '85963', 'topic_name': 'Algorithms', 'course_id': '912607011899179009'}, {'id': '87372', 'topic_name': 'Dynamic Programming', 'course_id': '912607011899179009'}, {'id': '98161', 'topic_name': 'Zero-Sum Games', 'course_id': '912607011899179009'}]\n",
      "[{'id': '10236', 'topic_name': 'Greedy Algorithms', 'course_id': '912607011899179009'}, {'id': '14113', 'topic_name': 'Approximation Algorithms', 'course_id': '912607011899179009'}, {'id': '18478', 'topic_name': 'Randomized Algorithms', 'course_id': '912607011899179009'}, {'id': '23509', 'topic_name': 'Hashing', 'course_id': '912607011899179009'}, {'id': '62106', 'topic_name': 'Maximum Flow', 'course_id': '912607011899179009'}, {'id': '65251', 'topic_name': 'Reductions, Bipartite Matching', 'course_id': '912607011899179009'}, {'id': '66431', 'topic_name': 'Introduction Big-O Notation and Arithmetic', 'course_id': '912607011899179009'}, {'id': '73874', 'topic_name': 'Divide-and-Conquer', 'course_id': '912607011899179009'}, {'id': '75094', 'topic_name': 'Linear Programming', 'course_id': '912607011899179009'}, {'id': '85963', 'topic_name': 'Algorithms', 'course_id': '912607011899179009'}, {'id': '87372', 'topic_name': 'Dynamic Programming', 'course_id': '912607011899179009'}, {'id': '98161', 'topic_name': 'Zero-Sum Games', 'course_id': '912607011899179009'}]\n",
      "[{'id': '10236', 'topic_name': 'Greedy Algorithms', 'course_id': '912607011899179009'}, {'id': '14113', 'topic_name': 'Approximation Algorithms', 'course_id': '912607011899179009'}, {'id': '18478', 'topic_name': 'Randomized Algorithms', 'course_id': '912607011899179009'}, {'id': '23509', 'topic_name': 'Hashing', 'course_id': '912607011899179009'}, {'id': '62106', 'topic_name': 'Maximum Flow', 'course_id': '912607011899179009'}, {'id': '63544', 'topic_name': 'Minimum Spanning Tree', 'course_id': '912607011899179009'}, {'id': '65251', 'topic_name': 'Reductions, Bipartite Matching', 'course_id': '912607011899179009'}, {'id': '66431', 'topic_name': 'Introduction Big-O Notation and Arithmetic', 'course_id': '912607011899179009'}, {'id': '73874', 'topic_name': 'Divide-and-Conquer', 'course_id': '912607011899179009'}, {'id': '75094', 'topic_name': 'Linear Programming', 'course_id': '912607011899179009'}, {'id': '85963', 'topic_name': 'Algorithms', 'course_id': '912607011899179009'}, {'id': '87372', 'topic_name': 'Dynamic Programming', 'course_id': '912607011899179009'}, {'id': '98161', 'topic_name': 'Zero-Sum Games', 'course_id': '912607011899179009'}]\n",
      "[{'id': '10236', 'topic_name': 'Greedy Algorithms', 'course_id': '912607011899179009'}, {'id': '14113', 'topic_name': 'Approximation Algorithms', 'course_id': '912607011899179009'}, {'id': '18478', 'topic_name': 'Randomized Algorithms', 'course_id': '912607011899179009'}, {'id': '23509', 'topic_name': 'Hashing', 'course_id': '912607011899179009'}, {'id': '30898', 'topic_name': 'Vertex Cover', 'course_id': '912607011899179009'}, {'id': '62106', 'topic_name': 'Maximum Flow', 'course_id': '912607011899179009'}, {'id': '63544', 'topic_name': 'Minimum Spanning Tree', 'course_id': '912607011899179009'}, {'id': '65251', 'topic_name': 'Reductions, Bipartite Matching', 'course_id': '912607011899179009'}, {'id': '66431', 'topic_name': 'Introduction Big-O Notation and Arithmetic', 'course_id': '912607011899179009'}, {'id': '73874', 'topic_name': 'Divide-and-Conquer', 'course_id': '912607011899179009'}, {'id': '75094', 'topic_name': 'Linear Programming', 'course_id': '912607011899179009'}, {'id': '85963', 'topic_name': 'Algorithms', 'course_id': '912607011899179009'}, {'id': '87372', 'topic_name': 'Dynamic Programming', 'course_id': '912607011899179009'}, {'id': '98161', 'topic_name': 'Zero-Sum Games', 'course_id': '912607011899179009'}]\n",
      "Zero-Sum Games topic already exists\n",
      "[{'id': '10236', 'topic_name': 'Greedy Algorithms', 'course_id': '912607011899179009'}, {'id': '14113', 'topic_name': 'Approximation Algorithms', 'course_id': '912607011899179009'}, {'id': '18478', 'topic_name': 'Randomized Algorithms', 'course_id': '912607011899179009'}, {'id': '23509', 'topic_name': 'Hashing', 'course_id': '912607011899179009'}, {'id': '30898', 'topic_name': 'Vertex Cover', 'course_id': '912607011899179009'}, {'id': '62106', 'topic_name': 'Maximum Flow', 'course_id': '912607011899179009'}, {'id': '63544', 'topic_name': 'Minimum Spanning Tree', 'course_id': '912607011899179009'}, {'id': '65251', 'topic_name': 'Reductions, Bipartite Matching', 'course_id': '912607011899179009'}, {'id': '66431', 'topic_name': 'Introduction Big-O Notation and Arithmetic', 'course_id': '912607011899179009'}, {'id': '73874', 'topic_name': 'Divide-and-Conquer', 'course_id': '912607011899179009'}, {'id': '75094', 'topic_name': 'Linear Programming', 'course_id': '912607011899179009'}, {'id': '85963', 'topic_name': 'Algorithms', 'course_id': '912607011899179009'}, {'id': '87372', 'topic_name': 'Dynamic Programming', 'course_id': '912607011899179009'}, {'id': '98161', 'topic_name': 'Zero-Sum Games', 'course_id': '912607011899179009'}]\n",
      "Linear Programming topic already exists\n",
      "[{'id': '10236', 'topic_name': 'Greedy Algorithms', 'course_id': '912607011899179009'}, {'id': '14113', 'topic_name': 'Approximation Algorithms', 'course_id': '912607011899179009'}, {'id': '18478', 'topic_name': 'Randomized Algorithms', 'course_id': '912607011899179009'}, {'id': '23509', 'topic_name': 'Hashing', 'course_id': '912607011899179009'}, {'id': '30898', 'topic_name': 'Vertex Cover', 'course_id': '912607011899179009'}, {'id': '62106', 'topic_name': 'Maximum Flow', 'course_id': '912607011899179009'}, {'id': '63544', 'topic_name': 'Minimum Spanning Tree', 'course_id': '912607011899179009'}, {'id': '65251', 'topic_name': 'Reductions, Bipartite Matching', 'course_id': '912607011899179009'}, {'id': '66431', 'topic_name': 'Introduction Big-O Notation and Arithmetic', 'course_id': '912607011899179009'}, {'id': '73874', 'topic_name': 'Divide-and-Conquer', 'course_id': '912607011899179009'}, {'id': '75094', 'topic_name': 'Linear Programming', 'course_id': '912607011899179009'}, {'id': '85963', 'topic_name': 'Algorithms', 'course_id': '912607011899179009'}, {'id': '87372', 'topic_name': 'Dynamic Programming', 'course_id': '912607011899179009'}, {'id': '98161', 'topic_name': 'Zero-Sum Games', 'course_id': '912607011899179009'}]\n",
      "[{'id': '10236', 'topic_name': 'Greedy Algorithms', 'course_id': '912607011899179009'}, {'id': '14113', 'topic_name': 'Approximation Algorithms', 'course_id': '912607011899179009'}, {'id': '18478', 'topic_name': 'Randomized Algorithms', 'course_id': '912607011899179009'}, {'id': '21049', 'topic_name': 'Factoring Numbers via Circuit SAT', 'course_id': '912607011899179009'}, {'id': '23509', 'topic_name': 'Hashing', 'course_id': '912607011899179009'}, {'id': '30898', 'topic_name': 'Vertex Cover', 'course_id': '912607011899179009'}, {'id': '62106', 'topic_name': 'Maximum Flow', 'course_id': '912607011899179009'}, {'id': '63544', 'topic_name': 'Minimum Spanning Tree', 'course_id': '912607011899179009'}, {'id': '65251', 'topic_name': 'Reductions, Bipartite Matching', 'course_id': '912607011899179009'}, {'id': '66431', 'topic_name': 'Introduction Big-O Notation and Arithmetic', 'course_id': '912607011899179009'}, {'id': '73874', 'topic_name': 'Divide-and-Conquer', 'course_id': '912607011899179009'}, {'id': '75094', 'topic_name': 'Linear Programming', 'course_id': '912607011899179009'}, {'id': '85963', 'topic_name': 'Algorithms', 'course_id': '912607011899179009'}, {'id': '87372', 'topic_name': 'Dynamic Programming', 'course_id': '912607011899179009'}, {'id': '98161', 'topic_name': 'Zero-Sum Games', 'course_id': '912607011899179009'}]\n"
     ]
    },
    {
     "name": "stdout",
     "output_type": "stream",
     "text": [
      "[{'id': '10236', 'topic_name': 'Greedy Algorithms', 'course_id': '912607011899179009'}, {'id': '14113', 'topic_name': 'Approximation Algorithms', 'course_id': '912607011899179009'}, {'id': '18478', 'topic_name': 'Randomized Algorithms', 'course_id': '912607011899179009'}, {'id': '21049', 'topic_name': 'Factoring Numbers via Circuit SAT', 'course_id': '912607011899179009'}, {'id': '23509', 'topic_name': 'Hashing', 'course_id': '912607011899179009'}, {'id': '30898', 'topic_name': 'Vertex Cover', 'course_id': '912607011899179009'}, {'id': '61239', 'topic_name': 'Find the satisfying one', 'course_id': '912607011899179009'}, {'id': '62106', 'topic_name': 'Maximum Flow', 'course_id': '912607011899179009'}, {'id': '63544', 'topic_name': 'Minimum Spanning Tree', 'course_id': '912607011899179009'}, {'id': '65251', 'topic_name': 'Reductions, Bipartite Matching', 'course_id': '912607011899179009'}, {'id': '66431', 'topic_name': 'Introduction Big-O Notation and Arithmetic', 'course_id': '912607011899179009'}, {'id': '73874', 'topic_name': 'Divide-and-Conquer', 'course_id': '912607011899179009'}, {'id': '75094', 'topic_name': 'Linear Programming', 'course_id': '912607011899179009'}, {'id': '85963', 'topic_name': 'Algorithms', 'course_id': '912607011899179009'}, {'id': '87372', 'topic_name': 'Dynamic Programming', 'course_id': '912607011899179009'}, {'id': '98161', 'topic_name': 'Zero-Sum Games', 'course_id': '912607011899179009'}]\n",
      "[{'id': '10236', 'topic_name': 'Greedy Algorithms', 'course_id': '912607011899179009'}, {'id': '14113', 'topic_name': 'Approximation Algorithms', 'course_id': '912607011899179009'}, {'id': '18478', 'topic_name': 'Randomized Algorithms', 'course_id': '912607011899179009'}, {'id': '21049', 'topic_name': 'Factoring Numbers via Circuit SAT', 'course_id': '912607011899179009'}, {'id': '23509', 'topic_name': 'Hashing', 'course_id': '912607011899179009'}, {'id': '30573', 'topic_name': 'Updating Distances', 'course_id': '912607011899179009'}, {'id': '30898', 'topic_name': 'Vertex Cover', 'course_id': '912607011899179009'}, {'id': '61239', 'topic_name': 'Find the satisfying one', 'course_id': '912607011899179009'}, {'id': '62106', 'topic_name': 'Maximum Flow', 'course_id': '912607011899179009'}, {'id': '63544', 'topic_name': 'Minimum Spanning Tree', 'course_id': '912607011899179009'}, {'id': '65251', 'topic_name': 'Reductions, Bipartite Matching', 'course_id': '912607011899179009'}, {'id': '66431', 'topic_name': 'Introduction Big-O Notation and Arithmetic', 'course_id': '912607011899179009'}, {'id': '73874', 'topic_name': 'Divide-and-Conquer', 'course_id': '912607011899179009'}, {'id': '75094', 'topic_name': 'Linear Programming', 'course_id': '912607011899179009'}, {'id': '85963', 'topic_name': 'Algorithms', 'course_id': '912607011899179009'}, {'id': '87372', 'topic_name': 'Dynamic Programming', 'course_id': '912607011899179009'}, {'id': '98161', 'topic_name': 'Zero-Sum Games', 'course_id': '912607011899179009'}]\n",
      "[{'id': '10236', 'topic_name': 'Greedy Algorithms', 'course_id': '912607011899179009'}, {'id': '14113', 'topic_name': 'Approximation Algorithms', 'course_id': '912607011899179009'}, {'id': '18478', 'topic_name': 'Randomized Algorithms', 'course_id': '912607011899179009'}, {'id': '21049', 'topic_name': 'Factoring Numbers via Circuit SAT', 'course_id': '912607011899179009'}, {'id': '21100', 'topic_name': 'Finding Bridges', 'course_id': '912607011899179009'}, {'id': '23509', 'topic_name': 'Hashing', 'course_id': '912607011899179009'}, {'id': '30573', 'topic_name': 'Updating Distances', 'course_id': '912607011899179009'}, {'id': '30898', 'topic_name': 'Vertex Cover', 'course_id': '912607011899179009'}, {'id': '61239', 'topic_name': 'Find the satisfying one', 'course_id': '912607011899179009'}, {'id': '62106', 'topic_name': 'Maximum Flow', 'course_id': '912607011899179009'}, {'id': '63544', 'topic_name': 'Minimum Spanning Tree', 'course_id': '912607011899179009'}, {'id': '65251', 'topic_name': 'Reductions, Bipartite Matching', 'course_id': '912607011899179009'}, {'id': '66431', 'topic_name': 'Introduction Big-O Notation and Arithmetic', 'course_id': '912607011899179009'}, {'id': '73874', 'topic_name': 'Divide-and-Conquer', 'course_id': '912607011899179009'}, {'id': '75094', 'topic_name': 'Linear Programming', 'course_id': '912607011899179009'}, {'id': '85963', 'topic_name': 'Algorithms', 'course_id': '912607011899179009'}, {'id': '87372', 'topic_name': 'Dynamic Programming', 'course_id': '912607011899179009'}, {'id': '98161', 'topic_name': 'Zero-Sum Games', 'course_id': '912607011899179009'}]\n",
      "[{'id': '10236', 'topic_name': 'Greedy Algorithms', 'course_id': '912607011899179009'}, {'id': '14113', 'topic_name': 'Approximation Algorithms', 'course_id': '912607011899179009'}, {'id': '18478', 'topic_name': 'Randomized Algorithms', 'course_id': '912607011899179009'}, {'id': '21049', 'topic_name': 'Factoring Numbers via Circuit SAT', 'course_id': '912607011899179009'}, {'id': '21100', 'topic_name': 'Finding Bridges', 'course_id': '912607011899179009'}, {'id': '23509', 'topic_name': 'Hashing', 'course_id': '912607011899179009'}, {'id': '30573', 'topic_name': 'Updating Distances', 'course_id': '912607011899179009'}, {'id': '30898', 'topic_name': 'Vertex Cover', 'course_id': '912607011899179009'}, {'id': '61239', 'topic_name': 'Find the satisfying one', 'course_id': '912607011899179009'}, {'id': '62106', 'topic_name': 'Maximum Flow', 'course_id': '912607011899179009'}, {'id': '63544', 'topic_name': 'Minimum Spanning Tree', 'course_id': '912607011899179009'}, {'id': '65251', 'topic_name': 'Reductions, Bipartite Matching', 'course_id': '912607011899179009'}, {'id': '66431', 'topic_name': 'Introduction Big-O Notation and Arithmetic', 'course_id': '912607011899179009'}, {'id': '73874', 'topic_name': 'Divide-and-Conquer', 'course_id': '912607011899179009'}, {'id': '75094', 'topic_name': 'Linear Programming', 'course_id': '912607011899179009'}, {'id': '76147', 'topic_name': 'Gambling', 'course_id': '912607011899179009'}, {'id': '85963', 'topic_name': 'Algorithms', 'course_id': '912607011899179009'}, {'id': '87372', 'topic_name': 'Dynamic Programming', 'course_id': '912607011899179009'}, {'id': '98161', 'topic_name': 'Zero-Sum Games', 'course_id': '912607011899179009'}]\n",
      "[{'id': '10236', 'topic_name': 'Greedy Algorithms', 'course_id': '912607011899179009'}, {'id': '14113', 'topic_name': 'Approximation Algorithms', 'course_id': '912607011899179009'}, {'id': '18478', 'topic_name': 'Randomized Algorithms', 'course_id': '912607011899179009'}, {'id': '21049', 'topic_name': 'Factoring Numbers via Circuit SAT', 'course_id': '912607011899179009'}, {'id': '21100', 'topic_name': 'Finding Bridges', 'course_id': '912607011899179009'}, {'id': '23509', 'topic_name': 'Hashing', 'course_id': '912607011899179009'}, {'id': '30573', 'topic_name': 'Updating Distances', 'course_id': '912607011899179009'}, {'id': '30898', 'topic_name': 'Vertex Cover', 'course_id': '912607011899179009'}, {'id': '61239', 'topic_name': 'Find the satisfying one', 'course_id': '912607011899179009'}, {'id': '62106', 'topic_name': 'Maximum Flow', 'course_id': '912607011899179009'}, {'id': '62601', 'topic_name': 'Roadside Assistance', 'course_id': '912607011899179009'}, {'id': '63544', 'topic_name': 'Minimum Spanning Tree', 'course_id': '912607011899179009'}, {'id': '65251', 'topic_name': 'Reductions, Bipartite Matching', 'course_id': '912607011899179009'}, {'id': '66431', 'topic_name': 'Introduction Big-O Notation and Arithmetic', 'course_id': '912607011899179009'}, {'id': '73874', 'topic_name': 'Divide-and-Conquer', 'course_id': '912607011899179009'}, {'id': '75094', 'topic_name': 'Linear Programming', 'course_id': '912607011899179009'}, {'id': '76147', 'topic_name': 'Gambling', 'course_id': '912607011899179009'}, {'id': '85963', 'topic_name': 'Algorithms', 'course_id': '912607011899179009'}, {'id': '87372', 'topic_name': 'Dynamic Programming', 'course_id': '912607011899179009'}, {'id': '98161', 'topic_name': 'Zero-Sum Games', 'course_id': '912607011899179009'}]\n",
      "[{'id': '10236', 'topic_name': 'Greedy Algorithms', 'course_id': '912607011899179009'}, {'id': '14113', 'topic_name': 'Approximation Algorithms', 'course_id': '912607011899179009'}, {'id': '18478', 'topic_name': 'Randomized Algorithms', 'course_id': '912607011899179009'}, {'id': '21049', 'topic_name': 'Factoring Numbers via Circuit SAT', 'course_id': '912607011899179009'}, {'id': '21100', 'topic_name': 'Finding Bridges', 'course_id': '912607011899179009'}, {'id': '23509', 'topic_name': 'Hashing', 'course_id': '912607011899179009'}, {'id': '30573', 'topic_name': 'Updating Distances', 'course_id': '912607011899179009'}, {'id': '30898', 'topic_name': 'Vertex Cover', 'course_id': '912607011899179009'}, {'id': '60460', 'topic_name': 'Complete the sentences', 'course_id': '912607011899179009'}, {'id': '61239', 'topic_name': 'Find the satisfying one', 'course_id': '912607011899179009'}, {'id': '62106', 'topic_name': 'Maximum Flow', 'course_id': '912607011899179009'}, {'id': '62601', 'topic_name': 'Roadside Assistance', 'course_id': '912607011899179009'}, {'id': '63544', 'topic_name': 'Minimum Spanning Tree', 'course_id': '912607011899179009'}, {'id': '65251', 'topic_name': 'Reductions, Bipartite Matching', 'course_id': '912607011899179009'}, {'id': '66431', 'topic_name': 'Introduction Big-O Notation and Arithmetic', 'course_id': '912607011899179009'}, {'id': '73874', 'topic_name': 'Divide-and-Conquer', 'course_id': '912607011899179009'}, {'id': '75094', 'topic_name': 'Linear Programming', 'course_id': '912607011899179009'}, {'id': '76147', 'topic_name': 'Gambling', 'course_id': '912607011899179009'}, {'id': '85963', 'topic_name': 'Algorithms', 'course_id': '912607011899179009'}, {'id': '87372', 'topic_name': 'Dynamic Programming', 'course_id': '912607011899179009'}, {'id': '98161', 'topic_name': 'Zero-Sum Games', 'course_id': '912607011899179009'}]\n"
     ]
    },
    {
     "name": "stdout",
     "output_type": "stream",
     "text": [
      "[{'id': '10236', 'topic_name': 'Greedy Algorithms', 'course_id': '912607011899179009'}, {'id': '14113', 'topic_name': 'Approximation Algorithms', 'course_id': '912607011899179009'}, {'id': '18478', 'topic_name': 'Randomized Algorithms', 'course_id': '912607011899179009'}, {'id': '21049', 'topic_name': 'Factoring Numbers via Circuit SAT', 'course_id': '912607011899179009'}, {'id': '21100', 'topic_name': 'Finding Bridges', 'course_id': '912607011899179009'}, {'id': '23509', 'topic_name': 'Hashing', 'course_id': '912607011899179009'}, {'id': '30573', 'topic_name': 'Updating Distances', 'course_id': '912607011899179009'}, {'id': '30898', 'topic_name': 'Vertex Cover', 'course_id': '912607011899179009'}, {'id': '60460', 'topic_name': 'Complete the sentences', 'course_id': '912607011899179009'}, {'id': '61239', 'topic_name': 'Find the satisfying one', 'course_id': '912607011899179009'}, {'id': '62106', 'topic_name': 'Maximum Flow', 'course_id': '912607011899179009'}, {'id': '62601', 'topic_name': 'Roadside Assistance', 'course_id': '912607011899179009'}, {'id': '63544', 'topic_name': 'Minimum Spanning Tree', 'course_id': '912607011899179009'}, {'id': '65251', 'topic_name': 'Reductions, Bipartite Matching', 'course_id': '912607011899179009'}, {'id': '66431', 'topic_name': 'Introduction Big-O Notation and Arithmetic', 'course_id': '912607011899179009'}, {'id': '73874', 'topic_name': 'Divide-and-Conquer', 'course_id': '912607011899179009'}, {'id': '75094', 'topic_name': 'Linear Programming', 'course_id': '912607011899179009'}, {'id': '76147', 'topic_name': 'Gambling', 'course_id': '912607011899179009'}, {'id': '85963', 'topic_name': 'Algorithms', 'course_id': '912607011899179009'}, {'id': '87372', 'topic_name': 'Dynamic Programming', 'course_id': '912607011899179009'}, {'id': '91030', 'topic_name': 'True or False?', 'course_id': '912607011899179009'}, {'id': '98161', 'topic_name': 'Zero-Sum Games', 'course_id': '912607011899179009'}]\n",
      "[{'id': '10236', 'topic_name': 'Greedy Algorithms', 'course_id': '912607011899179009'}, {'id': '14113', 'topic_name': 'Approximation Algorithms', 'course_id': '912607011899179009'}, {'id': '18478', 'topic_name': 'Randomized Algorithms', 'course_id': '912607011899179009'}, {'id': '21049', 'topic_name': 'Factoring Numbers via Circuit SAT', 'course_id': '912607011899179009'}, {'id': '21100', 'topic_name': 'Finding Bridges', 'course_id': '912607011899179009'}, {'id': '23509', 'topic_name': 'Hashing', 'course_id': '912607011899179009'}, {'id': '30573', 'topic_name': 'Updating Distances', 'course_id': '912607011899179009'}, {'id': '30898', 'topic_name': 'Vertex Cover', 'course_id': '912607011899179009'}, {'id': '60460', 'topic_name': 'Complete the sentences', 'course_id': '912607011899179009'}, {'id': '61239', 'topic_name': 'Find the satisfying one', 'course_id': '912607011899179009'}, {'id': '62106', 'topic_name': 'Maximum Flow', 'course_id': '912607011899179009'}, {'id': '62601', 'topic_name': 'Roadside Assistance', 'course_id': '912607011899179009'}, {'id': '63544', 'topic_name': 'Minimum Spanning Tree', 'course_id': '912607011899179009'}, {'id': '65251', 'topic_name': 'Reductions, Bipartite Matching', 'course_id': '912607011899179009'}, {'id': '66431', 'topic_name': 'Introduction Big-O Notation and Arithmetic', 'course_id': '912607011899179009'}, {'id': '73874', 'topic_name': 'Divide-and-Conquer', 'course_id': '912607011899179009'}, {'id': '75084', 'topic_name': 'True or False or Maybe..?', 'course_id': '912607011899179009'}, {'id': '75094', 'topic_name': 'Linear Programming', 'course_id': '912607011899179009'}, {'id': '76147', 'topic_name': 'Gambling', 'course_id': '912607011899179009'}, {'id': '85963', 'topic_name': 'Algorithms', 'course_id': '912607011899179009'}, {'id': '87372', 'topic_name': 'Dynamic Programming', 'course_id': '912607011899179009'}, {'id': '91030', 'topic_name': 'True or False?', 'course_id': '912607011899179009'}, {'id': '98161', 'topic_name': 'Zero-Sum Games', 'course_id': '912607011899179009'}]\n",
      "[{'id': '10236', 'topic_name': 'Greedy Algorithms', 'course_id': '912607011899179009'}, {'id': '14113', 'topic_name': 'Approximation Algorithms', 'course_id': '912607011899179009'}, {'id': '18478', 'topic_name': 'Randomized Algorithms', 'course_id': '912607011899179009'}, {'id': '21049', 'topic_name': 'Factoring Numbers via Circuit SAT', 'course_id': '912607011899179009'}, {'id': '21100', 'topic_name': 'Finding Bridges', 'course_id': '912607011899179009'}, {'id': '23509', 'topic_name': 'Hashing', 'course_id': '912607011899179009'}, {'id': '30573', 'topic_name': 'Updating Distances', 'course_id': '912607011899179009'}, {'id': '30898', 'topic_name': 'Vertex Cover', 'course_id': '912607011899179009'}, {'id': '32666', 'topic_name': 'NP-completeness', 'course_id': '912607011899179009'}, {'id': '60460', 'topic_name': 'Complete the sentences', 'course_id': '912607011899179009'}, {'id': '61239', 'topic_name': 'Find the satisfying one', 'course_id': '912607011899179009'}, {'id': '62106', 'topic_name': 'Maximum Flow', 'course_id': '912607011899179009'}, {'id': '62601', 'topic_name': 'Roadside Assistance', 'course_id': '912607011899179009'}, {'id': '63544', 'topic_name': 'Minimum Spanning Tree', 'course_id': '912607011899179009'}, {'id': '65251', 'topic_name': 'Reductions, Bipartite Matching', 'course_id': '912607011899179009'}, {'id': '66431', 'topic_name': 'Introduction Big-O Notation and Arithmetic', 'course_id': '912607011899179009'}, {'id': '73874', 'topic_name': 'Divide-and-Conquer', 'course_id': '912607011899179009'}, {'id': '75084', 'topic_name': 'True or False or Maybe..?', 'course_id': '912607011899179009'}, {'id': '75094', 'topic_name': 'Linear Programming', 'course_id': '912607011899179009'}, {'id': '76147', 'topic_name': 'Gambling', 'course_id': '912607011899179009'}, {'id': '85963', 'topic_name': 'Algorithms', 'course_id': '912607011899179009'}, {'id': '87372', 'topic_name': 'Dynamic Programming', 'course_id': '912607011899179009'}, {'id': '91030', 'topic_name': 'True or False?', 'course_id': '912607011899179009'}, {'id': '98161', 'topic_name': 'Zero-Sum Games', 'course_id': '912607011899179009'}]\n",
      "[{'id': '10236', 'topic_name': 'Greedy Algorithms', 'course_id': '912607011899179009'}, {'id': '14113', 'topic_name': 'Approximation Algorithms', 'course_id': '912607011899179009'}, {'id': '18478', 'topic_name': 'Randomized Algorithms', 'course_id': '912607011899179009'}, {'id': '21049', 'topic_name': 'Factoring Numbers via Circuit SAT', 'course_id': '912607011899179009'}, {'id': '21100', 'topic_name': 'Finding Bridges', 'course_id': '912607011899179009'}, {'id': '23509', 'topic_name': 'Hashing', 'course_id': '912607011899179009'}, {'id': '30573', 'topic_name': 'Updating Distances', 'course_id': '912607011899179009'}, {'id': '30898', 'topic_name': 'Vertex Cover', 'course_id': '912607011899179009'}, {'id': '32666', 'topic_name': 'NP-completeness', 'course_id': '912607011899179009'}, {'id': '37006', 'topic_name': 'Strongly Connected Components', 'course_id': '912607011899179009'}, {'id': '60460', 'topic_name': 'Complete the sentences', 'course_id': '912607011899179009'}, {'id': '61239', 'topic_name': 'Find the satisfying one', 'course_id': '912607011899179009'}, {'id': '62106', 'topic_name': 'Maximum Flow', 'course_id': '912607011899179009'}, {'id': '62601', 'topic_name': 'Roadside Assistance', 'course_id': '912607011899179009'}, {'id': '63544', 'topic_name': 'Minimum Spanning Tree', 'course_id': '912607011899179009'}, {'id': '65251', 'topic_name': 'Reductions, Bipartite Matching', 'course_id': '912607011899179009'}, {'id': '66431', 'topic_name': 'Introduction Big-O Notation and Arithmetic', 'course_id': '912607011899179009'}, {'id': '73874', 'topic_name': 'Divide-and-Conquer', 'course_id': '912607011899179009'}, {'id': '75084', 'topic_name': 'True or False or Maybe..?', 'course_id': '912607011899179009'}, {'id': '75094', 'topic_name': 'Linear Programming', 'course_id': '912607011899179009'}, {'id': '76147', 'topic_name': 'Gambling', 'course_id': '912607011899179009'}, {'id': '85963', 'topic_name': 'Algorithms', 'course_id': '912607011899179009'}, {'id': '87372', 'topic_name': 'Dynamic Programming', 'course_id': '912607011899179009'}, {'id': '91030', 'topic_name': 'True or False?', 'course_id': '912607011899179009'}, {'id': '98161', 'topic_name': 'Zero-Sum Games', 'course_id': '912607011899179009'}]\n"
     ]
    },
    {
     "name": "stdout",
     "output_type": "stream",
     "text": [
      "[{'id': '10236', 'topic_name': 'Greedy Algorithms', 'course_id': '912607011899179009'}, {'id': '14113', 'topic_name': 'Approximation Algorithms', 'course_id': '912607011899179009'}, {'id': '18478', 'topic_name': 'Randomized Algorithms', 'course_id': '912607011899179009'}, {'id': '21049', 'topic_name': 'Factoring Numbers via Circuit SAT', 'course_id': '912607011899179009'}, {'id': '21100', 'topic_name': 'Finding Bridges', 'course_id': '912607011899179009'}, {'id': '23509', 'topic_name': 'Hashing', 'course_id': '912607011899179009'}, {'id': '30573', 'topic_name': 'Updating Distances', 'course_id': '912607011899179009'}, {'id': '30898', 'topic_name': 'Vertex Cover', 'course_id': '912607011899179009'}, {'id': '32666', 'topic_name': 'NP-completeness', 'course_id': '912607011899179009'}, {'id': '37006', 'topic_name': 'Strongly Connected Components', 'course_id': '912607011899179009'}, {'id': '60460', 'topic_name': 'Complete the sentences', 'course_id': '912607011899179009'}, {'id': '61239', 'topic_name': 'Find the satisfying one', 'course_id': '912607011899179009'}, {'id': '62106', 'topic_name': 'Maximum Flow', 'course_id': '912607011899179009'}, {'id': '62601', 'topic_name': 'Roadside Assistance', 'course_id': '912607011899179009'}, {'id': '63544', 'topic_name': 'Minimum Spanning Tree', 'course_id': '912607011899179009'}, {'id': '65251', 'topic_name': 'Reductions, Bipartite Matching', 'course_id': '912607011899179009'}, {'id': '66431', 'topic_name': 'Introduction Big-O Notation and Arithmetic', 'course_id': '912607011899179009'}, {'id': '73874', 'topic_name': 'Divide-and-Conquer', 'course_id': '912607011899179009'}, {'id': '75084', 'topic_name': 'True or False or Maybe..?', 'course_id': '912607011899179009'}, {'id': '75094', 'topic_name': 'Linear Programming', 'course_id': '912607011899179009'}, {'id': '76147', 'topic_name': 'Gambling', 'course_id': '912607011899179009'}, {'id': '85963', 'topic_name': 'Algorithms', 'course_id': '912607011899179009'}, {'id': '87372', 'topic_name': 'Dynamic Programming', 'course_id': '912607011899179009'}, {'id': '87528', 'topic_name': 'Graphs and DFS', 'course_id': '912607011899179009'}, {'id': '91030', 'topic_name': 'True or False?', 'course_id': '912607011899179009'}, {'id': '98161', 'topic_name': 'Zero-Sum Games', 'course_id': '912607011899179009'}]\n",
      "Graphs and DFS topic already exists\n",
      "[{'id': '10236', 'topic_name': 'Greedy Algorithms', 'course_id': '912607011899179009'}, {'id': '14113', 'topic_name': 'Approximation Algorithms', 'course_id': '912607011899179009'}, {'id': '18478', 'topic_name': 'Randomized Algorithms', 'course_id': '912607011899179009'}, {'id': '21049', 'topic_name': 'Factoring Numbers via Circuit SAT', 'course_id': '912607011899179009'}, {'id': '21100', 'topic_name': 'Finding Bridges', 'course_id': '912607011899179009'}, {'id': '23509', 'topic_name': 'Hashing', 'course_id': '912607011899179009'}, {'id': '30573', 'topic_name': 'Updating Distances', 'course_id': '912607011899179009'}, {'id': '30898', 'topic_name': 'Vertex Cover', 'course_id': '912607011899179009'}, {'id': '32666', 'topic_name': 'NP-completeness', 'course_id': '912607011899179009'}, {'id': '37006', 'topic_name': 'Strongly Connected Components', 'course_id': '912607011899179009'}, {'id': '60460', 'topic_name': 'Complete the sentences', 'course_id': '912607011899179009'}, {'id': '61239', 'topic_name': 'Find the satisfying one', 'course_id': '912607011899179009'}, {'id': '62106', 'topic_name': 'Maximum Flow', 'course_id': '912607011899179009'}, {'id': '62601', 'topic_name': 'Roadside Assistance', 'course_id': '912607011899179009'}, {'id': '63544', 'topic_name': 'Minimum Spanning Tree', 'course_id': '912607011899179009'}, {'id': '65251', 'topic_name': 'Reductions, Bipartite Matching', 'course_id': '912607011899179009'}, {'id': '66431', 'topic_name': 'Introduction Big-O Notation and Arithmetic', 'course_id': '912607011899179009'}, {'id': '73874', 'topic_name': 'Divide-and-Conquer', 'course_id': '912607011899179009'}, {'id': '75084', 'topic_name': 'True or False or Maybe..?', 'course_id': '912607011899179009'}, {'id': '75094', 'topic_name': 'Linear Programming', 'course_id': '912607011899179009'}, {'id': '76147', 'topic_name': 'Gambling', 'course_id': '912607011899179009'}, {'id': '85963', 'topic_name': 'Algorithms', 'course_id': '912607011899179009'}, {'id': '87372', 'topic_name': 'Dynamic Programming', 'course_id': '912607011899179009'}, {'id': '87528', 'topic_name': 'Graphs and DFS', 'course_id': '912607011899179009'}, {'id': '91030', 'topic_name': 'True or False?', 'course_id': '912607011899179009'}, {'id': '98161', 'topic_name': 'Zero-Sum Games', 'course_id': '912607011899179009'}]\n",
      "Graphs and DFS topic already exists\n",
      "[{'id': '10236', 'topic_name': 'Greedy Algorithms', 'course_id': '912607011899179009'}, {'id': '14113', 'topic_name': 'Approximation Algorithms', 'course_id': '912607011899179009'}, {'id': '18478', 'topic_name': 'Randomized Algorithms', 'course_id': '912607011899179009'}, {'id': '21049', 'topic_name': 'Factoring Numbers via Circuit SAT', 'course_id': '912607011899179009'}, {'id': '21100', 'topic_name': 'Finding Bridges', 'course_id': '912607011899179009'}, {'id': '23509', 'topic_name': 'Hashing', 'course_id': '912607011899179009'}, {'id': '30573', 'topic_name': 'Updating Distances', 'course_id': '912607011899179009'}, {'id': '30898', 'topic_name': 'Vertex Cover', 'course_id': '912607011899179009'}, {'id': '32666', 'topic_name': 'NP-completeness', 'course_id': '912607011899179009'}, {'id': '37006', 'topic_name': 'Strongly Connected Components', 'course_id': '912607011899179009'}, {'id': '60460', 'topic_name': 'Complete the sentences', 'course_id': '912607011899179009'}, {'id': '61239', 'topic_name': 'Find the satisfying one', 'course_id': '912607011899179009'}, {'id': '62106', 'topic_name': 'Maximum Flow', 'course_id': '912607011899179009'}, {'id': '62601', 'topic_name': 'Roadside Assistance', 'course_id': '912607011899179009'}, {'id': '63544', 'topic_name': 'Minimum Spanning Tree', 'course_id': '912607011899179009'}, {'id': '65251', 'topic_name': 'Reductions, Bipartite Matching', 'course_id': '912607011899179009'}, {'id': '66431', 'topic_name': 'Introduction Big-O Notation and Arithmetic', 'course_id': '912607011899179009'}, {'id': '73874', 'topic_name': 'Divide-and-Conquer', 'course_id': '912607011899179009'}, {'id': '75084', 'topic_name': 'True or False or Maybe..?', 'course_id': '912607011899179009'}, {'id': '75094', 'topic_name': 'Linear Programming', 'course_id': '912607011899179009'}, {'id': '76147', 'topic_name': 'Gambling', 'course_id': '912607011899179009'}, {'id': '85963', 'topic_name': 'Algorithms', 'course_id': '912607011899179009'}, {'id': '87372', 'topic_name': 'Dynamic Programming', 'course_id': '912607011899179009'}, {'id': '87528', 'topic_name': 'Graphs and DFS', 'course_id': '912607011899179009'}, {'id': '91030', 'topic_name': 'True or False?', 'course_id': '912607011899179009'}, {'id': '98161', 'topic_name': 'Zero-Sum Games', 'course_id': '912607011899179009'}]\n",
      "Divide-and-Conquer topic already exists\n",
      "[{'id': '10236', 'topic_name': 'Greedy Algorithms', 'course_id': '912607011899179009'}, {'id': '14113', 'topic_name': 'Approximation Algorithms', 'course_id': '912607011899179009'}, {'id': '18478', 'topic_name': 'Randomized Algorithms', 'course_id': '912607011899179009'}, {'id': '21049', 'topic_name': 'Factoring Numbers via Circuit SAT', 'course_id': '912607011899179009'}, {'id': '21100', 'topic_name': 'Finding Bridges', 'course_id': '912607011899179009'}, {'id': '23509', 'topic_name': 'Hashing', 'course_id': '912607011899179009'}, {'id': '30573', 'topic_name': 'Updating Distances', 'course_id': '912607011899179009'}, {'id': '30898', 'topic_name': 'Vertex Cover', 'course_id': '912607011899179009'}, {'id': '32666', 'topic_name': 'NP-completeness', 'course_id': '912607011899179009'}, {'id': '37006', 'topic_name': 'Strongly Connected Components', 'course_id': '912607011899179009'}, {'id': '60460', 'topic_name': 'Complete the sentences', 'course_id': '912607011899179009'}, {'id': '61239', 'topic_name': 'Find the satisfying one', 'course_id': '912607011899179009'}, {'id': '62106', 'topic_name': 'Maximum Flow', 'course_id': '912607011899179009'}, {'id': '62601', 'topic_name': 'Roadside Assistance', 'course_id': '912607011899179009'}, {'id': '63544', 'topic_name': 'Minimum Spanning Tree', 'course_id': '912607011899179009'}, {'id': '65251', 'topic_name': 'Reductions, Bipartite Matching', 'course_id': '912607011899179009'}, {'id': '66431', 'topic_name': 'Introduction Big-O Notation and Arithmetic', 'course_id': '912607011899179009'}, {'id': '73874', 'topic_name': 'Divide-and-Conquer', 'course_id': '912607011899179009'}, {'id': '75084', 'topic_name': 'True or False or Maybe..?', 'course_id': '912607011899179009'}, {'id': '75094', 'topic_name': 'Linear Programming', 'course_id': '912607011899179009'}, {'id': '76147', 'topic_name': 'Gambling', 'course_id': '912607011899179009'}, {'id': '85963', 'topic_name': 'Algorithms', 'course_id': '912607011899179009'}, {'id': '87372', 'topic_name': 'Dynamic Programming', 'course_id': '912607011899179009'}, {'id': '87528', 'topic_name': 'Graphs and DFS', 'course_id': '912607011899179009'}, {'id': '91030', 'topic_name': 'True or False?', 'course_id': '912607011899179009'}, {'id': '98161', 'topic_name': 'Zero-Sum Games', 'course_id': '912607011899179009'}]\n",
      "Reductions, Bipartite Matching topic already exists\n"
     ]
    },
    {
     "name": "stdout",
     "output_type": "stream",
     "text": [
      "[{'id': '10236', 'topic_name': 'Greedy Algorithms', 'course_id': '912607011899179009'}, {'id': '14113', 'topic_name': 'Approximation Algorithms', 'course_id': '912607011899179009'}, {'id': '18478', 'topic_name': 'Randomized Algorithms', 'course_id': '912607011899179009'}, {'id': '21049', 'topic_name': 'Factoring Numbers via Circuit SAT', 'course_id': '912607011899179009'}, {'id': '21100', 'topic_name': 'Finding Bridges', 'course_id': '912607011899179009'}, {'id': '23509', 'topic_name': 'Hashing', 'course_id': '912607011899179009'}, {'id': '30573', 'topic_name': 'Updating Distances', 'course_id': '912607011899179009'}, {'id': '30898', 'topic_name': 'Vertex Cover', 'course_id': '912607011899179009'}, {'id': '32666', 'topic_name': 'NP-completeness', 'course_id': '912607011899179009'}, {'id': '37006', 'topic_name': 'Strongly Connected Components', 'course_id': '912607011899179009'}, {'id': '60460', 'topic_name': 'Complete the sentences', 'course_id': '912607011899179009'}, {'id': '61239', 'topic_name': 'Find the satisfying one', 'course_id': '912607011899179009'}, {'id': '62106', 'topic_name': 'Maximum Flow', 'course_id': '912607011899179009'}, {'id': '62601', 'topic_name': 'Roadside Assistance', 'course_id': '912607011899179009'}, {'id': '63544', 'topic_name': 'Minimum Spanning Tree', 'course_id': '912607011899179009'}, {'id': '65251', 'topic_name': 'Reductions, Bipartite Matching', 'course_id': '912607011899179009'}, {'id': '66431', 'topic_name': 'Introduction Big-O Notation and Arithmetic', 'course_id': '912607011899179009'}, {'id': '73874', 'topic_name': 'Divide-and-Conquer', 'course_id': '912607011899179009'}, {'id': '75084', 'topic_name': 'True or False or Maybe..?', 'course_id': '912607011899179009'}, {'id': '75094', 'topic_name': 'Linear Programming', 'course_id': '912607011899179009'}, {'id': '76147', 'topic_name': 'Gambling', 'course_id': '912607011899179009'}, {'id': '85963', 'topic_name': 'Algorithms', 'course_id': '912607011899179009'}, {'id': '87372', 'topic_name': 'Dynamic Programming', 'course_id': '912607011899179009'}, {'id': '87528', 'topic_name': 'Graphs and DFS', 'course_id': '912607011899179009'}, {'id': '91030', 'topic_name': 'True or False?', 'course_id': '912607011899179009'}, {'id': '98161', 'topic_name': 'Zero-Sum Games', 'course_id': '912607011899179009'}]\n",
      "[{'id': '10236', 'topic_name': 'Greedy Algorithms', 'course_id': '912607011899179009'}, {'id': '14113', 'topic_name': 'Approximation Algorithms', 'course_id': '912607011899179009'}, {'id': '18478', 'topic_name': 'Randomized Algorithms', 'course_id': '912607011899179009'}, {'id': '20882', 'topic_name': 'NP-Completeness', 'course_id': '912607011899179009'}, {'id': '21049', 'topic_name': 'Factoring Numbers via Circuit SAT', 'course_id': '912607011899179009'}, {'id': '21100', 'topic_name': 'Finding Bridges', 'course_id': '912607011899179009'}, {'id': '23509', 'topic_name': 'Hashing', 'course_id': '912607011899179009'}, {'id': '30573', 'topic_name': 'Updating Distances', 'course_id': '912607011899179009'}, {'id': '30898', 'topic_name': 'Vertex Cover', 'course_id': '912607011899179009'}, {'id': '32666', 'topic_name': 'NP-completeness', 'course_id': '912607011899179009'}, {'id': '37006', 'topic_name': 'Strongly Connected Components', 'course_id': '912607011899179009'}, {'id': '60460', 'topic_name': 'Complete the sentences', 'course_id': '912607011899179009'}, {'id': '61239', 'topic_name': 'Find the satisfying one', 'course_id': '912607011899179009'}, {'id': '62106', 'topic_name': 'Maximum Flow', 'course_id': '912607011899179009'}, {'id': '62601', 'topic_name': 'Roadside Assistance', 'course_id': '912607011899179009'}, {'id': '63544', 'topic_name': 'Minimum Spanning Tree', 'course_id': '912607011899179009'}, {'id': '65251', 'topic_name': 'Reductions, Bipartite Matching', 'course_id': '912607011899179009'}, {'id': '66431', 'topic_name': 'Introduction Big-O Notation and Arithmetic', 'course_id': '912607011899179009'}, {'id': '73874', 'topic_name': 'Divide-and-Conquer', 'course_id': '912607011899179009'}, {'id': '75084', 'topic_name': 'True or False or Maybe..?', 'course_id': '912607011899179009'}, {'id': '75094', 'topic_name': 'Linear Programming', 'course_id': '912607011899179009'}, {'id': '76147', 'topic_name': 'Gambling', 'course_id': '912607011899179009'}, {'id': '85963', 'topic_name': 'Algorithms', 'course_id': '912607011899179009'}, {'id': '87372', 'topic_name': 'Dynamic Programming', 'course_id': '912607011899179009'}, {'id': '87528', 'topic_name': 'Graphs and DFS', 'course_id': '912607011899179009'}, {'id': '91030', 'topic_name': 'True or False?', 'course_id': '912607011899179009'}, {'id': '98161', 'topic_name': 'Zero-Sum Games', 'course_id': '912607011899179009'}]\n",
      "Zero-Sum Games topic already exists\n",
      "[{'id': '10236', 'topic_name': 'Greedy Algorithms', 'course_id': '912607011899179009'}, {'id': '14113', 'topic_name': 'Approximation Algorithms', 'course_id': '912607011899179009'}, {'id': '18478', 'topic_name': 'Randomized Algorithms', 'course_id': '912607011899179009'}, {'id': '20882', 'topic_name': 'NP-Completeness', 'course_id': '912607011899179009'}, {'id': '21049', 'topic_name': 'Factoring Numbers via Circuit SAT', 'course_id': '912607011899179009'}, {'id': '21100', 'topic_name': 'Finding Bridges', 'course_id': '912607011899179009'}, {'id': '23509', 'topic_name': 'Hashing', 'course_id': '912607011899179009'}, {'id': '30573', 'topic_name': 'Updating Distances', 'course_id': '912607011899179009'}, {'id': '30898', 'topic_name': 'Vertex Cover', 'course_id': '912607011899179009'}, {'id': '32666', 'topic_name': 'NP-completeness', 'course_id': '912607011899179009'}, {'id': '37006', 'topic_name': 'Strongly Connected Components', 'course_id': '912607011899179009'}, {'id': '60460', 'topic_name': 'Complete the sentences', 'course_id': '912607011899179009'}, {'id': '61239', 'topic_name': 'Find the satisfying one', 'course_id': '912607011899179009'}, {'id': '62106', 'topic_name': 'Maximum Flow', 'course_id': '912607011899179009'}, {'id': '62601', 'topic_name': 'Roadside Assistance', 'course_id': '912607011899179009'}, {'id': '63544', 'topic_name': 'Minimum Spanning Tree', 'course_id': '912607011899179009'}, {'id': '65251', 'topic_name': 'Reductions, Bipartite Matching', 'course_id': '912607011899179009'}, {'id': '66431', 'topic_name': 'Introduction Big-O Notation and Arithmetic', 'course_id': '912607011899179009'}, {'id': '73874', 'topic_name': 'Divide-and-Conquer', 'course_id': '912607011899179009'}, {'id': '75084', 'topic_name': 'True or False or Maybe..?', 'course_id': '912607011899179009'}, {'id': '75094', 'topic_name': 'Linear Programming', 'course_id': '912607011899179009'}, {'id': '76147', 'topic_name': 'Gambling', 'course_id': '912607011899179009'}, {'id': '85963', 'topic_name': 'Algorithms', 'course_id': '912607011899179009'}, {'id': '87372', 'topic_name': 'Dynamic Programming', 'course_id': '912607011899179009'}, {'id': '87528', 'topic_name': 'Graphs and DFS', 'course_id': '912607011899179009'}, {'id': '91030', 'topic_name': 'True or False?', 'course_id': '912607011899179009'}, {'id': '98161', 'topic_name': 'Zero-Sum Games', 'course_id': '912607011899179009'}]\n",
      "NP-Completeness topic already exists\n",
      "[{'id': '10236', 'topic_name': 'Greedy Algorithms', 'course_id': '912607011899179009'}, {'id': '14113', 'topic_name': 'Approximation Algorithms', 'course_id': '912607011899179009'}, {'id': '18478', 'topic_name': 'Randomized Algorithms', 'course_id': '912607011899179009'}, {'id': '20882', 'topic_name': 'NP-Completeness', 'course_id': '912607011899179009'}, {'id': '21049', 'topic_name': 'Factoring Numbers via Circuit SAT', 'course_id': '912607011899179009'}, {'id': '21100', 'topic_name': 'Finding Bridges', 'course_id': '912607011899179009'}, {'id': '23509', 'topic_name': 'Hashing', 'course_id': '912607011899179009'}, {'id': '30573', 'topic_name': 'Updating Distances', 'course_id': '912607011899179009'}, {'id': '30898', 'topic_name': 'Vertex Cover', 'course_id': '912607011899179009'}, {'id': '32666', 'topic_name': 'NP-completeness', 'course_id': '912607011899179009'}, {'id': '37006', 'topic_name': 'Strongly Connected Components', 'course_id': '912607011899179009'}, {'id': '60460', 'topic_name': 'Complete the sentences', 'course_id': '912607011899179009'}, {'id': '61239', 'topic_name': 'Find the satisfying one', 'course_id': '912607011899179009'}, {'id': '62106', 'topic_name': 'Maximum Flow', 'course_id': '912607011899179009'}, {'id': '62601', 'topic_name': 'Roadside Assistance', 'course_id': '912607011899179009'}, {'id': '63544', 'topic_name': 'Minimum Spanning Tree', 'course_id': '912607011899179009'}, {'id': '65251', 'topic_name': 'Reductions, Bipartite Matching', 'course_id': '912607011899179009'}, {'id': '66431', 'topic_name': 'Introduction Big-O Notation and Arithmetic', 'course_id': '912607011899179009'}, {'id': '73874', 'topic_name': 'Divide-and-Conquer', 'course_id': '912607011899179009'}, {'id': '75084', 'topic_name': 'True or False or Maybe..?', 'course_id': '912607011899179009'}, {'id': '75094', 'topic_name': 'Linear Programming', 'course_id': '912607011899179009'}, {'id': '76147', 'topic_name': 'Gambling', 'course_id': '912607011899179009'}, {'id': '85963', 'topic_name': 'Algorithms', 'course_id': '912607011899179009'}, {'id': '87372', 'topic_name': 'Dynamic Programming', 'course_id': '912607011899179009'}, {'id': '87528', 'topic_name': 'Graphs and DFS', 'course_id': '912607011899179009'}, {'id': '91030', 'topic_name': 'True or False?', 'course_id': '912607011899179009'}, {'id': '98161', 'topic_name': 'Zero-Sum Games', 'course_id': '912607011899179009'}]\n"
     ]
    },
    {
     "name": "stdout",
     "output_type": "stream",
     "text": [
      "[{'id': '10236', 'topic_name': 'Greedy Algorithms', 'course_id': '912607011899179009'}, {'id': '14113', 'topic_name': 'Approximation Algorithms', 'course_id': '912607011899179009'}, {'id': '18478', 'topic_name': 'Randomized Algorithms', 'course_id': '912607011899179009'}, {'id': '20882', 'topic_name': 'NP-Completeness', 'course_id': '912607011899179009'}, {'id': '21049', 'topic_name': 'Factoring Numbers via Circuit SAT', 'course_id': '912607011899179009'}, {'id': '21100', 'topic_name': 'Finding Bridges', 'course_id': '912607011899179009'}, {'id': '23509', 'topic_name': 'Hashing', 'course_id': '912607011899179009'}, {'id': '30573', 'topic_name': 'Updating Distances', 'course_id': '912607011899179009'}, {'id': '30898', 'topic_name': 'Vertex Cover', 'course_id': '912607011899179009'}, {'id': '32240', 'topic_name': 'Paths in Graphs', 'course_id': '912607011899179009'}, {'id': '32666', 'topic_name': 'NP-completeness', 'course_id': '912607011899179009'}, {'id': '37006', 'topic_name': 'Strongly Connected Components', 'course_id': '912607011899179009'}, {'id': '60460', 'topic_name': 'Complete the sentences', 'course_id': '912607011899179009'}, {'id': '61239', 'topic_name': 'Find the satisfying one', 'course_id': '912607011899179009'}, {'id': '62106', 'topic_name': 'Maximum Flow', 'course_id': '912607011899179009'}, {'id': '62601', 'topic_name': 'Roadside Assistance', 'course_id': '912607011899179009'}, {'id': '63544', 'topic_name': 'Minimum Spanning Tree', 'course_id': '912607011899179009'}, {'id': '65251', 'topic_name': 'Reductions, Bipartite Matching', 'course_id': '912607011899179009'}, {'id': '66431', 'topic_name': 'Introduction Big-O Notation and Arithmetic', 'course_id': '912607011899179009'}, {'id': '73874', 'topic_name': 'Divide-and-Conquer', 'course_id': '912607011899179009'}, {'id': '75084', 'topic_name': 'True or False or Maybe..?', 'course_id': '912607011899179009'}, {'id': '75094', 'topic_name': 'Linear Programming', 'course_id': '912607011899179009'}, {'id': '76147', 'topic_name': 'Gambling', 'course_id': '912607011899179009'}, {'id': '85963', 'topic_name': 'Algorithms', 'course_id': '912607011899179009'}, {'id': '87372', 'topic_name': 'Dynamic Programming', 'course_id': '912607011899179009'}, {'id': '87528', 'topic_name': 'Graphs and DFS', 'course_id': '912607011899179009'}, {'id': '91030', 'topic_name': 'True or False?', 'course_id': '912607011899179009'}, {'id': '98161', 'topic_name': 'Zero-Sum Games', 'course_id': '912607011899179009'}]\n",
      "Graphs and DFS topic already exists\n",
      "[{'id': '10236', 'topic_name': 'Greedy Algorithms', 'course_id': '912607011899179009'}, {'id': '14113', 'topic_name': 'Approximation Algorithms', 'course_id': '912607011899179009'}, {'id': '18478', 'topic_name': 'Randomized Algorithms', 'course_id': '912607011899179009'}, {'id': '20882', 'topic_name': 'NP-Completeness', 'course_id': '912607011899179009'}, {'id': '21049', 'topic_name': 'Factoring Numbers via Circuit SAT', 'course_id': '912607011899179009'}, {'id': '21100', 'topic_name': 'Finding Bridges', 'course_id': '912607011899179009'}, {'id': '23509', 'topic_name': 'Hashing', 'course_id': '912607011899179009'}, {'id': '30573', 'topic_name': 'Updating Distances', 'course_id': '912607011899179009'}, {'id': '30898', 'topic_name': 'Vertex Cover', 'course_id': '912607011899179009'}, {'id': '32240', 'topic_name': 'Paths in Graphs', 'course_id': '912607011899179009'}, {'id': '32666', 'topic_name': 'NP-completeness', 'course_id': '912607011899179009'}, {'id': '37006', 'topic_name': 'Strongly Connected Components', 'course_id': '912607011899179009'}, {'id': '60460', 'topic_name': 'Complete the sentences', 'course_id': '912607011899179009'}, {'id': '61239', 'topic_name': 'Find the satisfying one', 'course_id': '912607011899179009'}, {'id': '62106', 'topic_name': 'Maximum Flow', 'course_id': '912607011899179009'}, {'id': '62601', 'topic_name': 'Roadside Assistance', 'course_id': '912607011899179009'}, {'id': '63544', 'topic_name': 'Minimum Spanning Tree', 'course_id': '912607011899179009'}, {'id': '65251', 'topic_name': 'Reductions, Bipartite Matching', 'course_id': '912607011899179009'}, {'id': '66431', 'topic_name': 'Introduction Big-O Notation and Arithmetic', 'course_id': '912607011899179009'}, {'id': '73874', 'topic_name': 'Divide-and-Conquer', 'course_id': '912607011899179009'}, {'id': '75084', 'topic_name': 'True or False or Maybe..?', 'course_id': '912607011899179009'}, {'id': '75094', 'topic_name': 'Linear Programming', 'course_id': '912607011899179009'}, {'id': '76147', 'topic_name': 'Gambling', 'course_id': '912607011899179009'}, {'id': '85963', 'topic_name': 'Algorithms', 'course_id': '912607011899179009'}, {'id': '87372', 'topic_name': 'Dynamic Programming', 'course_id': '912607011899179009'}, {'id': '87528', 'topic_name': 'Graphs and DFS', 'course_id': '912607011899179009'}, {'id': '91030', 'topic_name': 'True or False?', 'course_id': '912607011899179009'}, {'id': '98161', 'topic_name': 'Zero-Sum Games', 'course_id': '912607011899179009'}]\n",
      "NP-Completeness topic already exists\n",
      "[{'id': '10236', 'topic_name': 'Greedy Algorithms', 'course_id': '912607011899179009'}, {'id': '14113', 'topic_name': 'Approximation Algorithms', 'course_id': '912607011899179009'}, {'id': '18478', 'topic_name': 'Randomized Algorithms', 'course_id': '912607011899179009'}, {'id': '20882', 'topic_name': 'NP-Completeness', 'course_id': '912607011899179009'}, {'id': '21049', 'topic_name': 'Factoring Numbers via Circuit SAT', 'course_id': '912607011899179009'}, {'id': '21100', 'topic_name': 'Finding Bridges', 'course_id': '912607011899179009'}, {'id': '23509', 'topic_name': 'Hashing', 'course_id': '912607011899179009'}, {'id': '30573', 'topic_name': 'Updating Distances', 'course_id': '912607011899179009'}, {'id': '30898', 'topic_name': 'Vertex Cover', 'course_id': '912607011899179009'}, {'id': '32240', 'topic_name': 'Paths in Graphs', 'course_id': '912607011899179009'}, {'id': '32666', 'topic_name': 'NP-completeness', 'course_id': '912607011899179009'}, {'id': '37006', 'topic_name': 'Strongly Connected Components', 'course_id': '912607011899179009'}, {'id': '60460', 'topic_name': 'Complete the sentences', 'course_id': '912607011899179009'}, {'id': '61239', 'topic_name': 'Find the satisfying one', 'course_id': '912607011899179009'}, {'id': '62106', 'topic_name': 'Maximum Flow', 'course_id': '912607011899179009'}, {'id': '62601', 'topic_name': 'Roadside Assistance', 'course_id': '912607011899179009'}, {'id': '63544', 'topic_name': 'Minimum Spanning Tree', 'course_id': '912607011899179009'}, {'id': '65251', 'topic_name': 'Reductions, Bipartite Matching', 'course_id': '912607011899179009'}, {'id': '66431', 'topic_name': 'Introduction Big-O Notation and Arithmetic', 'course_id': '912607011899179009'}, {'id': '73874', 'topic_name': 'Divide-and-Conquer', 'course_id': '912607011899179009'}, {'id': '75084', 'topic_name': 'True or False or Maybe..?', 'course_id': '912607011899179009'}, {'id': '75094', 'topic_name': 'Linear Programming', 'course_id': '912607011899179009'}, {'id': '76147', 'topic_name': 'Gambling', 'course_id': '912607011899179009'}, {'id': '85963', 'topic_name': 'Algorithms', 'course_id': '912607011899179009'}, {'id': '87372', 'topic_name': 'Dynamic Programming', 'course_id': '912607011899179009'}, {'id': '87528', 'topic_name': 'Graphs and DFS', 'course_id': '912607011899179009'}, {'id': '91030', 'topic_name': 'True or False?', 'course_id': '912607011899179009'}, {'id': '98161', 'topic_name': 'Zero-Sum Games', 'course_id': '912607011899179009'}]\n",
      "NP-Completeness topic already exists\n",
      "[{'id': '10236', 'topic_name': 'Greedy Algorithms', 'course_id': '912607011899179009'}, {'id': '14113', 'topic_name': 'Approximation Algorithms', 'course_id': '912607011899179009'}, {'id': '18478', 'topic_name': 'Randomized Algorithms', 'course_id': '912607011899179009'}, {'id': '20882', 'topic_name': 'NP-Completeness', 'course_id': '912607011899179009'}, {'id': '21049', 'topic_name': 'Factoring Numbers via Circuit SAT', 'course_id': '912607011899179009'}, {'id': '21100', 'topic_name': 'Finding Bridges', 'course_id': '912607011899179009'}, {'id': '23509', 'topic_name': 'Hashing', 'course_id': '912607011899179009'}, {'id': '30573', 'topic_name': 'Updating Distances', 'course_id': '912607011899179009'}, {'id': '30898', 'topic_name': 'Vertex Cover', 'course_id': '912607011899179009'}, {'id': '32240', 'topic_name': 'Paths in Graphs', 'course_id': '912607011899179009'}, {'id': '32666', 'topic_name': 'NP-completeness', 'course_id': '912607011899179009'}, {'id': '37006', 'topic_name': 'Strongly Connected Components', 'course_id': '912607011899179009'}, {'id': '60460', 'topic_name': 'Complete the sentences', 'course_id': '912607011899179009'}, {'id': '61239', 'topic_name': 'Find the satisfying one', 'course_id': '912607011899179009'}, {'id': '62106', 'topic_name': 'Maximum Flow', 'course_id': '912607011899179009'}, {'id': '62601', 'topic_name': 'Roadside Assistance', 'course_id': '912607011899179009'}, {'id': '63544', 'topic_name': 'Minimum Spanning Tree', 'course_id': '912607011899179009'}, {'id': '65251', 'topic_name': 'Reductions, Bipartite Matching', 'course_id': '912607011899179009'}, {'id': '66431', 'topic_name': 'Introduction Big-O Notation and Arithmetic', 'course_id': '912607011899179009'}, {'id': '73874', 'topic_name': 'Divide-and-Conquer', 'course_id': '912607011899179009'}, {'id': '75084', 'topic_name': 'True or False or Maybe..?', 'course_id': '912607011899179009'}, {'id': '75094', 'topic_name': 'Linear Programming', 'course_id': '912607011899179009'}, {'id': '76147', 'topic_name': 'Gambling', 'course_id': '912607011899179009'}, {'id': '85963', 'topic_name': 'Algorithms', 'course_id': '912607011899179009'}, {'id': '87372', 'topic_name': 'Dynamic Programming', 'course_id': '912607011899179009'}, {'id': '87528', 'topic_name': 'Graphs and DFS', 'course_id': '912607011899179009'}, {'id': '91030', 'topic_name': 'True or False?', 'course_id': '912607011899179009'}, {'id': '98161', 'topic_name': 'Zero-Sum Games', 'course_id': '912607011899179009'}]\n",
      "Graphs and DFS topic already exists\n"
     ]
    },
    {
     "name": "stdout",
     "output_type": "stream",
     "text": [
      "[{'id': '10236', 'topic_name': 'Greedy Algorithms', 'course_id': '912607011899179009'}, {'id': '14113', 'topic_name': 'Approximation Algorithms', 'course_id': '912607011899179009'}, {'id': '18478', 'topic_name': 'Randomized Algorithms', 'course_id': '912607011899179009'}, {'id': '20882', 'topic_name': 'NP-Completeness', 'course_id': '912607011899179009'}, {'id': '21049', 'topic_name': 'Factoring Numbers via Circuit SAT', 'course_id': '912607011899179009'}, {'id': '21100', 'topic_name': 'Finding Bridges', 'course_id': '912607011899179009'}, {'id': '23509', 'topic_name': 'Hashing', 'course_id': '912607011899179009'}, {'id': '30573', 'topic_name': 'Updating Distances', 'course_id': '912607011899179009'}, {'id': '30898', 'topic_name': 'Vertex Cover', 'course_id': '912607011899179009'}, {'id': '32240', 'topic_name': 'Paths in Graphs', 'course_id': '912607011899179009'}, {'id': '32666', 'topic_name': 'NP-completeness', 'course_id': '912607011899179009'}, {'id': '37006', 'topic_name': 'Strongly Connected Components', 'course_id': '912607011899179009'}, {'id': '60460', 'topic_name': 'Complete the sentences', 'course_id': '912607011899179009'}, {'id': '61239', 'topic_name': 'Find the satisfying one', 'course_id': '912607011899179009'}, {'id': '62106', 'topic_name': 'Maximum Flow', 'course_id': '912607011899179009'}, {'id': '62601', 'topic_name': 'Roadside Assistance', 'course_id': '912607011899179009'}, {'id': '63544', 'topic_name': 'Minimum Spanning Tree', 'course_id': '912607011899179009'}, {'id': '65251', 'topic_name': 'Reductions, Bipartite Matching', 'course_id': '912607011899179009'}, {'id': '66431', 'topic_name': 'Introduction Big-O Notation and Arithmetic', 'course_id': '912607011899179009'}, {'id': '73874', 'topic_name': 'Divide-and-Conquer', 'course_id': '912607011899179009'}, {'id': '75084', 'topic_name': 'True or False or Maybe..?', 'course_id': '912607011899179009'}, {'id': '75094', 'topic_name': 'Linear Programming', 'course_id': '912607011899179009'}, {'id': '76147', 'topic_name': 'Gambling', 'course_id': '912607011899179009'}, {'id': '85963', 'topic_name': 'Algorithms', 'course_id': '912607011899179009'}, {'id': '87372', 'topic_name': 'Dynamic Programming', 'course_id': '912607011899179009'}, {'id': '87528', 'topic_name': 'Graphs and DFS', 'course_id': '912607011899179009'}, {'id': '91030', 'topic_name': 'True or False?', 'course_id': '912607011899179009'}, {'id': '98161', 'topic_name': 'Zero-Sum Games', 'course_id': '912607011899179009'}]\n",
      "Divide-and-Conquer topic already exists\n",
      "[{'id': '10236', 'topic_name': 'Greedy Algorithms', 'course_id': '912607011899179009'}, {'id': '14113', 'topic_name': 'Approximation Algorithms', 'course_id': '912607011899179009'}, {'id': '18478', 'topic_name': 'Randomized Algorithms', 'course_id': '912607011899179009'}, {'id': '20882', 'topic_name': 'NP-Completeness', 'course_id': '912607011899179009'}, {'id': '21049', 'topic_name': 'Factoring Numbers via Circuit SAT', 'course_id': '912607011899179009'}, {'id': '21100', 'topic_name': 'Finding Bridges', 'course_id': '912607011899179009'}, {'id': '23509', 'topic_name': 'Hashing', 'course_id': '912607011899179009'}, {'id': '30573', 'topic_name': 'Updating Distances', 'course_id': '912607011899179009'}, {'id': '30898', 'topic_name': 'Vertex Cover', 'course_id': '912607011899179009'}, {'id': '32240', 'topic_name': 'Paths in Graphs', 'course_id': '912607011899179009'}, {'id': '32666', 'topic_name': 'NP-completeness', 'course_id': '912607011899179009'}, {'id': '37006', 'topic_name': 'Strongly Connected Components', 'course_id': '912607011899179009'}, {'id': '60460', 'topic_name': 'Complete the sentences', 'course_id': '912607011899179009'}, {'id': '61239', 'topic_name': 'Find the satisfying one', 'course_id': '912607011899179009'}, {'id': '62106', 'topic_name': 'Maximum Flow', 'course_id': '912607011899179009'}, {'id': '62601', 'topic_name': 'Roadside Assistance', 'course_id': '912607011899179009'}, {'id': '63544', 'topic_name': 'Minimum Spanning Tree', 'course_id': '912607011899179009'}, {'id': '65251', 'topic_name': 'Reductions, Bipartite Matching', 'course_id': '912607011899179009'}, {'id': '66431', 'topic_name': 'Introduction Big-O Notation and Arithmetic', 'course_id': '912607011899179009'}, {'id': '73874', 'topic_name': 'Divide-and-Conquer', 'course_id': '912607011899179009'}, {'id': '75084', 'topic_name': 'True or False or Maybe..?', 'course_id': '912607011899179009'}, {'id': '75094', 'topic_name': 'Linear Programming', 'course_id': '912607011899179009'}, {'id': '76147', 'topic_name': 'Gambling', 'course_id': '912607011899179009'}, {'id': '85963', 'topic_name': 'Algorithms', 'course_id': '912607011899179009'}, {'id': '87372', 'topic_name': 'Dynamic Programming', 'course_id': '912607011899179009'}, {'id': '87528', 'topic_name': 'Graphs and DFS', 'course_id': '912607011899179009'}, {'id': '91030', 'topic_name': 'True or False?', 'course_id': '912607011899179009'}, {'id': '98161', 'topic_name': 'Zero-Sum Games', 'course_id': '912607011899179009'}]\n",
      "[{'id': '10236', 'topic_name': 'Greedy Algorithms', 'course_id': '912607011899179009'}, {'id': '11361', 'topic_name': 'Algorithm Analysis', 'course_id': '912607011899179009'}, {'id': '14113', 'topic_name': 'Approximation Algorithms', 'course_id': '912607011899179009'}, {'id': '18478', 'topic_name': 'Randomized Algorithms', 'course_id': '912607011899179009'}, {'id': '20882', 'topic_name': 'NP-Completeness', 'course_id': '912607011899179009'}, {'id': '21049', 'topic_name': 'Factoring Numbers via Circuit SAT', 'course_id': '912607011899179009'}, {'id': '21100', 'topic_name': 'Finding Bridges', 'course_id': '912607011899179009'}, {'id': '23509', 'topic_name': 'Hashing', 'course_id': '912607011899179009'}, {'id': '30573', 'topic_name': 'Updating Distances', 'course_id': '912607011899179009'}, {'id': '30898', 'topic_name': 'Vertex Cover', 'course_id': '912607011899179009'}, {'id': '32240', 'topic_name': 'Paths in Graphs', 'course_id': '912607011899179009'}, {'id': '32666', 'topic_name': 'NP-completeness', 'course_id': '912607011899179009'}, {'id': '37006', 'topic_name': 'Strongly Connected Components', 'course_id': '912607011899179009'}, {'id': '60460', 'topic_name': 'Complete the sentences', 'course_id': '912607011899179009'}, {'id': '61239', 'topic_name': 'Find the satisfying one', 'course_id': '912607011899179009'}, {'id': '62106', 'topic_name': 'Maximum Flow', 'course_id': '912607011899179009'}, {'id': '62601', 'topic_name': 'Roadside Assistance', 'course_id': '912607011899179009'}, {'id': '63544', 'topic_name': 'Minimum Spanning Tree', 'course_id': '912607011899179009'}, {'id': '65251', 'topic_name': 'Reductions, Bipartite Matching', 'course_id': '912607011899179009'}, {'id': '66431', 'topic_name': 'Introduction Big-O Notation and Arithmetic', 'course_id': '912607011899179009'}, {'id': '73874', 'topic_name': 'Divide-and-Conquer', 'course_id': '912607011899179009'}, {'id': '75084', 'topic_name': 'True or False or Maybe..?', 'course_id': '912607011899179009'}, {'id': '75094', 'topic_name': 'Linear Programming', 'course_id': '912607011899179009'}, {'id': '76147', 'topic_name': 'Gambling', 'course_id': '912607011899179009'}, {'id': '85963', 'topic_name': 'Algorithms', 'course_id': '912607011899179009'}, {'id': '87372', 'topic_name': 'Dynamic Programming', 'course_id': '912607011899179009'}, {'id': '87528', 'topic_name': 'Graphs and DFS', 'course_id': '912607011899179009'}, {'id': '91030', 'topic_name': 'True or False?', 'course_id': '912607011899179009'}, {'id': '98161', 'topic_name': 'Zero-Sum Games', 'course_id': '912607011899179009'}]\n",
      "Dynamic Programming topic already exists\n",
      "[{'id': '10236', 'topic_name': 'Greedy Algorithms', 'course_id': '912607011899179009'}, {'id': '11361', 'topic_name': 'Algorithm Analysis', 'course_id': '912607011899179009'}, {'id': '14113', 'topic_name': 'Approximation Algorithms', 'course_id': '912607011899179009'}, {'id': '18478', 'topic_name': 'Randomized Algorithms', 'course_id': '912607011899179009'}, {'id': '20882', 'topic_name': 'NP-Completeness', 'course_id': '912607011899179009'}, {'id': '21049', 'topic_name': 'Factoring Numbers via Circuit SAT', 'course_id': '912607011899179009'}, {'id': '21100', 'topic_name': 'Finding Bridges', 'course_id': '912607011899179009'}, {'id': '23509', 'topic_name': 'Hashing', 'course_id': '912607011899179009'}, {'id': '30573', 'topic_name': 'Updating Distances', 'course_id': '912607011899179009'}, {'id': '30898', 'topic_name': 'Vertex Cover', 'course_id': '912607011899179009'}, {'id': '32240', 'topic_name': 'Paths in Graphs', 'course_id': '912607011899179009'}, {'id': '32666', 'topic_name': 'NP-completeness', 'course_id': '912607011899179009'}, {'id': '37006', 'topic_name': 'Strongly Connected Components', 'course_id': '912607011899179009'}, {'id': '60460', 'topic_name': 'Complete the sentences', 'course_id': '912607011899179009'}, {'id': '61239', 'topic_name': 'Find the satisfying one', 'course_id': '912607011899179009'}, {'id': '62106', 'topic_name': 'Maximum Flow', 'course_id': '912607011899179009'}, {'id': '62601', 'topic_name': 'Roadside Assistance', 'course_id': '912607011899179009'}, {'id': '63544', 'topic_name': 'Minimum Spanning Tree', 'course_id': '912607011899179009'}, {'id': '65251', 'topic_name': 'Reductions, Bipartite Matching', 'course_id': '912607011899179009'}, {'id': '66431', 'topic_name': 'Introduction Big-O Notation and Arithmetic', 'course_id': '912607011899179009'}, {'id': '73874', 'topic_name': 'Divide-and-Conquer', 'course_id': '912607011899179009'}, {'id': '75084', 'topic_name': 'True or False or Maybe..?', 'course_id': '912607011899179009'}, {'id': '75094', 'topic_name': 'Linear Programming', 'course_id': '912607011899179009'}, {'id': '76147', 'topic_name': 'Gambling', 'course_id': '912607011899179009'}, {'id': '85963', 'topic_name': 'Algorithms', 'course_id': '912607011899179009'}, {'id': '87372', 'topic_name': 'Dynamic Programming', 'course_id': '912607011899179009'}, {'id': '87528', 'topic_name': 'Graphs and DFS', 'course_id': '912607011899179009'}, {'id': '91030', 'topic_name': 'True or False?', 'course_id': '912607011899179009'}, {'id': '98161', 'topic_name': 'Zero-Sum Games', 'course_id': '912607011899179009'}]\n",
      "Divide-and-Conquer topic already exists\n"
     ]
    },
    {
     "name": "stdout",
     "output_type": "stream",
     "text": [
      "[{'id': '10236', 'topic_name': 'Greedy Algorithms', 'course_id': '912607011899179009'}, {'id': '11361', 'topic_name': 'Algorithm Analysis', 'course_id': '912607011899179009'}, {'id': '14113', 'topic_name': 'Approximation Algorithms', 'course_id': '912607011899179009'}, {'id': '18478', 'topic_name': 'Randomized Algorithms', 'course_id': '912607011899179009'}, {'id': '20882', 'topic_name': 'NP-Completeness', 'course_id': '912607011899179009'}, {'id': '21049', 'topic_name': 'Factoring Numbers via Circuit SAT', 'course_id': '912607011899179009'}, {'id': '21100', 'topic_name': 'Finding Bridges', 'course_id': '912607011899179009'}, {'id': '23509', 'topic_name': 'Hashing', 'course_id': '912607011899179009'}, {'id': '30573', 'topic_name': 'Updating Distances', 'course_id': '912607011899179009'}, {'id': '30898', 'topic_name': 'Vertex Cover', 'course_id': '912607011899179009'}, {'id': '32240', 'topic_name': 'Paths in Graphs', 'course_id': '912607011899179009'}, {'id': '32666', 'topic_name': 'NP-completeness', 'course_id': '912607011899179009'}, {'id': '37006', 'topic_name': 'Strongly Connected Components', 'course_id': '912607011899179009'}, {'id': '60460', 'topic_name': 'Complete the sentences', 'course_id': '912607011899179009'}, {'id': '61239', 'topic_name': 'Find the satisfying one', 'course_id': '912607011899179009'}, {'id': '62106', 'topic_name': 'Maximum Flow', 'course_id': '912607011899179009'}, {'id': '62601', 'topic_name': 'Roadside Assistance', 'course_id': '912607011899179009'}, {'id': '63544', 'topic_name': 'Minimum Spanning Tree', 'course_id': '912607011899179009'}, {'id': '65251', 'topic_name': 'Reductions, Bipartite Matching', 'course_id': '912607011899179009'}, {'id': '66431', 'topic_name': 'Introduction Big-O Notation and Arithmetic', 'course_id': '912607011899179009'}, {'id': '73874', 'topic_name': 'Divide-and-Conquer', 'course_id': '912607011899179009'}, {'id': '75084', 'topic_name': 'True or False or Maybe..?', 'course_id': '912607011899179009'}, {'id': '75094', 'topic_name': 'Linear Programming', 'course_id': '912607011899179009'}, {'id': '76147', 'topic_name': 'Gambling', 'course_id': '912607011899179009'}, {'id': '85963', 'topic_name': 'Algorithms', 'course_id': '912607011899179009'}, {'id': '87372', 'topic_name': 'Dynamic Programming', 'course_id': '912607011899179009'}, {'id': '87528', 'topic_name': 'Graphs and DFS', 'course_id': '912607011899179009'}, {'id': '91030', 'topic_name': 'True or False?', 'course_id': '912607011899179009'}, {'id': '98161', 'topic_name': 'Zero-Sum Games', 'course_id': '912607011899179009'}]\n",
      "Linear Programming topic already exists\n",
      "[{'id': '10236', 'topic_name': 'Greedy Algorithms', 'course_id': '912607011899179009'}, {'id': '11361', 'topic_name': 'Algorithm Analysis', 'course_id': '912607011899179009'}, {'id': '14113', 'topic_name': 'Approximation Algorithms', 'course_id': '912607011899179009'}, {'id': '18478', 'topic_name': 'Randomized Algorithms', 'course_id': '912607011899179009'}, {'id': '20882', 'topic_name': 'NP-Completeness', 'course_id': '912607011899179009'}, {'id': '21049', 'topic_name': 'Factoring Numbers via Circuit SAT', 'course_id': '912607011899179009'}, {'id': '21100', 'topic_name': 'Finding Bridges', 'course_id': '912607011899179009'}, {'id': '23509', 'topic_name': 'Hashing', 'course_id': '912607011899179009'}, {'id': '30573', 'topic_name': 'Updating Distances', 'course_id': '912607011899179009'}, {'id': '30898', 'topic_name': 'Vertex Cover', 'course_id': '912607011899179009'}, {'id': '32240', 'topic_name': 'Paths in Graphs', 'course_id': '912607011899179009'}, {'id': '32666', 'topic_name': 'NP-completeness', 'course_id': '912607011899179009'}, {'id': '37006', 'topic_name': 'Strongly Connected Components', 'course_id': '912607011899179009'}, {'id': '60460', 'topic_name': 'Complete the sentences', 'course_id': '912607011899179009'}, {'id': '61239', 'topic_name': 'Find the satisfying one', 'course_id': '912607011899179009'}, {'id': '62106', 'topic_name': 'Maximum Flow', 'course_id': '912607011899179009'}, {'id': '62601', 'topic_name': 'Roadside Assistance', 'course_id': '912607011899179009'}, {'id': '63544', 'topic_name': 'Minimum Spanning Tree', 'course_id': '912607011899179009'}, {'id': '65251', 'topic_name': 'Reductions, Bipartite Matching', 'course_id': '912607011899179009'}, {'id': '66431', 'topic_name': 'Introduction Big-O Notation and Arithmetic', 'course_id': '912607011899179009'}, {'id': '73874', 'topic_name': 'Divide-and-Conquer', 'course_id': '912607011899179009'}, {'id': '75084', 'topic_name': 'True or False or Maybe..?', 'course_id': '912607011899179009'}, {'id': '75094', 'topic_name': 'Linear Programming', 'course_id': '912607011899179009'}, {'id': '76147', 'topic_name': 'Gambling', 'course_id': '912607011899179009'}, {'id': '85963', 'topic_name': 'Algorithms', 'course_id': '912607011899179009'}, {'id': '87372', 'topic_name': 'Dynamic Programming', 'course_id': '912607011899179009'}, {'id': '87528', 'topic_name': 'Graphs and DFS', 'course_id': '912607011899179009'}, {'id': '91030', 'topic_name': 'True or False?', 'course_id': '912607011899179009'}, {'id': '98161', 'topic_name': 'Zero-Sum Games', 'course_id': '912607011899179009'}]\n",
      "Greedy Algorithms topic already exists\n",
      "[{'id': '10236', 'topic_name': 'Greedy Algorithms', 'course_id': '912607011899179009'}, {'id': '11361', 'topic_name': 'Algorithm Analysis', 'course_id': '912607011899179009'}, {'id': '14113', 'topic_name': 'Approximation Algorithms', 'course_id': '912607011899179009'}, {'id': '18478', 'topic_name': 'Randomized Algorithms', 'course_id': '912607011899179009'}, {'id': '20882', 'topic_name': 'NP-Completeness', 'course_id': '912607011899179009'}, {'id': '21049', 'topic_name': 'Factoring Numbers via Circuit SAT', 'course_id': '912607011899179009'}, {'id': '21100', 'topic_name': 'Finding Bridges', 'course_id': '912607011899179009'}, {'id': '23509', 'topic_name': 'Hashing', 'course_id': '912607011899179009'}, {'id': '30573', 'topic_name': 'Updating Distances', 'course_id': '912607011899179009'}, {'id': '30898', 'topic_name': 'Vertex Cover', 'course_id': '912607011899179009'}, {'id': '32240', 'topic_name': 'Paths in Graphs', 'course_id': '912607011899179009'}, {'id': '32666', 'topic_name': 'NP-completeness', 'course_id': '912607011899179009'}, {'id': '37006', 'topic_name': 'Strongly Connected Components', 'course_id': '912607011899179009'}, {'id': '60460', 'topic_name': 'Complete the sentences', 'course_id': '912607011899179009'}, {'id': '61239', 'topic_name': 'Find the satisfying one', 'course_id': '912607011899179009'}, {'id': '62106', 'topic_name': 'Maximum Flow', 'course_id': '912607011899179009'}, {'id': '62601', 'topic_name': 'Roadside Assistance', 'course_id': '912607011899179009'}, {'id': '63544', 'topic_name': 'Minimum Spanning Tree', 'course_id': '912607011899179009'}, {'id': '65251', 'topic_name': 'Reductions, Bipartite Matching', 'course_id': '912607011899179009'}, {'id': '66431', 'topic_name': 'Introduction Big-O Notation and Arithmetic', 'course_id': '912607011899179009'}, {'id': '73874', 'topic_name': 'Divide-and-Conquer', 'course_id': '912607011899179009'}, {'id': '75084', 'topic_name': 'True or False or Maybe..?', 'course_id': '912607011899179009'}, {'id': '75094', 'topic_name': 'Linear Programming', 'course_id': '912607011899179009'}, {'id': '76147', 'topic_name': 'Gambling', 'course_id': '912607011899179009'}, {'id': '85963', 'topic_name': 'Algorithms', 'course_id': '912607011899179009'}, {'id': '87372', 'topic_name': 'Dynamic Programming', 'course_id': '912607011899179009'}, {'id': '87528', 'topic_name': 'Graphs and DFS', 'course_id': '912607011899179009'}, {'id': '91030', 'topic_name': 'True or False?', 'course_id': '912607011899179009'}, {'id': '98161', 'topic_name': 'Zero-Sum Games', 'course_id': '912607011899179009'}]\n",
      "Introduction Big-O Notation and Arithmetic topic already exists\n",
      "[{'id': '10236', 'topic_name': 'Greedy Algorithms', 'course_id': '912607011899179009'}, {'id': '11361', 'topic_name': 'Algorithm Analysis', 'course_id': '912607011899179009'}, {'id': '14113', 'topic_name': 'Approximation Algorithms', 'course_id': '912607011899179009'}, {'id': '18478', 'topic_name': 'Randomized Algorithms', 'course_id': '912607011899179009'}, {'id': '20882', 'topic_name': 'NP-Completeness', 'course_id': '912607011899179009'}, {'id': '21049', 'topic_name': 'Factoring Numbers via Circuit SAT', 'course_id': '912607011899179009'}, {'id': '21100', 'topic_name': 'Finding Bridges', 'course_id': '912607011899179009'}, {'id': '23509', 'topic_name': 'Hashing', 'course_id': '912607011899179009'}, {'id': '30573', 'topic_name': 'Updating Distances', 'course_id': '912607011899179009'}, {'id': '30898', 'topic_name': 'Vertex Cover', 'course_id': '912607011899179009'}, {'id': '32240', 'topic_name': 'Paths in Graphs', 'course_id': '912607011899179009'}, {'id': '32666', 'topic_name': 'NP-completeness', 'course_id': '912607011899179009'}, {'id': '37006', 'topic_name': 'Strongly Connected Components', 'course_id': '912607011899179009'}, {'id': '60460', 'topic_name': 'Complete the sentences', 'course_id': '912607011899179009'}, {'id': '61239', 'topic_name': 'Find the satisfying one', 'course_id': '912607011899179009'}, {'id': '62106', 'topic_name': 'Maximum Flow', 'course_id': '912607011899179009'}, {'id': '62601', 'topic_name': 'Roadside Assistance', 'course_id': '912607011899179009'}, {'id': '63544', 'topic_name': 'Minimum Spanning Tree', 'course_id': '912607011899179009'}, {'id': '65251', 'topic_name': 'Reductions, Bipartite Matching', 'course_id': '912607011899179009'}, {'id': '66431', 'topic_name': 'Introduction Big-O Notation and Arithmetic', 'course_id': '912607011899179009'}, {'id': '73874', 'topic_name': 'Divide-and-Conquer', 'course_id': '912607011899179009'}, {'id': '75084', 'topic_name': 'True or False or Maybe..?', 'course_id': '912607011899179009'}, {'id': '75094', 'topic_name': 'Linear Programming', 'course_id': '912607011899179009'}, {'id': '76147', 'topic_name': 'Gambling', 'course_id': '912607011899179009'}, {'id': '85963', 'topic_name': 'Algorithms', 'course_id': '912607011899179009'}, {'id': '87372', 'topic_name': 'Dynamic Programming', 'course_id': '912607011899179009'}, {'id': '87528', 'topic_name': 'Graphs and DFS', 'course_id': '912607011899179009'}, {'id': '91030', 'topic_name': 'True or False?', 'course_id': '912607011899179009'}, {'id': '98161', 'topic_name': 'Zero-Sum Games', 'course_id': '912607011899179009'}]\n",
      "Randomized Algorithms topic already exists\n",
      "[{'id': '10236', 'topic_name': 'Greedy Algorithms', 'course_id': '912607011899179009'}, {'id': '11361', 'topic_name': 'Algorithm Analysis', 'course_id': '912607011899179009'}, {'id': '14113', 'topic_name': 'Approximation Algorithms', 'course_id': '912607011899179009'}, {'id': '18478', 'topic_name': 'Randomized Algorithms', 'course_id': '912607011899179009'}, {'id': '20882', 'topic_name': 'NP-Completeness', 'course_id': '912607011899179009'}, {'id': '21049', 'topic_name': 'Factoring Numbers via Circuit SAT', 'course_id': '912607011899179009'}, {'id': '21100', 'topic_name': 'Finding Bridges', 'course_id': '912607011899179009'}, {'id': '23509', 'topic_name': 'Hashing', 'course_id': '912607011899179009'}, {'id': '30573', 'topic_name': 'Updating Distances', 'course_id': '912607011899179009'}, {'id': '30898', 'topic_name': 'Vertex Cover', 'course_id': '912607011899179009'}, {'id': '32240', 'topic_name': 'Paths in Graphs', 'course_id': '912607011899179009'}, {'id': '32666', 'topic_name': 'NP-completeness', 'course_id': '912607011899179009'}, {'id': '37006', 'topic_name': 'Strongly Connected Components', 'course_id': '912607011899179009'}, {'id': '60460', 'topic_name': 'Complete the sentences', 'course_id': '912607011899179009'}, {'id': '61239', 'topic_name': 'Find the satisfying one', 'course_id': '912607011899179009'}, {'id': '62106', 'topic_name': 'Maximum Flow', 'course_id': '912607011899179009'}, {'id': '62601', 'topic_name': 'Roadside Assistance', 'course_id': '912607011899179009'}, {'id': '63544', 'topic_name': 'Minimum Spanning Tree', 'course_id': '912607011899179009'}, {'id': '65251', 'topic_name': 'Reductions, Bipartite Matching', 'course_id': '912607011899179009'}, {'id': '66431', 'topic_name': 'Introduction Big-O Notation and Arithmetic', 'course_id': '912607011899179009'}, {'id': '73874', 'topic_name': 'Divide-and-Conquer', 'course_id': '912607011899179009'}, {'id': '75084', 'topic_name': 'True or False or Maybe..?', 'course_id': '912607011899179009'}, {'id': '75094', 'topic_name': 'Linear Programming', 'course_id': '912607011899179009'}, {'id': '76147', 'topic_name': 'Gambling', 'course_id': '912607011899179009'}, {'id': '85963', 'topic_name': 'Algorithms', 'course_id': '912607011899179009'}, {'id': '87372', 'topic_name': 'Dynamic Programming', 'course_id': '912607011899179009'}, {'id': '87528', 'topic_name': 'Graphs and DFS', 'course_id': '912607011899179009'}, {'id': '91030', 'topic_name': 'True or False?', 'course_id': '912607011899179009'}, {'id': '98161', 'topic_name': 'Zero-Sum Games', 'course_id': '912607011899179009'}]\n",
      "Approximation Algorithms topic already exists\n"
     ]
    },
    {
     "name": "stdout",
     "output_type": "stream",
     "text": [
      "[{'id': '10236', 'topic_name': 'Greedy Algorithms', 'course_id': '912607011899179009'}, {'id': '11361', 'topic_name': 'Algorithm Analysis', 'course_id': '912607011899179009'}, {'id': '14113', 'topic_name': 'Approximation Algorithms', 'course_id': '912607011899179009'}, {'id': '18478', 'topic_name': 'Randomized Algorithms', 'course_id': '912607011899179009'}, {'id': '20882', 'topic_name': 'NP-Completeness', 'course_id': '912607011899179009'}, {'id': '21049', 'topic_name': 'Factoring Numbers via Circuit SAT', 'course_id': '912607011899179009'}, {'id': '21100', 'topic_name': 'Finding Bridges', 'course_id': '912607011899179009'}, {'id': '23509', 'topic_name': 'Hashing', 'course_id': '912607011899179009'}, {'id': '30573', 'topic_name': 'Updating Distances', 'course_id': '912607011899179009'}, {'id': '30898', 'topic_name': 'Vertex Cover', 'course_id': '912607011899179009'}, {'id': '32240', 'topic_name': 'Paths in Graphs', 'course_id': '912607011899179009'}, {'id': '32666', 'topic_name': 'NP-completeness', 'course_id': '912607011899179009'}, {'id': '37006', 'topic_name': 'Strongly Connected Components', 'course_id': '912607011899179009'}, {'id': '60460', 'topic_name': 'Complete the sentences', 'course_id': '912607011899179009'}, {'id': '61239', 'topic_name': 'Find the satisfying one', 'course_id': '912607011899179009'}, {'id': '62106', 'topic_name': 'Maximum Flow', 'course_id': '912607011899179009'}, {'id': '62601', 'topic_name': 'Roadside Assistance', 'course_id': '912607011899179009'}, {'id': '63544', 'topic_name': 'Minimum Spanning Tree', 'course_id': '912607011899179009'}, {'id': '65251', 'topic_name': 'Reductions, Bipartite Matching', 'course_id': '912607011899179009'}, {'id': '66431', 'topic_name': 'Introduction Big-O Notation and Arithmetic', 'course_id': '912607011899179009'}, {'id': '73874', 'topic_name': 'Divide-and-Conquer', 'course_id': '912607011899179009'}, {'id': '75084', 'topic_name': 'True or False or Maybe..?', 'course_id': '912607011899179009'}, {'id': '75094', 'topic_name': 'Linear Programming', 'course_id': '912607011899179009'}, {'id': '76147', 'topic_name': 'Gambling', 'course_id': '912607011899179009'}, {'id': '85963', 'topic_name': 'Algorithms', 'course_id': '912607011899179009'}, {'id': '87372', 'topic_name': 'Dynamic Programming', 'course_id': '912607011899179009'}, {'id': '87528', 'topic_name': 'Graphs and DFS', 'course_id': '912607011899179009'}, {'id': '91030', 'topic_name': 'True or False?', 'course_id': '912607011899179009'}, {'id': '98161', 'topic_name': 'Zero-Sum Games', 'course_id': '912607011899179009'}]\n",
      "Algorithms topic already exists\n",
      "[{'id': '10236', 'topic_name': 'Greedy Algorithms', 'course_id': '912607011899179009'}, {'id': '11361', 'topic_name': 'Algorithm Analysis', 'course_id': '912607011899179009'}, {'id': '14113', 'topic_name': 'Approximation Algorithms', 'course_id': '912607011899179009'}, {'id': '18478', 'topic_name': 'Randomized Algorithms', 'course_id': '912607011899179009'}, {'id': '20882', 'topic_name': 'NP-Completeness', 'course_id': '912607011899179009'}, {'id': '21049', 'topic_name': 'Factoring Numbers via Circuit SAT', 'course_id': '912607011899179009'}, {'id': '21100', 'topic_name': 'Finding Bridges', 'course_id': '912607011899179009'}, {'id': '23509', 'topic_name': 'Hashing', 'course_id': '912607011899179009'}, {'id': '30573', 'topic_name': 'Updating Distances', 'course_id': '912607011899179009'}, {'id': '30898', 'topic_name': 'Vertex Cover', 'course_id': '912607011899179009'}, {'id': '32240', 'topic_name': 'Paths in Graphs', 'course_id': '912607011899179009'}, {'id': '32666', 'topic_name': 'NP-completeness', 'course_id': '912607011899179009'}, {'id': '37006', 'topic_name': 'Strongly Connected Components', 'course_id': '912607011899179009'}, {'id': '60460', 'topic_name': 'Complete the sentences', 'course_id': '912607011899179009'}, {'id': '61239', 'topic_name': 'Find the satisfying one', 'course_id': '912607011899179009'}, {'id': '62106', 'topic_name': 'Maximum Flow', 'course_id': '912607011899179009'}, {'id': '62601', 'topic_name': 'Roadside Assistance', 'course_id': '912607011899179009'}, {'id': '63544', 'topic_name': 'Minimum Spanning Tree', 'course_id': '912607011899179009'}, {'id': '65251', 'topic_name': 'Reductions, Bipartite Matching', 'course_id': '912607011899179009'}, {'id': '66431', 'topic_name': 'Introduction Big-O Notation and Arithmetic', 'course_id': '912607011899179009'}, {'id': '73874', 'topic_name': 'Divide-and-Conquer', 'course_id': '912607011899179009'}, {'id': '75084', 'topic_name': 'True or False or Maybe..?', 'course_id': '912607011899179009'}, {'id': '75094', 'topic_name': 'Linear Programming', 'course_id': '912607011899179009'}, {'id': '76147', 'topic_name': 'Gambling', 'course_id': '912607011899179009'}, {'id': '85963', 'topic_name': 'Algorithms', 'course_id': '912607011899179009'}, {'id': '87372', 'topic_name': 'Dynamic Programming', 'course_id': '912607011899179009'}, {'id': '87528', 'topic_name': 'Graphs and DFS', 'course_id': '912607011899179009'}, {'id': '91030', 'topic_name': 'True or False?', 'course_id': '912607011899179009'}, {'id': '98161', 'topic_name': 'Zero-Sum Games', 'course_id': '912607011899179009'}]\n",
      "Algorithms topic already exists\n",
      "[{'id': '10236', 'topic_name': 'Greedy Algorithms', 'course_id': '912607011899179009'}, {'id': '11361', 'topic_name': 'Algorithm Analysis', 'course_id': '912607011899179009'}, {'id': '14113', 'topic_name': 'Approximation Algorithms', 'course_id': '912607011899179009'}, {'id': '18478', 'topic_name': 'Randomized Algorithms', 'course_id': '912607011899179009'}, {'id': '20882', 'topic_name': 'NP-Completeness', 'course_id': '912607011899179009'}, {'id': '21049', 'topic_name': 'Factoring Numbers via Circuit SAT', 'course_id': '912607011899179009'}, {'id': '21100', 'topic_name': 'Finding Bridges', 'course_id': '912607011899179009'}, {'id': '23509', 'topic_name': 'Hashing', 'course_id': '912607011899179009'}, {'id': '30573', 'topic_name': 'Updating Distances', 'course_id': '912607011899179009'}, {'id': '30898', 'topic_name': 'Vertex Cover', 'course_id': '912607011899179009'}, {'id': '32240', 'topic_name': 'Paths in Graphs', 'course_id': '912607011899179009'}, {'id': '32666', 'topic_name': 'NP-completeness', 'course_id': '912607011899179009'}, {'id': '37006', 'topic_name': 'Strongly Connected Components', 'course_id': '912607011899179009'}, {'id': '60460', 'topic_name': 'Complete the sentences', 'course_id': '912607011899179009'}, {'id': '61239', 'topic_name': 'Find the satisfying one', 'course_id': '912607011899179009'}, {'id': '62106', 'topic_name': 'Maximum Flow', 'course_id': '912607011899179009'}, {'id': '62601', 'topic_name': 'Roadside Assistance', 'course_id': '912607011899179009'}, {'id': '63544', 'topic_name': 'Minimum Spanning Tree', 'course_id': '912607011899179009'}, {'id': '65251', 'topic_name': 'Reductions, Bipartite Matching', 'course_id': '912607011899179009'}, {'id': '66431', 'topic_name': 'Introduction Big-O Notation and Arithmetic', 'course_id': '912607011899179009'}, {'id': '73874', 'topic_name': 'Divide-and-Conquer', 'course_id': '912607011899179009'}, {'id': '75084', 'topic_name': 'True or False or Maybe..?', 'course_id': '912607011899179009'}, {'id': '75094', 'topic_name': 'Linear Programming', 'course_id': '912607011899179009'}, {'id': '76147', 'topic_name': 'Gambling', 'course_id': '912607011899179009'}, {'id': '85963', 'topic_name': 'Algorithms', 'course_id': '912607011899179009'}, {'id': '87372', 'topic_name': 'Dynamic Programming', 'course_id': '912607011899179009'}, {'id': '87528', 'topic_name': 'Graphs and DFS', 'course_id': '912607011899179009'}, {'id': '91030', 'topic_name': 'True or False?', 'course_id': '912607011899179009'}, {'id': '98161', 'topic_name': 'Zero-Sum Games', 'course_id': '912607011899179009'}]\n",
      "Algorithms topic already exists\n",
      "[{'id': '10236', 'topic_name': 'Greedy Algorithms', 'course_id': '912607011899179009'}, {'id': '11361', 'topic_name': 'Algorithm Analysis', 'course_id': '912607011899179009'}, {'id': '14113', 'topic_name': 'Approximation Algorithms', 'course_id': '912607011899179009'}, {'id': '18478', 'topic_name': 'Randomized Algorithms', 'course_id': '912607011899179009'}, {'id': '20882', 'topic_name': 'NP-Completeness', 'course_id': '912607011899179009'}, {'id': '21049', 'topic_name': 'Factoring Numbers via Circuit SAT', 'course_id': '912607011899179009'}, {'id': '21100', 'topic_name': 'Finding Bridges', 'course_id': '912607011899179009'}, {'id': '23509', 'topic_name': 'Hashing', 'course_id': '912607011899179009'}, {'id': '30573', 'topic_name': 'Updating Distances', 'course_id': '912607011899179009'}, {'id': '30898', 'topic_name': 'Vertex Cover', 'course_id': '912607011899179009'}, {'id': '32240', 'topic_name': 'Paths in Graphs', 'course_id': '912607011899179009'}, {'id': '32666', 'topic_name': 'NP-completeness', 'course_id': '912607011899179009'}, {'id': '37006', 'topic_name': 'Strongly Connected Components', 'course_id': '912607011899179009'}, {'id': '60460', 'topic_name': 'Complete the sentences', 'course_id': '912607011899179009'}, {'id': '61239', 'topic_name': 'Find the satisfying one', 'course_id': '912607011899179009'}, {'id': '62106', 'topic_name': 'Maximum Flow', 'course_id': '912607011899179009'}, {'id': '62601', 'topic_name': 'Roadside Assistance', 'course_id': '912607011899179009'}, {'id': '63544', 'topic_name': 'Minimum Spanning Tree', 'course_id': '912607011899179009'}, {'id': '65251', 'topic_name': 'Reductions, Bipartite Matching', 'course_id': '912607011899179009'}, {'id': '66431', 'topic_name': 'Introduction Big-O Notation and Arithmetic', 'course_id': '912607011899179009'}, {'id': '73874', 'topic_name': 'Divide-and-Conquer', 'course_id': '912607011899179009'}, {'id': '75084', 'topic_name': 'True or False or Maybe..?', 'course_id': '912607011899179009'}, {'id': '75094', 'topic_name': 'Linear Programming', 'course_id': '912607011899179009'}, {'id': '76147', 'topic_name': 'Gambling', 'course_id': '912607011899179009'}, {'id': '85963', 'topic_name': 'Algorithms', 'course_id': '912607011899179009'}, {'id': '87372', 'topic_name': 'Dynamic Programming', 'course_id': '912607011899179009'}, {'id': '87528', 'topic_name': 'Graphs and DFS', 'course_id': '912607011899179009'}, {'id': '91030', 'topic_name': 'True or False?', 'course_id': '912607011899179009'}, {'id': '98161', 'topic_name': 'Zero-Sum Games', 'course_id': '912607011899179009'}]\n",
      "Algorithms topic already exists\n"
     ]
    },
    {
     "name": "stdout",
     "output_type": "stream",
     "text": [
      "[{'id': '10236', 'topic_name': 'Greedy Algorithms', 'course_id': '912607011899179009'}, {'id': '11361', 'topic_name': 'Algorithm Analysis', 'course_id': '912607011899179009'}, {'id': '14113', 'topic_name': 'Approximation Algorithms', 'course_id': '912607011899179009'}, {'id': '18478', 'topic_name': 'Randomized Algorithms', 'course_id': '912607011899179009'}, {'id': '20882', 'topic_name': 'NP-Completeness', 'course_id': '912607011899179009'}, {'id': '21049', 'topic_name': 'Factoring Numbers via Circuit SAT', 'course_id': '912607011899179009'}, {'id': '21100', 'topic_name': 'Finding Bridges', 'course_id': '912607011899179009'}, {'id': '23509', 'topic_name': 'Hashing', 'course_id': '912607011899179009'}, {'id': '30573', 'topic_name': 'Updating Distances', 'course_id': '912607011899179009'}, {'id': '30898', 'topic_name': 'Vertex Cover', 'course_id': '912607011899179009'}, {'id': '32240', 'topic_name': 'Paths in Graphs', 'course_id': '912607011899179009'}, {'id': '32666', 'topic_name': 'NP-completeness', 'course_id': '912607011899179009'}, {'id': '37006', 'topic_name': 'Strongly Connected Components', 'course_id': '912607011899179009'}, {'id': '60460', 'topic_name': 'Complete the sentences', 'course_id': '912607011899179009'}, {'id': '61239', 'topic_name': 'Find the satisfying one', 'course_id': '912607011899179009'}, {'id': '62106', 'topic_name': 'Maximum Flow', 'course_id': '912607011899179009'}, {'id': '62601', 'topic_name': 'Roadside Assistance', 'course_id': '912607011899179009'}, {'id': '63544', 'topic_name': 'Minimum Spanning Tree', 'course_id': '912607011899179009'}, {'id': '65251', 'topic_name': 'Reductions, Bipartite Matching', 'course_id': '912607011899179009'}, {'id': '66431', 'topic_name': 'Introduction Big-O Notation and Arithmetic', 'course_id': '912607011899179009'}, {'id': '73874', 'topic_name': 'Divide-and-Conquer', 'course_id': '912607011899179009'}, {'id': '75084', 'topic_name': 'True or False or Maybe..?', 'course_id': '912607011899179009'}, {'id': '75094', 'topic_name': 'Linear Programming', 'course_id': '912607011899179009'}, {'id': '76147', 'topic_name': 'Gambling', 'course_id': '912607011899179009'}, {'id': '85963', 'topic_name': 'Algorithms', 'course_id': '912607011899179009'}, {'id': '87372', 'topic_name': 'Dynamic Programming', 'course_id': '912607011899179009'}, {'id': '87528', 'topic_name': 'Graphs and DFS', 'course_id': '912607011899179009'}, {'id': '91030', 'topic_name': 'True or False?', 'course_id': '912607011899179009'}, {'id': '98161', 'topic_name': 'Zero-Sum Games', 'course_id': '912607011899179009'}]\n",
      "Algorithms topic already exists\n",
      "[{'id': '10236', 'topic_name': 'Greedy Algorithms', 'course_id': '912607011899179009'}, {'id': '11361', 'topic_name': 'Algorithm Analysis', 'course_id': '912607011899179009'}, {'id': '14113', 'topic_name': 'Approximation Algorithms', 'course_id': '912607011899179009'}, {'id': '18478', 'topic_name': 'Randomized Algorithms', 'course_id': '912607011899179009'}, {'id': '20882', 'topic_name': 'NP-Completeness', 'course_id': '912607011899179009'}, {'id': '21049', 'topic_name': 'Factoring Numbers via Circuit SAT', 'course_id': '912607011899179009'}, {'id': '21100', 'topic_name': 'Finding Bridges', 'course_id': '912607011899179009'}, {'id': '23509', 'topic_name': 'Hashing', 'course_id': '912607011899179009'}, {'id': '30573', 'topic_name': 'Updating Distances', 'course_id': '912607011899179009'}, {'id': '30898', 'topic_name': 'Vertex Cover', 'course_id': '912607011899179009'}, {'id': '32240', 'topic_name': 'Paths in Graphs', 'course_id': '912607011899179009'}, {'id': '32666', 'topic_name': 'NP-completeness', 'course_id': '912607011899179009'}, {'id': '37006', 'topic_name': 'Strongly Connected Components', 'course_id': '912607011899179009'}, {'id': '60460', 'topic_name': 'Complete the sentences', 'course_id': '912607011899179009'}, {'id': '61239', 'topic_name': 'Find the satisfying one', 'course_id': '912607011899179009'}, {'id': '62106', 'topic_name': 'Maximum Flow', 'course_id': '912607011899179009'}, {'id': '62601', 'topic_name': 'Roadside Assistance', 'course_id': '912607011899179009'}, {'id': '63544', 'topic_name': 'Minimum Spanning Tree', 'course_id': '912607011899179009'}, {'id': '65251', 'topic_name': 'Reductions, Bipartite Matching', 'course_id': '912607011899179009'}, {'id': '66431', 'topic_name': 'Introduction Big-O Notation and Arithmetic', 'course_id': '912607011899179009'}, {'id': '73874', 'topic_name': 'Divide-and-Conquer', 'course_id': '912607011899179009'}, {'id': '75084', 'topic_name': 'True or False or Maybe..?', 'course_id': '912607011899179009'}, {'id': '75094', 'topic_name': 'Linear Programming', 'course_id': '912607011899179009'}, {'id': '76147', 'topic_name': 'Gambling', 'course_id': '912607011899179009'}, {'id': '85963', 'topic_name': 'Algorithms', 'course_id': '912607011899179009'}, {'id': '87372', 'topic_name': 'Dynamic Programming', 'course_id': '912607011899179009'}, {'id': '87528', 'topic_name': 'Graphs and DFS', 'course_id': '912607011899179009'}, {'id': '91030', 'topic_name': 'True or False?', 'course_id': '912607011899179009'}, {'id': '98161', 'topic_name': 'Zero-Sum Games', 'course_id': '912607011899179009'}]\n",
      "Algorithms topic already exists\n",
      "[{'id': '10236', 'topic_name': 'Greedy Algorithms', 'course_id': '912607011899179009'}, {'id': '11361', 'topic_name': 'Algorithm Analysis', 'course_id': '912607011899179009'}, {'id': '14113', 'topic_name': 'Approximation Algorithms', 'course_id': '912607011899179009'}, {'id': '18478', 'topic_name': 'Randomized Algorithms', 'course_id': '912607011899179009'}, {'id': '20882', 'topic_name': 'NP-Completeness', 'course_id': '912607011899179009'}, {'id': '21049', 'topic_name': 'Factoring Numbers via Circuit SAT', 'course_id': '912607011899179009'}, {'id': '21100', 'topic_name': 'Finding Bridges', 'course_id': '912607011899179009'}, {'id': '23509', 'topic_name': 'Hashing', 'course_id': '912607011899179009'}, {'id': '30573', 'topic_name': 'Updating Distances', 'course_id': '912607011899179009'}, {'id': '30898', 'topic_name': 'Vertex Cover', 'course_id': '912607011899179009'}, {'id': '32240', 'topic_name': 'Paths in Graphs', 'course_id': '912607011899179009'}, {'id': '32666', 'topic_name': 'NP-completeness', 'course_id': '912607011899179009'}, {'id': '37006', 'topic_name': 'Strongly Connected Components', 'course_id': '912607011899179009'}, {'id': '60460', 'topic_name': 'Complete the sentences', 'course_id': '912607011899179009'}, {'id': '61239', 'topic_name': 'Find the satisfying one', 'course_id': '912607011899179009'}, {'id': '62106', 'topic_name': 'Maximum Flow', 'course_id': '912607011899179009'}, {'id': '62601', 'topic_name': 'Roadside Assistance', 'course_id': '912607011899179009'}, {'id': '63544', 'topic_name': 'Minimum Spanning Tree', 'course_id': '912607011899179009'}, {'id': '65251', 'topic_name': 'Reductions, Bipartite Matching', 'course_id': '912607011899179009'}, {'id': '66431', 'topic_name': 'Introduction Big-O Notation and Arithmetic', 'course_id': '912607011899179009'}, {'id': '73874', 'topic_name': 'Divide-and-Conquer', 'course_id': '912607011899179009'}, {'id': '75084', 'topic_name': 'True or False or Maybe..?', 'course_id': '912607011899179009'}, {'id': '75094', 'topic_name': 'Linear Programming', 'course_id': '912607011899179009'}, {'id': '76147', 'topic_name': 'Gambling', 'course_id': '912607011899179009'}, {'id': '85963', 'topic_name': 'Algorithms', 'course_id': '912607011899179009'}, {'id': '87372', 'topic_name': 'Dynamic Programming', 'course_id': '912607011899179009'}, {'id': '87528', 'topic_name': 'Graphs and DFS', 'course_id': '912607011899179009'}, {'id': '91030', 'topic_name': 'True or False?', 'course_id': '912607011899179009'}, {'id': '98161', 'topic_name': 'Zero-Sum Games', 'course_id': '912607011899179009'}]\n",
      "Algorithms topic already exists\n",
      "[{'id': '10236', 'topic_name': 'Greedy Algorithms', 'course_id': '912607011899179009'}, {'id': '11361', 'topic_name': 'Algorithm Analysis', 'course_id': '912607011899179009'}, {'id': '14113', 'topic_name': 'Approximation Algorithms', 'course_id': '912607011899179009'}, {'id': '18478', 'topic_name': 'Randomized Algorithms', 'course_id': '912607011899179009'}, {'id': '20882', 'topic_name': 'NP-Completeness', 'course_id': '912607011899179009'}, {'id': '21049', 'topic_name': 'Factoring Numbers via Circuit SAT', 'course_id': '912607011899179009'}, {'id': '21100', 'topic_name': 'Finding Bridges', 'course_id': '912607011899179009'}, {'id': '23509', 'topic_name': 'Hashing', 'course_id': '912607011899179009'}, {'id': '30573', 'topic_name': 'Updating Distances', 'course_id': '912607011899179009'}, {'id': '30898', 'topic_name': 'Vertex Cover', 'course_id': '912607011899179009'}, {'id': '32240', 'topic_name': 'Paths in Graphs', 'course_id': '912607011899179009'}, {'id': '32666', 'topic_name': 'NP-completeness', 'course_id': '912607011899179009'}, {'id': '37006', 'topic_name': 'Strongly Connected Components', 'course_id': '912607011899179009'}, {'id': '60460', 'topic_name': 'Complete the sentences', 'course_id': '912607011899179009'}, {'id': '61239', 'topic_name': 'Find the satisfying one', 'course_id': '912607011899179009'}, {'id': '62106', 'topic_name': 'Maximum Flow', 'course_id': '912607011899179009'}, {'id': '62601', 'topic_name': 'Roadside Assistance', 'course_id': '912607011899179009'}, {'id': '63544', 'topic_name': 'Minimum Spanning Tree', 'course_id': '912607011899179009'}, {'id': '65251', 'topic_name': 'Reductions, Bipartite Matching', 'course_id': '912607011899179009'}, {'id': '66431', 'topic_name': 'Introduction Big-O Notation and Arithmetic', 'course_id': '912607011899179009'}, {'id': '73874', 'topic_name': 'Divide-and-Conquer', 'course_id': '912607011899179009'}, {'id': '75084', 'topic_name': 'True or False or Maybe..?', 'course_id': '912607011899179009'}, {'id': '75094', 'topic_name': 'Linear Programming', 'course_id': '912607011899179009'}, {'id': '76147', 'topic_name': 'Gambling', 'course_id': '912607011899179009'}, {'id': '85963', 'topic_name': 'Algorithms', 'course_id': '912607011899179009'}, {'id': '87372', 'topic_name': 'Dynamic Programming', 'course_id': '912607011899179009'}, {'id': '87528', 'topic_name': 'Graphs and DFS', 'course_id': '912607011899179009'}, {'id': '91030', 'topic_name': 'True or False?', 'course_id': '912607011899179009'}, {'id': '98161', 'topic_name': 'Zero-Sum Games', 'course_id': '912607011899179009'}]\n",
      "Graphs and DFS topic already exists\n",
      "[{'id': '10236', 'topic_name': 'Greedy Algorithms', 'course_id': '912607011899179009'}, {'id': '11361', 'topic_name': 'Algorithm Analysis', 'course_id': '912607011899179009'}, {'id': '14113', 'topic_name': 'Approximation Algorithms', 'course_id': '912607011899179009'}, {'id': '18478', 'topic_name': 'Randomized Algorithms', 'course_id': '912607011899179009'}, {'id': '20882', 'topic_name': 'NP-Completeness', 'course_id': '912607011899179009'}, {'id': '21049', 'topic_name': 'Factoring Numbers via Circuit SAT', 'course_id': '912607011899179009'}, {'id': '21100', 'topic_name': 'Finding Bridges', 'course_id': '912607011899179009'}, {'id': '23509', 'topic_name': 'Hashing', 'course_id': '912607011899179009'}, {'id': '30573', 'topic_name': 'Updating Distances', 'course_id': '912607011899179009'}, {'id': '30898', 'topic_name': 'Vertex Cover', 'course_id': '912607011899179009'}, {'id': '32240', 'topic_name': 'Paths in Graphs', 'course_id': '912607011899179009'}, {'id': '32666', 'topic_name': 'NP-completeness', 'course_id': '912607011899179009'}, {'id': '37006', 'topic_name': 'Strongly Connected Components', 'course_id': '912607011899179009'}, {'id': '60460', 'topic_name': 'Complete the sentences', 'course_id': '912607011899179009'}, {'id': '61239', 'topic_name': 'Find the satisfying one', 'course_id': '912607011899179009'}, {'id': '62106', 'topic_name': 'Maximum Flow', 'course_id': '912607011899179009'}, {'id': '62601', 'topic_name': 'Roadside Assistance', 'course_id': '912607011899179009'}, {'id': '63544', 'topic_name': 'Minimum Spanning Tree', 'course_id': '912607011899179009'}, {'id': '65251', 'topic_name': 'Reductions, Bipartite Matching', 'course_id': '912607011899179009'}, {'id': '66431', 'topic_name': 'Introduction Big-O Notation and Arithmetic', 'course_id': '912607011899179009'}, {'id': '73874', 'topic_name': 'Divide-and-Conquer', 'course_id': '912607011899179009'}, {'id': '75084', 'topic_name': 'True or False or Maybe..?', 'course_id': '912607011899179009'}, {'id': '75094', 'topic_name': 'Linear Programming', 'course_id': '912607011899179009'}, {'id': '76147', 'topic_name': 'Gambling', 'course_id': '912607011899179009'}, {'id': '85963', 'topic_name': 'Algorithms', 'course_id': '912607011899179009'}, {'id': '87372', 'topic_name': 'Dynamic Programming', 'course_id': '912607011899179009'}, {'id': '87528', 'topic_name': 'Graphs and DFS', 'course_id': '912607011899179009'}, {'id': '91030', 'topic_name': 'True or False?', 'course_id': '912607011899179009'}, {'id': '98161', 'topic_name': 'Zero-Sum Games', 'course_id': '912607011899179009'}]\n",
      "Graphs and DFS topic already exists\n"
     ]
    },
    {
     "name": "stdout",
     "output_type": "stream",
     "text": [
      "[{'id': '10236', 'topic_name': 'Greedy Algorithms', 'course_id': '912607011899179009'}, {'id': '11361', 'topic_name': 'Algorithm Analysis', 'course_id': '912607011899179009'}, {'id': '14113', 'topic_name': 'Approximation Algorithms', 'course_id': '912607011899179009'}, {'id': '18478', 'topic_name': 'Randomized Algorithms', 'course_id': '912607011899179009'}, {'id': '20882', 'topic_name': 'NP-Completeness', 'course_id': '912607011899179009'}, {'id': '21049', 'topic_name': 'Factoring Numbers via Circuit SAT', 'course_id': '912607011899179009'}, {'id': '21100', 'topic_name': 'Finding Bridges', 'course_id': '912607011899179009'}, {'id': '23509', 'topic_name': 'Hashing', 'course_id': '912607011899179009'}, {'id': '30573', 'topic_name': 'Updating Distances', 'course_id': '912607011899179009'}, {'id': '30898', 'topic_name': 'Vertex Cover', 'course_id': '912607011899179009'}, {'id': '32240', 'topic_name': 'Paths in Graphs', 'course_id': '912607011899179009'}, {'id': '32666', 'topic_name': 'NP-completeness', 'course_id': '912607011899179009'}, {'id': '37006', 'topic_name': 'Strongly Connected Components', 'course_id': '912607011899179009'}, {'id': '60460', 'topic_name': 'Complete the sentences', 'course_id': '912607011899179009'}, {'id': '61239', 'topic_name': 'Find the satisfying one', 'course_id': '912607011899179009'}, {'id': '62106', 'topic_name': 'Maximum Flow', 'course_id': '912607011899179009'}, {'id': '62601', 'topic_name': 'Roadside Assistance', 'course_id': '912607011899179009'}, {'id': '63544', 'topic_name': 'Minimum Spanning Tree', 'course_id': '912607011899179009'}, {'id': '65251', 'topic_name': 'Reductions, Bipartite Matching', 'course_id': '912607011899179009'}, {'id': '66431', 'topic_name': 'Introduction Big-O Notation and Arithmetic', 'course_id': '912607011899179009'}, {'id': '73874', 'topic_name': 'Divide-and-Conquer', 'course_id': '912607011899179009'}, {'id': '75084', 'topic_name': 'True or False or Maybe..?', 'course_id': '912607011899179009'}, {'id': '75094', 'topic_name': 'Linear Programming', 'course_id': '912607011899179009'}, {'id': '76147', 'topic_name': 'Gambling', 'course_id': '912607011899179009'}, {'id': '85963', 'topic_name': 'Algorithms', 'course_id': '912607011899179009'}, {'id': '87372', 'topic_name': 'Dynamic Programming', 'course_id': '912607011899179009'}, {'id': '87528', 'topic_name': 'Graphs and DFS', 'course_id': '912607011899179009'}, {'id': '91030', 'topic_name': 'True or False?', 'course_id': '912607011899179009'}, {'id': '98161', 'topic_name': 'Zero-Sum Games', 'course_id': '912607011899179009'}]\n",
      "Graphs and DFS topic already exists\n",
      "[{'id': '10236', 'topic_name': 'Greedy Algorithms', 'course_id': '912607011899179009'}, {'id': '11361', 'topic_name': 'Algorithm Analysis', 'course_id': '912607011899179009'}, {'id': '14113', 'topic_name': 'Approximation Algorithms', 'course_id': '912607011899179009'}, {'id': '18478', 'topic_name': 'Randomized Algorithms', 'course_id': '912607011899179009'}, {'id': '20882', 'topic_name': 'NP-Completeness', 'course_id': '912607011899179009'}, {'id': '21049', 'topic_name': 'Factoring Numbers via Circuit SAT', 'course_id': '912607011899179009'}, {'id': '21100', 'topic_name': 'Finding Bridges', 'course_id': '912607011899179009'}, {'id': '23509', 'topic_name': 'Hashing', 'course_id': '912607011899179009'}, {'id': '30573', 'topic_name': 'Updating Distances', 'course_id': '912607011899179009'}, {'id': '30898', 'topic_name': 'Vertex Cover', 'course_id': '912607011899179009'}, {'id': '32240', 'topic_name': 'Paths in Graphs', 'course_id': '912607011899179009'}, {'id': '32666', 'topic_name': 'NP-completeness', 'course_id': '912607011899179009'}, {'id': '37006', 'topic_name': 'Strongly Connected Components', 'course_id': '912607011899179009'}, {'id': '60460', 'topic_name': 'Complete the sentences', 'course_id': '912607011899179009'}, {'id': '61239', 'topic_name': 'Find the satisfying one', 'course_id': '912607011899179009'}, {'id': '62106', 'topic_name': 'Maximum Flow', 'course_id': '912607011899179009'}, {'id': '62601', 'topic_name': 'Roadside Assistance', 'course_id': '912607011899179009'}, {'id': '63544', 'topic_name': 'Minimum Spanning Tree', 'course_id': '912607011899179009'}, {'id': '65251', 'topic_name': 'Reductions, Bipartite Matching', 'course_id': '912607011899179009'}, {'id': '66431', 'topic_name': 'Introduction Big-O Notation and Arithmetic', 'course_id': '912607011899179009'}, {'id': '73874', 'topic_name': 'Divide-and-Conquer', 'course_id': '912607011899179009'}, {'id': '75084', 'topic_name': 'True or False or Maybe..?', 'course_id': '912607011899179009'}, {'id': '75094', 'topic_name': 'Linear Programming', 'course_id': '912607011899179009'}, {'id': '76147', 'topic_name': 'Gambling', 'course_id': '912607011899179009'}, {'id': '85963', 'topic_name': 'Algorithms', 'course_id': '912607011899179009'}, {'id': '87372', 'topic_name': 'Dynamic Programming', 'course_id': '912607011899179009'}, {'id': '87528', 'topic_name': 'Graphs and DFS', 'course_id': '912607011899179009'}, {'id': '91030', 'topic_name': 'True or False?', 'course_id': '912607011899179009'}, {'id': '98161', 'topic_name': 'Zero-Sum Games', 'course_id': '912607011899179009'}]\n",
      "Divide-and-Conquer topic already exists\n",
      "[{'id': '10236', 'topic_name': 'Greedy Algorithms', 'course_id': '912607011899179009'}, {'id': '11361', 'topic_name': 'Algorithm Analysis', 'course_id': '912607011899179009'}, {'id': '14113', 'topic_name': 'Approximation Algorithms', 'course_id': '912607011899179009'}, {'id': '18478', 'topic_name': 'Randomized Algorithms', 'course_id': '912607011899179009'}, {'id': '20882', 'topic_name': 'NP-Completeness', 'course_id': '912607011899179009'}, {'id': '21049', 'topic_name': 'Factoring Numbers via Circuit SAT', 'course_id': '912607011899179009'}, {'id': '21100', 'topic_name': 'Finding Bridges', 'course_id': '912607011899179009'}, {'id': '23509', 'topic_name': 'Hashing', 'course_id': '912607011899179009'}, {'id': '30573', 'topic_name': 'Updating Distances', 'course_id': '912607011899179009'}, {'id': '30898', 'topic_name': 'Vertex Cover', 'course_id': '912607011899179009'}, {'id': '32240', 'topic_name': 'Paths in Graphs', 'course_id': '912607011899179009'}, {'id': '32666', 'topic_name': 'NP-completeness', 'course_id': '912607011899179009'}, {'id': '37006', 'topic_name': 'Strongly Connected Components', 'course_id': '912607011899179009'}, {'id': '60460', 'topic_name': 'Complete the sentences', 'course_id': '912607011899179009'}, {'id': '61239', 'topic_name': 'Find the satisfying one', 'course_id': '912607011899179009'}, {'id': '62106', 'topic_name': 'Maximum Flow', 'course_id': '912607011899179009'}, {'id': '62601', 'topic_name': 'Roadside Assistance', 'course_id': '912607011899179009'}, {'id': '63544', 'topic_name': 'Minimum Spanning Tree', 'course_id': '912607011899179009'}, {'id': '65251', 'topic_name': 'Reductions, Bipartite Matching', 'course_id': '912607011899179009'}, {'id': '66431', 'topic_name': 'Introduction Big-O Notation and Arithmetic', 'course_id': '912607011899179009'}, {'id': '73874', 'topic_name': 'Divide-and-Conquer', 'course_id': '912607011899179009'}, {'id': '75084', 'topic_name': 'True or False or Maybe..?', 'course_id': '912607011899179009'}, {'id': '75094', 'topic_name': 'Linear Programming', 'course_id': '912607011899179009'}, {'id': '76147', 'topic_name': 'Gambling', 'course_id': '912607011899179009'}, {'id': '85963', 'topic_name': 'Algorithms', 'course_id': '912607011899179009'}, {'id': '87372', 'topic_name': 'Dynamic Programming', 'course_id': '912607011899179009'}, {'id': '87528', 'topic_name': 'Graphs and DFS', 'course_id': '912607011899179009'}, {'id': '91030', 'topic_name': 'True or False?', 'course_id': '912607011899179009'}, {'id': '98161', 'topic_name': 'Zero-Sum Games', 'course_id': '912607011899179009'}]\n",
      "Algorithms topic already exists\n",
      "[{'id': '10236', 'topic_name': 'Greedy Algorithms', 'course_id': '912607011899179009'}, {'id': '11361', 'topic_name': 'Algorithm Analysis', 'course_id': '912607011899179009'}, {'id': '14113', 'topic_name': 'Approximation Algorithms', 'course_id': '912607011899179009'}, {'id': '18478', 'topic_name': 'Randomized Algorithms', 'course_id': '912607011899179009'}, {'id': '20882', 'topic_name': 'NP-Completeness', 'course_id': '912607011899179009'}, {'id': '21049', 'topic_name': 'Factoring Numbers via Circuit SAT', 'course_id': '912607011899179009'}, {'id': '21100', 'topic_name': 'Finding Bridges', 'course_id': '912607011899179009'}, {'id': '23509', 'topic_name': 'Hashing', 'course_id': '912607011899179009'}, {'id': '30573', 'topic_name': 'Updating Distances', 'course_id': '912607011899179009'}, {'id': '30898', 'topic_name': 'Vertex Cover', 'course_id': '912607011899179009'}, {'id': '32240', 'topic_name': 'Paths in Graphs', 'course_id': '912607011899179009'}, {'id': '32666', 'topic_name': 'NP-completeness', 'course_id': '912607011899179009'}, {'id': '37006', 'topic_name': 'Strongly Connected Components', 'course_id': '912607011899179009'}, {'id': '60460', 'topic_name': 'Complete the sentences', 'course_id': '912607011899179009'}, {'id': '61239', 'topic_name': 'Find the satisfying one', 'course_id': '912607011899179009'}, {'id': '62106', 'topic_name': 'Maximum Flow', 'course_id': '912607011899179009'}, {'id': '62601', 'topic_name': 'Roadside Assistance', 'course_id': '912607011899179009'}, {'id': '63544', 'topic_name': 'Minimum Spanning Tree', 'course_id': '912607011899179009'}, {'id': '65251', 'topic_name': 'Reductions, Bipartite Matching', 'course_id': '912607011899179009'}, {'id': '66431', 'topic_name': 'Introduction Big-O Notation and Arithmetic', 'course_id': '912607011899179009'}, {'id': '73874', 'topic_name': 'Divide-and-Conquer', 'course_id': '912607011899179009'}, {'id': '75084', 'topic_name': 'True or False or Maybe..?', 'course_id': '912607011899179009'}, {'id': '75094', 'topic_name': 'Linear Programming', 'course_id': '912607011899179009'}, {'id': '76147', 'topic_name': 'Gambling', 'course_id': '912607011899179009'}, {'id': '85963', 'topic_name': 'Algorithms', 'course_id': '912607011899179009'}, {'id': '87372', 'topic_name': 'Dynamic Programming', 'course_id': '912607011899179009'}, {'id': '87528', 'topic_name': 'Graphs and DFS', 'course_id': '912607011899179009'}, {'id': '91030', 'topic_name': 'True or False?', 'course_id': '912607011899179009'}, {'id': '98161', 'topic_name': 'Zero-Sum Games', 'course_id': '912607011899179009'}]\n",
      "Graphs and DFS topic already exists\n"
     ]
    },
    {
     "name": "stdout",
     "output_type": "stream",
     "text": [
      "[{'id': '10236', 'topic_name': 'Greedy Algorithms', 'course_id': '912607011899179009'}, {'id': '11361', 'topic_name': 'Algorithm Analysis', 'course_id': '912607011899179009'}, {'id': '14113', 'topic_name': 'Approximation Algorithms', 'course_id': '912607011899179009'}, {'id': '18478', 'topic_name': 'Randomized Algorithms', 'course_id': '912607011899179009'}, {'id': '20882', 'topic_name': 'NP-Completeness', 'course_id': '912607011899179009'}, {'id': '21049', 'topic_name': 'Factoring Numbers via Circuit SAT', 'course_id': '912607011899179009'}, {'id': '21100', 'topic_name': 'Finding Bridges', 'course_id': '912607011899179009'}, {'id': '23509', 'topic_name': 'Hashing', 'course_id': '912607011899179009'}, {'id': '30573', 'topic_name': 'Updating Distances', 'course_id': '912607011899179009'}, {'id': '30898', 'topic_name': 'Vertex Cover', 'course_id': '912607011899179009'}, {'id': '32240', 'topic_name': 'Paths in Graphs', 'course_id': '912607011899179009'}, {'id': '32666', 'topic_name': 'NP-completeness', 'course_id': '912607011899179009'}, {'id': '37006', 'topic_name': 'Strongly Connected Components', 'course_id': '912607011899179009'}, {'id': '60460', 'topic_name': 'Complete the sentences', 'course_id': '912607011899179009'}, {'id': '61239', 'topic_name': 'Find the satisfying one', 'course_id': '912607011899179009'}, {'id': '62106', 'topic_name': 'Maximum Flow', 'course_id': '912607011899179009'}, {'id': '62601', 'topic_name': 'Roadside Assistance', 'course_id': '912607011899179009'}, {'id': '63544', 'topic_name': 'Minimum Spanning Tree', 'course_id': '912607011899179009'}, {'id': '65251', 'topic_name': 'Reductions, Bipartite Matching', 'course_id': '912607011899179009'}, {'id': '66431', 'topic_name': 'Introduction Big-O Notation and Arithmetic', 'course_id': '912607011899179009'}, {'id': '73874', 'topic_name': 'Divide-and-Conquer', 'course_id': '912607011899179009'}, {'id': '75084', 'topic_name': 'True or False or Maybe..?', 'course_id': '912607011899179009'}, {'id': '75094', 'topic_name': 'Linear Programming', 'course_id': '912607011899179009'}, {'id': '76147', 'topic_name': 'Gambling', 'course_id': '912607011899179009'}, {'id': '85963', 'topic_name': 'Algorithms', 'course_id': '912607011899179009'}, {'id': '87372', 'topic_name': 'Dynamic Programming', 'course_id': '912607011899179009'}, {'id': '87528', 'topic_name': 'Graphs and DFS', 'course_id': '912607011899179009'}, {'id': '91030', 'topic_name': 'True or False?', 'course_id': '912607011899179009'}, {'id': '98161', 'topic_name': 'Zero-Sum Games', 'course_id': '912607011899179009'}]\n",
      "Graphs and DFS topic already exists\n",
      "[{'id': '10236', 'topic_name': 'Greedy Algorithms', 'course_id': '912607011899179009'}, {'id': '11361', 'topic_name': 'Algorithm Analysis', 'course_id': '912607011899179009'}, {'id': '14113', 'topic_name': 'Approximation Algorithms', 'course_id': '912607011899179009'}, {'id': '18478', 'topic_name': 'Randomized Algorithms', 'course_id': '912607011899179009'}, {'id': '20882', 'topic_name': 'NP-Completeness', 'course_id': '912607011899179009'}, {'id': '21049', 'topic_name': 'Factoring Numbers via Circuit SAT', 'course_id': '912607011899179009'}, {'id': '21100', 'topic_name': 'Finding Bridges', 'course_id': '912607011899179009'}, {'id': '23509', 'topic_name': 'Hashing', 'course_id': '912607011899179009'}, {'id': '30573', 'topic_name': 'Updating Distances', 'course_id': '912607011899179009'}, {'id': '30898', 'topic_name': 'Vertex Cover', 'course_id': '912607011899179009'}, {'id': '32240', 'topic_name': 'Paths in Graphs', 'course_id': '912607011899179009'}, {'id': '32666', 'topic_name': 'NP-completeness', 'course_id': '912607011899179009'}, {'id': '37006', 'topic_name': 'Strongly Connected Components', 'course_id': '912607011899179009'}, {'id': '60460', 'topic_name': 'Complete the sentences', 'course_id': '912607011899179009'}, {'id': '61239', 'topic_name': 'Find the satisfying one', 'course_id': '912607011899179009'}, {'id': '62106', 'topic_name': 'Maximum Flow', 'course_id': '912607011899179009'}, {'id': '62601', 'topic_name': 'Roadside Assistance', 'course_id': '912607011899179009'}, {'id': '63544', 'topic_name': 'Minimum Spanning Tree', 'course_id': '912607011899179009'}, {'id': '65251', 'topic_name': 'Reductions, Bipartite Matching', 'course_id': '912607011899179009'}, {'id': '66431', 'topic_name': 'Introduction Big-O Notation and Arithmetic', 'course_id': '912607011899179009'}, {'id': '73874', 'topic_name': 'Divide-and-Conquer', 'course_id': '912607011899179009'}, {'id': '75084', 'topic_name': 'True or False or Maybe..?', 'course_id': '912607011899179009'}, {'id': '75094', 'topic_name': 'Linear Programming', 'course_id': '912607011899179009'}, {'id': '76147', 'topic_name': 'Gambling', 'course_id': '912607011899179009'}, {'id': '85963', 'topic_name': 'Algorithms', 'course_id': '912607011899179009'}, {'id': '87372', 'topic_name': 'Dynamic Programming', 'course_id': '912607011899179009'}, {'id': '87528', 'topic_name': 'Graphs and DFS', 'course_id': '912607011899179009'}, {'id': '91030', 'topic_name': 'True or False?', 'course_id': '912607011899179009'}, {'id': '98161', 'topic_name': 'Zero-Sum Games', 'course_id': '912607011899179009'}]\n",
      "Algorithms topic already exists\n",
      "[{'id': '10236', 'topic_name': 'Greedy Algorithms', 'course_id': '912607011899179009'}, {'id': '11361', 'topic_name': 'Algorithm Analysis', 'course_id': '912607011899179009'}, {'id': '14113', 'topic_name': 'Approximation Algorithms', 'course_id': '912607011899179009'}, {'id': '18478', 'topic_name': 'Randomized Algorithms', 'course_id': '912607011899179009'}, {'id': '20882', 'topic_name': 'NP-Completeness', 'course_id': '912607011899179009'}, {'id': '21049', 'topic_name': 'Factoring Numbers via Circuit SAT', 'course_id': '912607011899179009'}, {'id': '21100', 'topic_name': 'Finding Bridges', 'course_id': '912607011899179009'}, {'id': '23509', 'topic_name': 'Hashing', 'course_id': '912607011899179009'}, {'id': '30573', 'topic_name': 'Updating Distances', 'course_id': '912607011899179009'}, {'id': '30898', 'topic_name': 'Vertex Cover', 'course_id': '912607011899179009'}, {'id': '32240', 'topic_name': 'Paths in Graphs', 'course_id': '912607011899179009'}, {'id': '32666', 'topic_name': 'NP-completeness', 'course_id': '912607011899179009'}, {'id': '37006', 'topic_name': 'Strongly Connected Components', 'course_id': '912607011899179009'}, {'id': '60460', 'topic_name': 'Complete the sentences', 'course_id': '912607011899179009'}, {'id': '61239', 'topic_name': 'Find the satisfying one', 'course_id': '912607011899179009'}, {'id': '62106', 'topic_name': 'Maximum Flow', 'course_id': '912607011899179009'}, {'id': '62601', 'topic_name': 'Roadside Assistance', 'course_id': '912607011899179009'}, {'id': '63544', 'topic_name': 'Minimum Spanning Tree', 'course_id': '912607011899179009'}, {'id': '65251', 'topic_name': 'Reductions, Bipartite Matching', 'course_id': '912607011899179009'}, {'id': '66431', 'topic_name': 'Introduction Big-O Notation and Arithmetic', 'course_id': '912607011899179009'}, {'id': '73874', 'topic_name': 'Divide-and-Conquer', 'course_id': '912607011899179009'}, {'id': '75084', 'topic_name': 'True or False or Maybe..?', 'course_id': '912607011899179009'}, {'id': '75094', 'topic_name': 'Linear Programming', 'course_id': '912607011899179009'}, {'id': '76147', 'topic_name': 'Gambling', 'course_id': '912607011899179009'}, {'id': '85963', 'topic_name': 'Algorithms', 'course_id': '912607011899179009'}, {'id': '87372', 'topic_name': 'Dynamic Programming', 'course_id': '912607011899179009'}, {'id': '87528', 'topic_name': 'Graphs and DFS', 'course_id': '912607011899179009'}, {'id': '91030', 'topic_name': 'True or False?', 'course_id': '912607011899179009'}, {'id': '98161', 'topic_name': 'Zero-Sum Games', 'course_id': '912607011899179009'}]\n",
      "Algorithms topic already exists\n",
      "[{'id': '10236', 'topic_name': 'Greedy Algorithms', 'course_id': '912607011899179009'}, {'id': '11361', 'topic_name': 'Algorithm Analysis', 'course_id': '912607011899179009'}, {'id': '14113', 'topic_name': 'Approximation Algorithms', 'course_id': '912607011899179009'}, {'id': '18478', 'topic_name': 'Randomized Algorithms', 'course_id': '912607011899179009'}, {'id': '20882', 'topic_name': 'NP-Completeness', 'course_id': '912607011899179009'}, {'id': '21049', 'topic_name': 'Factoring Numbers via Circuit SAT', 'course_id': '912607011899179009'}, {'id': '21100', 'topic_name': 'Finding Bridges', 'course_id': '912607011899179009'}, {'id': '23509', 'topic_name': 'Hashing', 'course_id': '912607011899179009'}, {'id': '30573', 'topic_name': 'Updating Distances', 'course_id': '912607011899179009'}, {'id': '30898', 'topic_name': 'Vertex Cover', 'course_id': '912607011899179009'}, {'id': '32240', 'topic_name': 'Paths in Graphs', 'course_id': '912607011899179009'}, {'id': '32666', 'topic_name': 'NP-completeness', 'course_id': '912607011899179009'}, {'id': '37006', 'topic_name': 'Strongly Connected Components', 'course_id': '912607011899179009'}, {'id': '60460', 'topic_name': 'Complete the sentences', 'course_id': '912607011899179009'}, {'id': '61239', 'topic_name': 'Find the satisfying one', 'course_id': '912607011899179009'}, {'id': '62106', 'topic_name': 'Maximum Flow', 'course_id': '912607011899179009'}, {'id': '62601', 'topic_name': 'Roadside Assistance', 'course_id': '912607011899179009'}, {'id': '63544', 'topic_name': 'Minimum Spanning Tree', 'course_id': '912607011899179009'}, {'id': '65251', 'topic_name': 'Reductions, Bipartite Matching', 'course_id': '912607011899179009'}, {'id': '66431', 'topic_name': 'Introduction Big-O Notation and Arithmetic', 'course_id': '912607011899179009'}, {'id': '73874', 'topic_name': 'Divide-and-Conquer', 'course_id': '912607011899179009'}, {'id': '75084', 'topic_name': 'True or False or Maybe..?', 'course_id': '912607011899179009'}, {'id': '75094', 'topic_name': 'Linear Programming', 'course_id': '912607011899179009'}, {'id': '76147', 'topic_name': 'Gambling', 'course_id': '912607011899179009'}, {'id': '85963', 'topic_name': 'Algorithms', 'course_id': '912607011899179009'}, {'id': '87372', 'topic_name': 'Dynamic Programming', 'course_id': '912607011899179009'}, {'id': '87528', 'topic_name': 'Graphs and DFS', 'course_id': '912607011899179009'}, {'id': '91030', 'topic_name': 'True or False?', 'course_id': '912607011899179009'}, {'id': '98161', 'topic_name': 'Zero-Sum Games', 'course_id': '912607011899179009'}]\n",
      "Algorithms topic already exists\n"
     ]
    },
    {
     "name": "stdout",
     "output_type": "stream",
     "text": [
      "[{'id': '10236', 'topic_name': 'Greedy Algorithms', 'course_id': '912607011899179009'}, {'id': '11361', 'topic_name': 'Algorithm Analysis', 'course_id': '912607011899179009'}, {'id': '14113', 'topic_name': 'Approximation Algorithms', 'course_id': '912607011899179009'}, {'id': '18478', 'topic_name': 'Randomized Algorithms', 'course_id': '912607011899179009'}, {'id': '20882', 'topic_name': 'NP-Completeness', 'course_id': '912607011899179009'}, {'id': '21049', 'topic_name': 'Factoring Numbers via Circuit SAT', 'course_id': '912607011899179009'}, {'id': '21100', 'topic_name': 'Finding Bridges', 'course_id': '912607011899179009'}, {'id': '23509', 'topic_name': 'Hashing', 'course_id': '912607011899179009'}, {'id': '30573', 'topic_name': 'Updating Distances', 'course_id': '912607011899179009'}, {'id': '30898', 'topic_name': 'Vertex Cover', 'course_id': '912607011899179009'}, {'id': '32240', 'topic_name': 'Paths in Graphs', 'course_id': '912607011899179009'}, {'id': '32666', 'topic_name': 'NP-completeness', 'course_id': '912607011899179009'}, {'id': '37006', 'topic_name': 'Strongly Connected Components', 'course_id': '912607011899179009'}, {'id': '60460', 'topic_name': 'Complete the sentences', 'course_id': '912607011899179009'}, {'id': '61239', 'topic_name': 'Find the satisfying one', 'course_id': '912607011899179009'}, {'id': '62106', 'topic_name': 'Maximum Flow', 'course_id': '912607011899179009'}, {'id': '62601', 'topic_name': 'Roadside Assistance', 'course_id': '912607011899179009'}, {'id': '63544', 'topic_name': 'Minimum Spanning Tree', 'course_id': '912607011899179009'}, {'id': '65251', 'topic_name': 'Reductions, Bipartite Matching', 'course_id': '912607011899179009'}, {'id': '66431', 'topic_name': 'Introduction Big-O Notation and Arithmetic', 'course_id': '912607011899179009'}, {'id': '73874', 'topic_name': 'Divide-and-Conquer', 'course_id': '912607011899179009'}, {'id': '75084', 'topic_name': 'True or False or Maybe..?', 'course_id': '912607011899179009'}, {'id': '75094', 'topic_name': 'Linear Programming', 'course_id': '912607011899179009'}, {'id': '76147', 'topic_name': 'Gambling', 'course_id': '912607011899179009'}, {'id': '85963', 'topic_name': 'Algorithms', 'course_id': '912607011899179009'}, {'id': '87372', 'topic_name': 'Dynamic Programming', 'course_id': '912607011899179009'}, {'id': '87528', 'topic_name': 'Graphs and DFS', 'course_id': '912607011899179009'}, {'id': '91030', 'topic_name': 'True or False?', 'course_id': '912607011899179009'}, {'id': '98161', 'topic_name': 'Zero-Sum Games', 'course_id': '912607011899179009'}]\n",
      "Algorithms topic already exists\n",
      "[{'id': '10236', 'topic_name': 'Greedy Algorithms', 'course_id': '912607011899179009'}, {'id': '11361', 'topic_name': 'Algorithm Analysis', 'course_id': '912607011899179009'}, {'id': '14113', 'topic_name': 'Approximation Algorithms', 'course_id': '912607011899179009'}, {'id': '18478', 'topic_name': 'Randomized Algorithms', 'course_id': '912607011899179009'}, {'id': '20882', 'topic_name': 'NP-Completeness', 'course_id': '912607011899179009'}, {'id': '21049', 'topic_name': 'Factoring Numbers via Circuit SAT', 'course_id': '912607011899179009'}, {'id': '21100', 'topic_name': 'Finding Bridges', 'course_id': '912607011899179009'}, {'id': '23509', 'topic_name': 'Hashing', 'course_id': '912607011899179009'}, {'id': '30573', 'topic_name': 'Updating Distances', 'course_id': '912607011899179009'}, {'id': '30898', 'topic_name': 'Vertex Cover', 'course_id': '912607011899179009'}, {'id': '32240', 'topic_name': 'Paths in Graphs', 'course_id': '912607011899179009'}, {'id': '32666', 'topic_name': 'NP-completeness', 'course_id': '912607011899179009'}, {'id': '37006', 'topic_name': 'Strongly Connected Components', 'course_id': '912607011899179009'}, {'id': '60460', 'topic_name': 'Complete the sentences', 'course_id': '912607011899179009'}, {'id': '61239', 'topic_name': 'Find the satisfying one', 'course_id': '912607011899179009'}, {'id': '62106', 'topic_name': 'Maximum Flow', 'course_id': '912607011899179009'}, {'id': '62601', 'topic_name': 'Roadside Assistance', 'course_id': '912607011899179009'}, {'id': '63544', 'topic_name': 'Minimum Spanning Tree', 'course_id': '912607011899179009'}, {'id': '65251', 'topic_name': 'Reductions, Bipartite Matching', 'course_id': '912607011899179009'}, {'id': '66431', 'topic_name': 'Introduction Big-O Notation and Arithmetic', 'course_id': '912607011899179009'}, {'id': '73874', 'topic_name': 'Divide-and-Conquer', 'course_id': '912607011899179009'}, {'id': '75084', 'topic_name': 'True or False or Maybe..?', 'course_id': '912607011899179009'}, {'id': '75094', 'topic_name': 'Linear Programming', 'course_id': '912607011899179009'}, {'id': '76147', 'topic_name': 'Gambling', 'course_id': '912607011899179009'}, {'id': '85963', 'topic_name': 'Algorithms', 'course_id': '912607011899179009'}, {'id': '87372', 'topic_name': 'Dynamic Programming', 'course_id': '912607011899179009'}, {'id': '87528', 'topic_name': 'Graphs and DFS', 'course_id': '912607011899179009'}, {'id': '91030', 'topic_name': 'True or False?', 'course_id': '912607011899179009'}, {'id': '98161', 'topic_name': 'Zero-Sum Games', 'course_id': '912607011899179009'}]\n",
      "Algorithms topic already exists\n",
      "[{'id': '10236', 'topic_name': 'Greedy Algorithms', 'course_id': '912607011899179009'}, {'id': '11361', 'topic_name': 'Algorithm Analysis', 'course_id': '912607011899179009'}, {'id': '14113', 'topic_name': 'Approximation Algorithms', 'course_id': '912607011899179009'}, {'id': '18478', 'topic_name': 'Randomized Algorithms', 'course_id': '912607011899179009'}, {'id': '20882', 'topic_name': 'NP-Completeness', 'course_id': '912607011899179009'}, {'id': '21049', 'topic_name': 'Factoring Numbers via Circuit SAT', 'course_id': '912607011899179009'}, {'id': '21100', 'topic_name': 'Finding Bridges', 'course_id': '912607011899179009'}, {'id': '23509', 'topic_name': 'Hashing', 'course_id': '912607011899179009'}, {'id': '30573', 'topic_name': 'Updating Distances', 'course_id': '912607011899179009'}, {'id': '30898', 'topic_name': 'Vertex Cover', 'course_id': '912607011899179009'}, {'id': '32240', 'topic_name': 'Paths in Graphs', 'course_id': '912607011899179009'}, {'id': '32666', 'topic_name': 'NP-completeness', 'course_id': '912607011899179009'}, {'id': '37006', 'topic_name': 'Strongly Connected Components', 'course_id': '912607011899179009'}, {'id': '60460', 'topic_name': 'Complete the sentences', 'course_id': '912607011899179009'}, {'id': '61239', 'topic_name': 'Find the satisfying one', 'course_id': '912607011899179009'}, {'id': '62106', 'topic_name': 'Maximum Flow', 'course_id': '912607011899179009'}, {'id': '62601', 'topic_name': 'Roadside Assistance', 'course_id': '912607011899179009'}, {'id': '63544', 'topic_name': 'Minimum Spanning Tree', 'course_id': '912607011899179009'}, {'id': '65251', 'topic_name': 'Reductions, Bipartite Matching', 'course_id': '912607011899179009'}, {'id': '66431', 'topic_name': 'Introduction Big-O Notation and Arithmetic', 'course_id': '912607011899179009'}, {'id': '73874', 'topic_name': 'Divide-and-Conquer', 'course_id': '912607011899179009'}, {'id': '75084', 'topic_name': 'True or False or Maybe..?', 'course_id': '912607011899179009'}, {'id': '75094', 'topic_name': 'Linear Programming', 'course_id': '912607011899179009'}, {'id': '76147', 'topic_name': 'Gambling', 'course_id': '912607011899179009'}, {'id': '85963', 'topic_name': 'Algorithms', 'course_id': '912607011899179009'}, {'id': '87372', 'topic_name': 'Dynamic Programming', 'course_id': '912607011899179009'}, {'id': '87528', 'topic_name': 'Graphs and DFS', 'course_id': '912607011899179009'}, {'id': '91030', 'topic_name': 'True or False?', 'course_id': '912607011899179009'}, {'id': '98161', 'topic_name': 'Zero-Sum Games', 'course_id': '912607011899179009'}]\n",
      "Algorithms topic already exists\n",
      "[{'id': '10236', 'topic_name': 'Greedy Algorithms', 'course_id': '912607011899179009'}, {'id': '11361', 'topic_name': 'Algorithm Analysis', 'course_id': '912607011899179009'}, {'id': '14113', 'topic_name': 'Approximation Algorithms', 'course_id': '912607011899179009'}, {'id': '18478', 'topic_name': 'Randomized Algorithms', 'course_id': '912607011899179009'}, {'id': '20882', 'topic_name': 'NP-Completeness', 'course_id': '912607011899179009'}, {'id': '21049', 'topic_name': 'Factoring Numbers via Circuit SAT', 'course_id': '912607011899179009'}, {'id': '21100', 'topic_name': 'Finding Bridges', 'course_id': '912607011899179009'}, {'id': '23509', 'topic_name': 'Hashing', 'course_id': '912607011899179009'}, {'id': '30573', 'topic_name': 'Updating Distances', 'course_id': '912607011899179009'}, {'id': '30898', 'topic_name': 'Vertex Cover', 'course_id': '912607011899179009'}, {'id': '32240', 'topic_name': 'Paths in Graphs', 'course_id': '912607011899179009'}, {'id': '32666', 'topic_name': 'NP-completeness', 'course_id': '912607011899179009'}, {'id': '37006', 'topic_name': 'Strongly Connected Components', 'course_id': '912607011899179009'}, {'id': '60460', 'topic_name': 'Complete the sentences', 'course_id': '912607011899179009'}, {'id': '61239', 'topic_name': 'Find the satisfying one', 'course_id': '912607011899179009'}, {'id': '62106', 'topic_name': 'Maximum Flow', 'course_id': '912607011899179009'}, {'id': '62601', 'topic_name': 'Roadside Assistance', 'course_id': '912607011899179009'}, {'id': '63544', 'topic_name': 'Minimum Spanning Tree', 'course_id': '912607011899179009'}, {'id': '65251', 'topic_name': 'Reductions, Bipartite Matching', 'course_id': '912607011899179009'}, {'id': '66431', 'topic_name': 'Introduction Big-O Notation and Arithmetic', 'course_id': '912607011899179009'}, {'id': '73874', 'topic_name': 'Divide-and-Conquer', 'course_id': '912607011899179009'}, {'id': '75084', 'topic_name': 'True or False or Maybe..?', 'course_id': '912607011899179009'}, {'id': '75094', 'topic_name': 'Linear Programming', 'course_id': '912607011899179009'}, {'id': '76147', 'topic_name': 'Gambling', 'course_id': '912607011899179009'}, {'id': '85963', 'topic_name': 'Algorithms', 'course_id': '912607011899179009'}, {'id': '87372', 'topic_name': 'Dynamic Programming', 'course_id': '912607011899179009'}, {'id': '87528', 'topic_name': 'Graphs and DFS', 'course_id': '912607011899179009'}, {'id': '91030', 'topic_name': 'True or False?', 'course_id': '912607011899179009'}, {'id': '98161', 'topic_name': 'Zero-Sum Games', 'course_id': '912607011899179009'}]\n",
      "Linear Programming topic already exists\n"
     ]
    },
    {
     "name": "stdout",
     "output_type": "stream",
     "text": [
      "[{'id': '10236', 'topic_name': 'Greedy Algorithms', 'course_id': '912607011899179009'}, {'id': '11361', 'topic_name': 'Algorithm Analysis', 'course_id': '912607011899179009'}, {'id': '14113', 'topic_name': 'Approximation Algorithms', 'course_id': '912607011899179009'}, {'id': '18478', 'topic_name': 'Randomized Algorithms', 'course_id': '912607011899179009'}, {'id': '20882', 'topic_name': 'NP-Completeness', 'course_id': '912607011899179009'}, {'id': '21049', 'topic_name': 'Factoring Numbers via Circuit SAT', 'course_id': '912607011899179009'}, {'id': '21100', 'topic_name': 'Finding Bridges', 'course_id': '912607011899179009'}, {'id': '23509', 'topic_name': 'Hashing', 'course_id': '912607011899179009'}, {'id': '30573', 'topic_name': 'Updating Distances', 'course_id': '912607011899179009'}, {'id': '30898', 'topic_name': 'Vertex Cover', 'course_id': '912607011899179009'}, {'id': '32240', 'topic_name': 'Paths in Graphs', 'course_id': '912607011899179009'}, {'id': '32666', 'topic_name': 'NP-completeness', 'course_id': '912607011899179009'}, {'id': '37006', 'topic_name': 'Strongly Connected Components', 'course_id': '912607011899179009'}, {'id': '60460', 'topic_name': 'Complete the sentences', 'course_id': '912607011899179009'}, {'id': '61239', 'topic_name': 'Find the satisfying one', 'course_id': '912607011899179009'}, {'id': '62106', 'topic_name': 'Maximum Flow', 'course_id': '912607011899179009'}, {'id': '62601', 'topic_name': 'Roadside Assistance', 'course_id': '912607011899179009'}, {'id': '63544', 'topic_name': 'Minimum Spanning Tree', 'course_id': '912607011899179009'}, {'id': '65251', 'topic_name': 'Reductions, Bipartite Matching', 'course_id': '912607011899179009'}, {'id': '66431', 'topic_name': 'Introduction Big-O Notation and Arithmetic', 'course_id': '912607011899179009'}, {'id': '73874', 'topic_name': 'Divide-and-Conquer', 'course_id': '912607011899179009'}, {'id': '75084', 'topic_name': 'True or False or Maybe..?', 'course_id': '912607011899179009'}, {'id': '75094', 'topic_name': 'Linear Programming', 'course_id': '912607011899179009'}, {'id': '76147', 'topic_name': 'Gambling', 'course_id': '912607011899179009'}, {'id': '85963', 'topic_name': 'Algorithms', 'course_id': '912607011899179009'}, {'id': '87372', 'topic_name': 'Dynamic Programming', 'course_id': '912607011899179009'}, {'id': '87528', 'topic_name': 'Graphs and DFS', 'course_id': '912607011899179009'}, {'id': '91030', 'topic_name': 'True or False?', 'course_id': '912607011899179009'}, {'id': '98161', 'topic_name': 'Zero-Sum Games', 'course_id': '912607011899179009'}]\n",
      "Linear Programming topic already exists\n",
      "[{'id': '10236', 'topic_name': 'Greedy Algorithms', 'course_id': '912607011899179009'}, {'id': '11361', 'topic_name': 'Algorithm Analysis', 'course_id': '912607011899179009'}, {'id': '14113', 'topic_name': 'Approximation Algorithms', 'course_id': '912607011899179009'}, {'id': '18478', 'topic_name': 'Randomized Algorithms', 'course_id': '912607011899179009'}, {'id': '20882', 'topic_name': 'NP-Completeness', 'course_id': '912607011899179009'}, {'id': '21049', 'topic_name': 'Factoring Numbers via Circuit SAT', 'course_id': '912607011899179009'}, {'id': '21100', 'topic_name': 'Finding Bridges', 'course_id': '912607011899179009'}, {'id': '23509', 'topic_name': 'Hashing', 'course_id': '912607011899179009'}, {'id': '30573', 'topic_name': 'Updating Distances', 'course_id': '912607011899179009'}, {'id': '30898', 'topic_name': 'Vertex Cover', 'course_id': '912607011899179009'}, {'id': '32240', 'topic_name': 'Paths in Graphs', 'course_id': '912607011899179009'}, {'id': '32666', 'topic_name': 'NP-completeness', 'course_id': '912607011899179009'}, {'id': '37006', 'topic_name': 'Strongly Connected Components', 'course_id': '912607011899179009'}, {'id': '60460', 'topic_name': 'Complete the sentences', 'course_id': '912607011899179009'}, {'id': '61239', 'topic_name': 'Find the satisfying one', 'course_id': '912607011899179009'}, {'id': '62106', 'topic_name': 'Maximum Flow', 'course_id': '912607011899179009'}, {'id': '62601', 'topic_name': 'Roadside Assistance', 'course_id': '912607011899179009'}, {'id': '63544', 'topic_name': 'Minimum Spanning Tree', 'course_id': '912607011899179009'}, {'id': '65251', 'topic_name': 'Reductions, Bipartite Matching', 'course_id': '912607011899179009'}, {'id': '66431', 'topic_name': 'Introduction Big-O Notation and Arithmetic', 'course_id': '912607011899179009'}, {'id': '73874', 'topic_name': 'Divide-and-Conquer', 'course_id': '912607011899179009'}, {'id': '75084', 'topic_name': 'True or False or Maybe..?', 'course_id': '912607011899179009'}, {'id': '75094', 'topic_name': 'Linear Programming', 'course_id': '912607011899179009'}, {'id': '76147', 'topic_name': 'Gambling', 'course_id': '912607011899179009'}, {'id': '85963', 'topic_name': 'Algorithms', 'course_id': '912607011899179009'}, {'id': '87372', 'topic_name': 'Dynamic Programming', 'course_id': '912607011899179009'}, {'id': '87528', 'topic_name': 'Graphs and DFS', 'course_id': '912607011899179009'}, {'id': '91030', 'topic_name': 'True or False?', 'course_id': '912607011899179009'}, {'id': '98161', 'topic_name': 'Zero-Sum Games', 'course_id': '912607011899179009'}]\n",
      "Linear Programming topic already exists\n",
      "[{'id': '10236', 'topic_name': 'Greedy Algorithms', 'course_id': '912607011899179009'}, {'id': '11361', 'topic_name': 'Algorithm Analysis', 'course_id': '912607011899179009'}, {'id': '14113', 'topic_name': 'Approximation Algorithms', 'course_id': '912607011899179009'}, {'id': '18478', 'topic_name': 'Randomized Algorithms', 'course_id': '912607011899179009'}, {'id': '20882', 'topic_name': 'NP-Completeness', 'course_id': '912607011899179009'}, {'id': '21049', 'topic_name': 'Factoring Numbers via Circuit SAT', 'course_id': '912607011899179009'}, {'id': '21100', 'topic_name': 'Finding Bridges', 'course_id': '912607011899179009'}, {'id': '23509', 'topic_name': 'Hashing', 'course_id': '912607011899179009'}, {'id': '30573', 'topic_name': 'Updating Distances', 'course_id': '912607011899179009'}, {'id': '30898', 'topic_name': 'Vertex Cover', 'course_id': '912607011899179009'}, {'id': '32240', 'topic_name': 'Paths in Graphs', 'course_id': '912607011899179009'}, {'id': '32666', 'topic_name': 'NP-completeness', 'course_id': '912607011899179009'}, {'id': '37006', 'topic_name': 'Strongly Connected Components', 'course_id': '912607011899179009'}, {'id': '60460', 'topic_name': 'Complete the sentences', 'course_id': '912607011899179009'}, {'id': '61239', 'topic_name': 'Find the satisfying one', 'course_id': '912607011899179009'}, {'id': '62106', 'topic_name': 'Maximum Flow', 'course_id': '912607011899179009'}, {'id': '62601', 'topic_name': 'Roadside Assistance', 'course_id': '912607011899179009'}, {'id': '63544', 'topic_name': 'Minimum Spanning Tree', 'course_id': '912607011899179009'}, {'id': '65251', 'topic_name': 'Reductions, Bipartite Matching', 'course_id': '912607011899179009'}, {'id': '66431', 'topic_name': 'Introduction Big-O Notation and Arithmetic', 'course_id': '912607011899179009'}, {'id': '73874', 'topic_name': 'Divide-and-Conquer', 'course_id': '912607011899179009'}, {'id': '75084', 'topic_name': 'True or False or Maybe..?', 'course_id': '912607011899179009'}, {'id': '75094', 'topic_name': 'Linear Programming', 'course_id': '912607011899179009'}, {'id': '76147', 'topic_name': 'Gambling', 'course_id': '912607011899179009'}, {'id': '85963', 'topic_name': 'Algorithms', 'course_id': '912607011899179009'}, {'id': '87372', 'topic_name': 'Dynamic Programming', 'course_id': '912607011899179009'}, {'id': '87528', 'topic_name': 'Graphs and DFS', 'course_id': '912607011899179009'}, {'id': '91030', 'topic_name': 'True or False?', 'course_id': '912607011899179009'}, {'id': '98161', 'topic_name': 'Zero-Sum Games', 'course_id': '912607011899179009'}]\n",
      "Dynamic Programming topic already exists\n",
      "[{'id': '10236', 'topic_name': 'Greedy Algorithms', 'course_id': '912607011899179009'}, {'id': '11361', 'topic_name': 'Algorithm Analysis', 'course_id': '912607011899179009'}, {'id': '14113', 'topic_name': 'Approximation Algorithms', 'course_id': '912607011899179009'}, {'id': '18478', 'topic_name': 'Randomized Algorithms', 'course_id': '912607011899179009'}, {'id': '20882', 'topic_name': 'NP-Completeness', 'course_id': '912607011899179009'}, {'id': '21049', 'topic_name': 'Factoring Numbers via Circuit SAT', 'course_id': '912607011899179009'}, {'id': '21100', 'topic_name': 'Finding Bridges', 'course_id': '912607011899179009'}, {'id': '23509', 'topic_name': 'Hashing', 'course_id': '912607011899179009'}, {'id': '30573', 'topic_name': 'Updating Distances', 'course_id': '912607011899179009'}, {'id': '30898', 'topic_name': 'Vertex Cover', 'course_id': '912607011899179009'}, {'id': '32240', 'topic_name': 'Paths in Graphs', 'course_id': '912607011899179009'}, {'id': '32666', 'topic_name': 'NP-completeness', 'course_id': '912607011899179009'}, {'id': '37006', 'topic_name': 'Strongly Connected Components', 'course_id': '912607011899179009'}, {'id': '60460', 'topic_name': 'Complete the sentences', 'course_id': '912607011899179009'}, {'id': '61239', 'topic_name': 'Find the satisfying one', 'course_id': '912607011899179009'}, {'id': '62106', 'topic_name': 'Maximum Flow', 'course_id': '912607011899179009'}, {'id': '62601', 'topic_name': 'Roadside Assistance', 'course_id': '912607011899179009'}, {'id': '63544', 'topic_name': 'Minimum Spanning Tree', 'course_id': '912607011899179009'}, {'id': '65251', 'topic_name': 'Reductions, Bipartite Matching', 'course_id': '912607011899179009'}, {'id': '66431', 'topic_name': 'Introduction Big-O Notation and Arithmetic', 'course_id': '912607011899179009'}, {'id': '73874', 'topic_name': 'Divide-and-Conquer', 'course_id': '912607011899179009'}, {'id': '75084', 'topic_name': 'True or False or Maybe..?', 'course_id': '912607011899179009'}, {'id': '75094', 'topic_name': 'Linear Programming', 'course_id': '912607011899179009'}, {'id': '76147', 'topic_name': 'Gambling', 'course_id': '912607011899179009'}, {'id': '85963', 'topic_name': 'Algorithms', 'course_id': '912607011899179009'}, {'id': '87372', 'topic_name': 'Dynamic Programming', 'course_id': '912607011899179009'}, {'id': '87528', 'topic_name': 'Graphs and DFS', 'course_id': '912607011899179009'}, {'id': '91030', 'topic_name': 'True or False?', 'course_id': '912607011899179009'}, {'id': '98161', 'topic_name': 'Zero-Sum Games', 'course_id': '912607011899179009'}]\n",
      "Dynamic Programming topic already exists\n"
     ]
    },
    {
     "name": "stdout",
     "output_type": "stream",
     "text": [
      "[{'id': '10236', 'topic_name': 'Greedy Algorithms', 'course_id': '912607011899179009'}, {'id': '11361', 'topic_name': 'Algorithm Analysis', 'course_id': '912607011899179009'}, {'id': '14113', 'topic_name': 'Approximation Algorithms', 'course_id': '912607011899179009'}, {'id': '18478', 'topic_name': 'Randomized Algorithms', 'course_id': '912607011899179009'}, {'id': '20882', 'topic_name': 'NP-Completeness', 'course_id': '912607011899179009'}, {'id': '21049', 'topic_name': 'Factoring Numbers via Circuit SAT', 'course_id': '912607011899179009'}, {'id': '21100', 'topic_name': 'Finding Bridges', 'course_id': '912607011899179009'}, {'id': '23509', 'topic_name': 'Hashing', 'course_id': '912607011899179009'}, {'id': '30573', 'topic_name': 'Updating Distances', 'course_id': '912607011899179009'}, {'id': '30898', 'topic_name': 'Vertex Cover', 'course_id': '912607011899179009'}, {'id': '32240', 'topic_name': 'Paths in Graphs', 'course_id': '912607011899179009'}, {'id': '32666', 'topic_name': 'NP-completeness', 'course_id': '912607011899179009'}, {'id': '37006', 'topic_name': 'Strongly Connected Components', 'course_id': '912607011899179009'}, {'id': '60460', 'topic_name': 'Complete the sentences', 'course_id': '912607011899179009'}, {'id': '61239', 'topic_name': 'Find the satisfying one', 'course_id': '912607011899179009'}, {'id': '62106', 'topic_name': 'Maximum Flow', 'course_id': '912607011899179009'}, {'id': '62601', 'topic_name': 'Roadside Assistance', 'course_id': '912607011899179009'}, {'id': '63544', 'topic_name': 'Minimum Spanning Tree', 'course_id': '912607011899179009'}, {'id': '65251', 'topic_name': 'Reductions, Bipartite Matching', 'course_id': '912607011899179009'}, {'id': '66431', 'topic_name': 'Introduction Big-O Notation and Arithmetic', 'course_id': '912607011899179009'}, {'id': '73874', 'topic_name': 'Divide-and-Conquer', 'course_id': '912607011899179009'}, {'id': '75084', 'topic_name': 'True or False or Maybe..?', 'course_id': '912607011899179009'}, {'id': '75094', 'topic_name': 'Linear Programming', 'course_id': '912607011899179009'}, {'id': '76147', 'topic_name': 'Gambling', 'course_id': '912607011899179009'}, {'id': '85963', 'topic_name': 'Algorithms', 'course_id': '912607011899179009'}, {'id': '87372', 'topic_name': 'Dynamic Programming', 'course_id': '912607011899179009'}, {'id': '87528', 'topic_name': 'Graphs and DFS', 'course_id': '912607011899179009'}, {'id': '91030', 'topic_name': 'True or False?', 'course_id': '912607011899179009'}, {'id': '98161', 'topic_name': 'Zero-Sum Games', 'course_id': '912607011899179009'}]\n",
      "Reductions, Bipartite Matching topic already exists\n",
      "[{'id': '10236', 'topic_name': 'Greedy Algorithms', 'course_id': '912607011899179009'}, {'id': '11361', 'topic_name': 'Algorithm Analysis', 'course_id': '912607011899179009'}, {'id': '14113', 'topic_name': 'Approximation Algorithms', 'course_id': '912607011899179009'}, {'id': '18478', 'topic_name': 'Randomized Algorithms', 'course_id': '912607011899179009'}, {'id': '20882', 'topic_name': 'NP-Completeness', 'course_id': '912607011899179009'}, {'id': '21049', 'topic_name': 'Factoring Numbers via Circuit SAT', 'course_id': '912607011899179009'}, {'id': '21100', 'topic_name': 'Finding Bridges', 'course_id': '912607011899179009'}, {'id': '23509', 'topic_name': 'Hashing', 'course_id': '912607011899179009'}, {'id': '30573', 'topic_name': 'Updating Distances', 'course_id': '912607011899179009'}, {'id': '30898', 'topic_name': 'Vertex Cover', 'course_id': '912607011899179009'}, {'id': '32240', 'topic_name': 'Paths in Graphs', 'course_id': '912607011899179009'}, {'id': '32666', 'topic_name': 'NP-completeness', 'course_id': '912607011899179009'}, {'id': '37006', 'topic_name': 'Strongly Connected Components', 'course_id': '912607011899179009'}, {'id': '60460', 'topic_name': 'Complete the sentences', 'course_id': '912607011899179009'}, {'id': '61239', 'topic_name': 'Find the satisfying one', 'course_id': '912607011899179009'}, {'id': '62106', 'topic_name': 'Maximum Flow', 'course_id': '912607011899179009'}, {'id': '62601', 'topic_name': 'Roadside Assistance', 'course_id': '912607011899179009'}, {'id': '63544', 'topic_name': 'Minimum Spanning Tree', 'course_id': '912607011899179009'}, {'id': '65251', 'topic_name': 'Reductions, Bipartite Matching', 'course_id': '912607011899179009'}, {'id': '66431', 'topic_name': 'Introduction Big-O Notation and Arithmetic', 'course_id': '912607011899179009'}, {'id': '73874', 'topic_name': 'Divide-and-Conquer', 'course_id': '912607011899179009'}, {'id': '75084', 'topic_name': 'True or False or Maybe..?', 'course_id': '912607011899179009'}, {'id': '75094', 'topic_name': 'Linear Programming', 'course_id': '912607011899179009'}, {'id': '76147', 'topic_name': 'Gambling', 'course_id': '912607011899179009'}, {'id': '85963', 'topic_name': 'Algorithms', 'course_id': '912607011899179009'}, {'id': '87372', 'topic_name': 'Dynamic Programming', 'course_id': '912607011899179009'}, {'id': '87528', 'topic_name': 'Graphs and DFS', 'course_id': '912607011899179009'}, {'id': '91030', 'topic_name': 'True or False?', 'course_id': '912607011899179009'}, {'id': '98161', 'topic_name': 'Zero-Sum Games', 'course_id': '912607011899179009'}]\n",
      "Greedy Algorithms topic already exists\n",
      "[{'id': '10236', 'topic_name': 'Greedy Algorithms', 'course_id': '912607011899179009'}, {'id': '11361', 'topic_name': 'Algorithm Analysis', 'course_id': '912607011899179009'}, {'id': '14113', 'topic_name': 'Approximation Algorithms', 'course_id': '912607011899179009'}, {'id': '18478', 'topic_name': 'Randomized Algorithms', 'course_id': '912607011899179009'}, {'id': '20882', 'topic_name': 'NP-Completeness', 'course_id': '912607011899179009'}, {'id': '21049', 'topic_name': 'Factoring Numbers via Circuit SAT', 'course_id': '912607011899179009'}, {'id': '21100', 'topic_name': 'Finding Bridges', 'course_id': '912607011899179009'}, {'id': '23509', 'topic_name': 'Hashing', 'course_id': '912607011899179009'}, {'id': '30573', 'topic_name': 'Updating Distances', 'course_id': '912607011899179009'}, {'id': '30898', 'topic_name': 'Vertex Cover', 'course_id': '912607011899179009'}, {'id': '32240', 'topic_name': 'Paths in Graphs', 'course_id': '912607011899179009'}, {'id': '32666', 'topic_name': 'NP-completeness', 'course_id': '912607011899179009'}, {'id': '37006', 'topic_name': 'Strongly Connected Components', 'course_id': '912607011899179009'}, {'id': '60460', 'topic_name': 'Complete the sentences', 'course_id': '912607011899179009'}, {'id': '61239', 'topic_name': 'Find the satisfying one', 'course_id': '912607011899179009'}, {'id': '62106', 'topic_name': 'Maximum Flow', 'course_id': '912607011899179009'}, {'id': '62601', 'topic_name': 'Roadside Assistance', 'course_id': '912607011899179009'}, {'id': '63544', 'topic_name': 'Minimum Spanning Tree', 'course_id': '912607011899179009'}, {'id': '65251', 'topic_name': 'Reductions, Bipartite Matching', 'course_id': '912607011899179009'}, {'id': '66431', 'topic_name': 'Introduction Big-O Notation and Arithmetic', 'course_id': '912607011899179009'}, {'id': '73874', 'topic_name': 'Divide-and-Conquer', 'course_id': '912607011899179009'}, {'id': '75084', 'topic_name': 'True or False or Maybe..?', 'course_id': '912607011899179009'}, {'id': '75094', 'topic_name': 'Linear Programming', 'course_id': '912607011899179009'}, {'id': '76147', 'topic_name': 'Gambling', 'course_id': '912607011899179009'}, {'id': '85963', 'topic_name': 'Algorithms', 'course_id': '912607011899179009'}, {'id': '87372', 'topic_name': 'Dynamic Programming', 'course_id': '912607011899179009'}, {'id': '87528', 'topic_name': 'Graphs and DFS', 'course_id': '912607011899179009'}, {'id': '91030', 'topic_name': 'True or False?', 'course_id': '912607011899179009'}, {'id': '98161', 'topic_name': 'Zero-Sum Games', 'course_id': '912607011899179009'}]\n",
      "[{'id': '10236', 'topic_name': 'Greedy Algorithms', 'course_id': '912607011899179009'}, {'id': '11361', 'topic_name': 'Algorithm Analysis', 'course_id': '912607011899179009'}, {'id': '14113', 'topic_name': 'Approximation Algorithms', 'course_id': '912607011899179009'}, {'id': '18478', 'topic_name': 'Randomized Algorithms', 'course_id': '912607011899179009'}, {'id': '20882', 'topic_name': 'NP-Completeness', 'course_id': '912607011899179009'}, {'id': '21049', 'topic_name': 'Factoring Numbers via Circuit SAT', 'course_id': '912607011899179009'}, {'id': '21100', 'topic_name': 'Finding Bridges', 'course_id': '912607011899179009'}, {'id': '23509', 'topic_name': 'Hashing', 'course_id': '912607011899179009'}, {'id': '30573', 'topic_name': 'Updating Distances', 'course_id': '912607011899179009'}, {'id': '30898', 'topic_name': 'Vertex Cover', 'course_id': '912607011899179009'}, {'id': '32240', 'topic_name': 'Paths in Graphs', 'course_id': '912607011899179009'}, {'id': '32666', 'topic_name': 'NP-completeness', 'course_id': '912607011899179009'}, {'id': '37006', 'topic_name': 'Strongly Connected Components', 'course_id': '912607011899179009'}, {'id': '60460', 'topic_name': 'Complete the sentences', 'course_id': '912607011899179009'}, {'id': '61239', 'topic_name': 'Find the satisfying one', 'course_id': '912607011899179009'}, {'id': '62106', 'topic_name': 'Maximum Flow', 'course_id': '912607011899179009'}, {'id': '62601', 'topic_name': 'Roadside Assistance', 'course_id': '912607011899179009'}, {'id': '63544', 'topic_name': 'Minimum Spanning Tree', 'course_id': '912607011899179009'}, {'id': '65251', 'topic_name': 'Reductions, Bipartite Matching', 'course_id': '912607011899179009'}, {'id': '66431', 'topic_name': 'Introduction Big-O Notation and Arithmetic', 'course_id': '912607011899179009'}, {'id': '73874', 'topic_name': 'Divide-and-Conquer', 'course_id': '912607011899179009'}, {'id': '75084', 'topic_name': 'True or False or Maybe..?', 'course_id': '912607011899179009'}, {'id': '75094', 'topic_name': 'Linear Programming', 'course_id': '912607011899179009'}, {'id': '76147', 'topic_name': 'Gambling', 'course_id': '912607011899179009'}, {'id': '85963', 'topic_name': 'Algorithms', 'course_id': '912607011899179009'}, {'id': '87372', 'topic_name': 'Dynamic Programming', 'course_id': '912607011899179009'}, {'id': '87528', 'topic_name': 'Graphs and DFS', 'course_id': '912607011899179009'}, {'id': '91030', 'topic_name': 'True or False?', 'course_id': '912607011899179009'}, {'id': '96070', 'topic_name': 'Graph Algorithms', 'course_id': '912607011899179009'}, {'id': '98161', 'topic_name': 'Zero-Sum Games', 'course_id': '912607011899179009'}]\n",
      "Greedy Algorithms topic already exists\n"
     ]
    },
    {
     "name": "stdout",
     "output_type": "stream",
     "text": [
      "[{'id': '10236', 'topic_name': 'Greedy Algorithms', 'course_id': '912607011899179009'}, {'id': '11361', 'topic_name': 'Algorithm Analysis', 'course_id': '912607011899179009'}, {'id': '14113', 'topic_name': 'Approximation Algorithms', 'course_id': '912607011899179009'}, {'id': '18478', 'topic_name': 'Randomized Algorithms', 'course_id': '912607011899179009'}, {'id': '20882', 'topic_name': 'NP-Completeness', 'course_id': '912607011899179009'}, {'id': '21049', 'topic_name': 'Factoring Numbers via Circuit SAT', 'course_id': '912607011899179009'}, {'id': '21100', 'topic_name': 'Finding Bridges', 'course_id': '912607011899179009'}, {'id': '23509', 'topic_name': 'Hashing', 'course_id': '912607011899179009'}, {'id': '30573', 'topic_name': 'Updating Distances', 'course_id': '912607011899179009'}, {'id': '30898', 'topic_name': 'Vertex Cover', 'course_id': '912607011899179009'}, {'id': '32240', 'topic_name': 'Paths in Graphs', 'course_id': '912607011899179009'}, {'id': '32666', 'topic_name': 'NP-completeness', 'course_id': '912607011899179009'}, {'id': '37006', 'topic_name': 'Strongly Connected Components', 'course_id': '912607011899179009'}, {'id': '60460', 'topic_name': 'Complete the sentences', 'course_id': '912607011899179009'}, {'id': '61239', 'topic_name': 'Find the satisfying one', 'course_id': '912607011899179009'}, {'id': '62106', 'topic_name': 'Maximum Flow', 'course_id': '912607011899179009'}, {'id': '62601', 'topic_name': 'Roadside Assistance', 'course_id': '912607011899179009'}, {'id': '63544', 'topic_name': 'Minimum Spanning Tree', 'course_id': '912607011899179009'}, {'id': '65251', 'topic_name': 'Reductions, Bipartite Matching', 'course_id': '912607011899179009'}, {'id': '66431', 'topic_name': 'Introduction Big-O Notation and Arithmetic', 'course_id': '912607011899179009'}, {'id': '73874', 'topic_name': 'Divide-and-Conquer', 'course_id': '912607011899179009'}, {'id': '75084', 'topic_name': 'True or False or Maybe..?', 'course_id': '912607011899179009'}, {'id': '75094', 'topic_name': 'Linear Programming', 'course_id': '912607011899179009'}, {'id': '76147', 'topic_name': 'Gambling', 'course_id': '912607011899179009'}, {'id': '85963', 'topic_name': 'Algorithms', 'course_id': '912607011899179009'}, {'id': '87372', 'topic_name': 'Dynamic Programming', 'course_id': '912607011899179009'}, {'id': '87528', 'topic_name': 'Graphs and DFS', 'course_id': '912607011899179009'}, {'id': '91030', 'topic_name': 'True or False?', 'course_id': '912607011899179009'}, {'id': '96070', 'topic_name': 'Graph Algorithms', 'course_id': '912607011899179009'}, {'id': '98161', 'topic_name': 'Zero-Sum Games', 'course_id': '912607011899179009'}]\n",
      "[{'id': '10236', 'topic_name': 'Greedy Algorithms', 'course_id': '912607011899179009'}, {'id': '11361', 'topic_name': 'Algorithm Analysis', 'course_id': '912607011899179009'}, {'id': '14113', 'topic_name': 'Approximation Algorithms', 'course_id': '912607011899179009'}, {'id': '18478', 'topic_name': 'Randomized Algorithms', 'course_id': '912607011899179009'}, {'id': '20882', 'topic_name': 'NP-Completeness', 'course_id': '912607011899179009'}, {'id': '21049', 'topic_name': 'Factoring Numbers via Circuit SAT', 'course_id': '912607011899179009'}, {'id': '21100', 'topic_name': 'Finding Bridges', 'course_id': '912607011899179009'}, {'id': '23509', 'topic_name': 'Hashing', 'course_id': '912607011899179009'}, {'id': '30573', 'topic_name': 'Updating Distances', 'course_id': '912607011899179009'}, {'id': '30898', 'topic_name': 'Vertex Cover', 'course_id': '912607011899179009'}, {'id': '32240', 'topic_name': 'Paths in Graphs', 'course_id': '912607011899179009'}, {'id': '32666', 'topic_name': 'NP-completeness', 'course_id': '912607011899179009'}, {'id': '37006', 'topic_name': 'Strongly Connected Components', 'course_id': '912607011899179009'}, {'id': '60460', 'topic_name': 'Complete the sentences', 'course_id': '912607011899179009'}, {'id': '61239', 'topic_name': 'Find the satisfying one', 'course_id': '912607011899179009'}, {'id': '62106', 'topic_name': 'Maximum Flow', 'course_id': '912607011899179009'}, {'id': '62601', 'topic_name': 'Roadside Assistance', 'course_id': '912607011899179009'}, {'id': '63544', 'topic_name': 'Minimum Spanning Tree', 'course_id': '912607011899179009'}, {'id': '65251', 'topic_name': 'Reductions, Bipartite Matching', 'course_id': '912607011899179009'}, {'id': '66431', 'topic_name': 'Introduction Big-O Notation and Arithmetic', 'course_id': '912607011899179009'}, {'id': '73874', 'topic_name': 'Divide-and-Conquer', 'course_id': '912607011899179009'}, {'id': '75084', 'topic_name': 'True or False or Maybe..?', 'course_id': '912607011899179009'}, {'id': '75094', 'topic_name': 'Linear Programming', 'course_id': '912607011899179009'}, {'id': '76147', 'topic_name': 'Gambling', 'course_id': '912607011899179009'}, {'id': '85963', 'topic_name': 'Algorithms', 'course_id': '912607011899179009'}, {'id': '87372', 'topic_name': 'Dynamic Programming', 'course_id': '912607011899179009'}, {'id': '87390', 'topic_name': 'Reductions', 'course_id': '912607011899179009'}, {'id': '87528', 'topic_name': 'Graphs and DFS', 'course_id': '912607011899179009'}, {'id': '91030', 'topic_name': 'True or False?', 'course_id': '912607011899179009'}, {'id': '96070', 'topic_name': 'Graph Algorithms', 'course_id': '912607011899179009'}, {'id': '98161', 'topic_name': 'Zero-Sum Games', 'course_id': '912607011899179009'}]\n",
      "Approximation Algorithms topic already exists\n"
     ]
    }
   ],
   "source": [
    "# # Define the data you want to send in the request (if any)\n",
    "# questions = {'id': question_id, 'questions': question_description, 'hint': hint, 'topic_id': topic_id}  # Replace with your data\n",
    "# solution = {'question_id': question_id, 'id': solution_id, 'solution': solution }\n",
    "# topic = {'topic_id': topic_id, 'topic': topic}\n",
    "# subproblems = {'id': id, 'question_id': question_id, 'count': count, 'title': title, 'description': description}\n",
    "\n",
    "\n",
    "# Send the POST request\n",
    "# response = requests.post(url, data=data)\n",
    "\n",
    "for item in dataSet: \n",
    "    \n",
    "    # Topic\n",
    "    topic_id = randrange(10000,100000)\n",
    "    data = {'id':topic_id, 'topic_name': item['topic'], 'course_id': \"912607011899179009\"}\n",
    "    \n",
    "    do_create = True \n",
    "    res = requests.get(base_url+'readAllTopics')\n",
    "    res_json = res.json()\n",
    "    \n",
    "    print(res_json)\n",
    "    for entry in res_json:\n",
    "        if entry['topic_name'] == item['topic']:\n",
    "            do_create = False\n",
    "            topic_id = int(entry['id'])\n",
    "\n",
    "    if do_create: \n",
    "        res = requests.post(base_url+'createTopic', data=data)\n",
    "    else:\n",
    "        \n",
    "        print(\"{} topic already exists\".format(item['topic']))\n",
    "    \n",
    "    \n",
    "    #questions\n",
    "    question_id = randrange(10000,100000)\n",
    "    question_data = {'id': question_id, 'question': item['question_description'] if item['question_description'] else \" \", 'hint': item['hint'] if 'hint' in item else \" \", 'topic_id': topic_id}  # Replace with your data\n",
    "    res = requests.post(base_url+'createQuestion', data=question_data)\n",
    "    \n",
    "    \n",
    "    \n",
    "#     questions = {'id': randrange(10000,100000), 'questions': item.question_description, 'hint': item.hint, 'topic_id': topic_id}  # Replace with your data\n",
    "    solution_id = randrange(10000,100000)\n",
    "    solution_data = {'question_id': question_id, 'id': solution_id, 'solution': item['answer'] if 'answer' in item else \" \" }\n",
    "    res = requests.post(base_url+'createSolution', data=solution_data)\n",
    "\n",
    "\n",
    "    for i in range(len(item['subproblem'] if 'subproblem' in item else '')): \n",
    "        \n",
    "        data = {'id': randrange(10000,100000),'count':i, 'question_id': question_id,  'title': item['subproblem'][i]['title'] if \"title\" in item['subproblem'][i] else \" \", 'description': item['subproblem'][i]['description'] if item['subproblem'][i]['description'] else \" \"}\n",
    "        res = requests.post(base_url+'createSubproblem', data=data)"
   ]
  },
  {
   "cell_type": "code",
   "execution_count": 237,
   "id": "da6c1aa6",
   "metadata": {},
   "outputs": [
    {
     "data": {
      "text/plain": [
       "{'message': 'success'}"
      ]
     },
     "execution_count": 237,
     "metadata": {},
     "output_type": "execute_result"
    }
   ],
   "source": [
    "#NUKE\n",
    "res = requests.get(base_url+'deleteSubproblems')\n",
    "# res.json()\n",
    "res = requests.get(base_url+'deleteSolutions')\n",
    "# res.json()\n",
    "res = requests.get(base_url+'deleteQuestions')\n",
    "# res.json()\n",
    "res = requests.get(base_url+'deleteTopics')\n",
    "res.json()"
   ]
  },
  {
   "cell_type": "code",
   "execution_count": 14,
   "id": "ae5154fa",
   "metadata": {},
   "outputs": [
    {
     "data": {
      "text/plain": [
       "[{'id': '912459743082872833',\n",
       "  'first_name': 'John',\n",
       "  'last_name': 'Doe',\n",
       "  'email': 'johndoe@example.com',\n",
       "  'password': 'securepassword'},\n",
       " {'id': '912462614630957057',\n",
       "  'first_name': 'dz',\n",
       "  'last_name': 'chang',\n",
       "  'email': 'dzchang@example.com',\n",
       "  'password': 'securepassword'},\n",
       " {'id': '912538581676163073',\n",
       "  'first_name': 'SK',\n",
       "  'last_name': 'Lim',\n",
       "  'email': 'SKSKSK@example.com',\n",
       "  'password': 'passwordsecure'}]"
      ]
     },
     "execution_count": 14,
     "metadata": {},
     "output_type": "execute_result"
    }
   ],
   "source": [
    "res = requests.get(base_url+\"readAllUsers\")\n",
    "res.json()"
   ]
  },
  {
   "cell_type": "code",
   "execution_count": 181,
   "id": "12210a11",
   "metadata": {},
   "outputs": [
    {
     "name": "stdout",
     "output_type": "stream",
     "text": [
      "<class 'dict'>\n",
      "{'problem': 'Which letter corresponds to the graph of $y = |f(x)|$?', 'solution': 'The graph of $y = |f(x)|$ is the graph of $y = f(x)$ reflected across the x-axis for all values of $x$ where $f(x) < 0$.\\nTherefore, the correct letter that corresponds to the graph of $y = |f(x)|$ is the letter $\\\\boxed{\\\\text{D}}$.The answer is: \\\\text{D}', 'wrong_approach': 'One wrong approach that students may take is to assume that the graph of $y = |f(x)|$ is the same as the graph of $y = f(x)$ for all values of $x$. This approach ignores the fact that the absolute value function $|f(x)|$ reflects the graph of $f(x)$ across the x-axis for values of $x$ where $f(x) < 0$. By not considering this reflection, students may incorrectly choose a different letter as the corresponding graph.', 'guidance': 'Great job identifying a common mistake that students may make when determining the graph of $y = |f(x)|$. You correctly pointed out that some students may assume that the graph of $y = |f(x)|$ is the same as the graph of $y = f(x)$ for all values of $x$. However, this assumption is incorrect.\\n\\nThe absolute value function $|f(x)|$ reflects the graph of $f(x)$ across the x-axis for values of $x$ where $f(x) < 0$. This means that any negative values of $f(x)$ will be reflected above the x-axis when we graph $y = |f(x)|$.\\n\\nBy not considering this reflection, students may incorrectly choose a different letter as the corresponding graph. It is important to remember that the graph of $y = |f(x)|$ will have a different shape compared to the graph of $y = f(x)$ when $f(x)$ takes on negative values.\\n\\nTo determine the correct letter corresponding to the graph of $y = |f(x)|$, we need to consider this reflection and ensure that the graph accurately represents the absolute value of $f(x)$ for all values of $x$.'}\n"
     ]
    }
   ],
   "source": [
    "with open('math_new.json', 'r') as file:\n",
    "    # Parse the JSON data from the file\n",
    "    data_math = json.load(file)\n",
    "    res = eval(data_math[0])\n",
    "    print(type(res))\n",
    "    print(res)"
   ]
  }
 ],
 "metadata": {
  "kernelspec": {
   "display_name": "Python 3 (ipykernel)",
   "language": "python",
   "name": "python3"
  },
  "language_info": {
   "codemirror_mode": {
    "name": "ipython",
    "version": 3
   },
   "file_extension": ".py",
   "mimetype": "text/x-python",
   "name": "python",
   "nbconvert_exporter": "python",
   "pygments_lexer": "ipython3",
   "version": "3.8.17"
  }
 },
 "nbformat": 4,
 "nbformat_minor": 5
}
