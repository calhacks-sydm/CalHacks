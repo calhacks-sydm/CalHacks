{
 "cells": [
  {
   "cell_type": "code",
   "execution_count": 1,
   "id": "2f175c44",
   "metadata": {},
   "outputs": [],
   "source": [
    "import requests\n",
    "import json"
   ]
  },
  {
   "cell_type": "markdown",
   "id": "f16a066c",
   "metadata": {},
   "source": [
    "questions  \n",
    "- question_id\n",
    "- questions\n",
    "- hint\n",
    "- topic_id\n",
    "\n",
    "solution\n",
    "- solution_id (generated)\n",
    "- answer\n",
    "- question_id\n",
    "\n",
    "\n",
    "topic\n",
    "- topic_id (generated) \n",
    "- topic \n",
    "\n",
    "subproblems\n",
    "- id (generated)\n",
    "- topic_id\n",
    "- count\n",
    "- question_id\n",
    "- title\n",
    "- description\n"
   ]
  },
  {
   "cell_type": "code",
   "execution_count": 136,
   "id": "6a201ba4",
   "metadata": {},
   "outputs": [
    {
     "name": "stdout",
     "output_type": "stream",
     "text": [
      "question_id 10\n",
      "topic 14\n",
      "question_description 2143\n",
      "answer 100\n",
      "hint 92\n",
      "subproblem 3\n",
      "simplifiedAns 1494\n",
      "++++++++++++++++++++++++\n",
      "question_id 10\n",
      "topic 18\n",
      "question_description 631\n",
      "answer 46\n",
      "hint 82\n",
      "subproblem 3\n",
      "simplifiedAns 659\n",
      "++++++++++++++++++++++++\n",
      "question_id 10\n",
      "topic 18\n",
      "question_description 733\n",
      "answer 113\n",
      "hint 97\n",
      "subproblem 3\n",
      "simplifiedAns 1851\n",
      "++++++++++++++++++++++++\n",
      "question_id 10\n",
      "topic 19\n",
      "question_description 860\n",
      "answer 184\n",
      "hint 122\n",
      "subproblem 3\n",
      "simplifiedAns 1148\n",
      "++++++++++++++++++++++++\n",
      "question_id 10\n",
      "topic 18\n",
      "question_description 744\n",
      "answer 21\n",
      "hint 154\n",
      "subproblem 3\n",
      "simplifiedAns 1090\n",
      "++++++++++++++++++++++++\n",
      "question_id 10\n",
      "topic 18\n",
      "question_description 2591\n",
      "hint 99\n",
      "subproblem 0\n",
      "++++++++++++++++++++++++\n",
      "question_id 10\n",
      "topic 17\n",
      "question_description 724\n",
      "++++++++++++++++++++++++\n"
     ]
    }
   ],
   "source": [
    "# Open the JSON file for reading\n",
    "with open('2014_new.json', 'r') as file:\n",
    "    # Parse the JSON data from the file\n",
    "    data2014 = json.load(file)\n",
    "    for i in range(len(data2014)):\n",
    "        for k, v in data2014[i].items():\n",
    "            print(k, len(v))\n",
    "        print(\"++++++++++++++++++++++++\")\n"
   ]
  },
  {
   "cell_type": "code",
   "execution_count": 106,
   "id": "6859c41a",
   "metadata": {},
   "outputs": [
    {
     "data": {
      "text/plain": [
       "'Fall2014_1'"
      ]
     },
     "execution_count": 106,
     "metadata": {},
     "output_type": "execute_result"
    }
   ],
   "source": [
    "data[0]['question_id']"
   ]
  },
  {
   "cell_type": "code",
   "execution_count": 11,
   "id": "e39e60d0",
   "metadata": {},
   "outputs": [],
   "source": [
    "base_url = \"http://localhost:3000/api/\""
   ]
  },
  {
   "cell_type": "code",
   "execution_count": 86,
   "id": "12f66868",
   "metadata": {},
   "outputs": [
    {
     "data": {
      "text/plain": [
       "{'error': 'Failed to create user.'}"
      ]
     },
     "execution_count": 86,
     "metadata": {},
     "output_type": "execute_result"
    }
   ],
   "source": [
    "data = {\n",
    "        \"first_name\":\"dz\",\n",
    "        \"last_name\":\"chang\",\n",
    "        \"email\":\"dzchang@gmail\",\n",
    "        \"password\":\"hellosecure\", }\n",
    "res = requests.post(base_url+'createUser', data=data)\n",
    "res.json()"
   ]
  },
  {
   "cell_type": "code",
   "execution_count": 88,
   "id": "59174be4",
   "metadata": {},
   "outputs": [
    {
     "data": {
      "text/plain": [
       "[{'id': '912606855362707457',\n",
       "  'first_name': 'dz',\n",
       "  'last_name': 'chang',\n",
       "  'email': 'dzchang@gmail',\n",
       "  'password': 'hellosecure'}]"
      ]
     },
     "execution_count": 88,
     "metadata": {},
     "output_type": "execute_result"
    }
   ],
   "source": [
    "res = requests.get(base_url+'readAllUsers')\n",
    "res.json()"
   ]
  },
  {
   "cell_type": "markdown",
   "id": "226b0a76",
   "metadata": {},
   "source": [
    "## Courses"
   ]
  },
  {
   "cell_type": "code",
   "execution_count": 168,
   "id": "28a5386f",
   "metadata": {},
   "outputs": [
    {
     "data": {
      "text/plain": [
       "[{'id': '912607011899179009', 'course_name': 'cs170'}]"
      ]
     },
     "execution_count": 168,
     "metadata": {},
     "output_type": "execute_result"
    }
   ],
   "source": [
    "res = requests.get(base_url+'readAllCourses')\n",
    "res.json()"
   ]
  },
  {
   "cell_type": "code",
   "execution_count": 89,
   "id": "657c384a",
   "metadata": {},
   "outputs": [
    {
     "data": {
      "text/plain": [
       "{'error': {}}"
      ]
     },
     "execution_count": 89,
     "metadata": {},
     "output_type": "execute_result"
    }
   ],
   "source": [
    "data = {'course_name': \"cs170\"}\n",
    "res = requests.post(base_url+'createCourse', data=data)\n",
    "res.json()"
   ]
  },
  {
   "cell_type": "markdown",
   "id": "95c46591",
   "metadata": {},
   "source": [
    "## Topics"
   ]
  },
  {
   "cell_type": "code",
   "execution_count": 189,
   "id": "78cfaa14",
   "metadata": {},
   "outputs": [
    {
     "data": {
      "text/plain": [
       "[{'id': '12959',\n",
       "  'topic_name': 'Graphs and DFS',\n",
       "  'course_id': '912607011899179009'},\n",
       " {'id': '15342',\n",
       "  'topic_name': 'Divide-and-Conquer',\n",
       "  'course_id': '912607011899179009'},\n",
       " {'id': '16373',\n",
       "  'topic_name': 'NP-Completeness',\n",
       "  'course_id': '912607011899179009'},\n",
       " {'id': '16497',\n",
       "  'topic_name': 'Divide-and-Conquer',\n",
       "  'course_id': '912607011899179009'},\n",
       " {'id': '22397',\n",
       "  'topic_name': 'NP-Completeness',\n",
       "  'course_id': '912607011899179009'},\n",
       " {'id': '22715',\n",
       "  'topic_name': 'Graphs and DFS',\n",
       "  'course_id': '912607011899179009'},\n",
       " {'id': '26703',\n",
       "  'topic_name': 'Graphs and DFS',\n",
       "  'course_id': '912607011899179009'},\n",
       " {'id': '27020',\n",
       "  'topic_name': 'Graphs and DFS',\n",
       "  'course_id': '912607011899179009'},\n",
       " {'id': '29621',\n",
       "  'topic_name': 'Graphs and DFS',\n",
       "  'course_id': '912607011899179009'},\n",
       " {'id': '30618',\n",
       "  'topic_name': 'Greedy Algorithms',\n",
       "  'course_id': '912607011899179009'},\n",
       " {'id': '32792',\n",
       "  'topic_name': 'Paths in Graphs',\n",
       "  'course_id': '912607011899179009'},\n",
       " {'id': '36670',\n",
       "  'topic_name': 'Strongly Connected Components',\n",
       "  'course_id': '912607011899179009'},\n",
       " {'id': '42230',\n",
       "  'topic_name': 'NP-Completeness',\n",
       "  'course_id': '912607011899179009'},\n",
       " {'id': '43116',\n",
       "  'topic_name': 'Graphs and DFS',\n",
       "  'course_id': '912607011899179009'},\n",
       " {'id': '44910',\n",
       "  'topic_name': 'Algorithm Analysis',\n",
       "  'course_id': '912607011899179009'},\n",
       " {'id': '44991',\n",
       "  'topic_name': 'Dynamic Programming',\n",
       "  'course_id': '912607011899179009'},\n",
       " {'id': '45508',\n",
       "  'topic_name': 'Graphs and DFS',\n",
       "  'course_id': '912607011899179009'},\n",
       " {'id': '49937',\n",
       "  'topic_name': 'NP-Completeness',\n",
       "  'course_id': '912607011899179009'},\n",
       " {'id': '60682',\n",
       "  'topic_name': 'Divide-and-Conquer',\n",
       "  'course_id': '912607011899179009'},\n",
       " {'id': '66416',\n",
       "  'topic_name': 'NP-Completeness',\n",
       "  'course_id': '912607011899179009'},\n",
       " {'id': '67220',\n",
       "  'topic_name': 'NP-Completeness',\n",
       "  'course_id': '912607011899179009'},\n",
       " {'id': '72420',\n",
       "  'topic_name': 'Strongly Connected Components',\n",
       "  'course_id': '912607011899179009'},\n",
       " {'id': '73923',\n",
       "  'topic_name': 'NP-Completeness',\n",
       "  'course_id': '912607011899179009'},\n",
       " {'id': '74086',\n",
       "  'topic_name': 'Reductions, Bipartite Matching',\n",
       "  'course_id': '912607011899179009'},\n",
       " {'id': '74387',\n",
       "  'topic_name': 'Reductions, Bipartite Matching',\n",
       "  'course_id': '912607011899179009'},\n",
       " {'id': '75763',\n",
       "  'topic_name': 'Graphs and DFS',\n",
       "  'course_id': '912607011899179009'},\n",
       " {'id': '77545',\n",
       "  'topic_name': 'NP-Completeness',\n",
       "  'course_id': '912607011899179009'},\n",
       " {'id': '82280',\n",
       "  'topic_name': 'Zero-Sum Games',\n",
       "  'course_id': '912607011899179009'},\n",
       " {'id': '86449',\n",
       "  'topic_name': 'Paths in Graphs',\n",
       "  'course_id': '912607011899179009'},\n",
       " {'id': '90413',\n",
       "  'topic_name': 'Graphs and DFS',\n",
       "  'course_id': '912607011899179009'},\n",
       " {'id': '91877',\n",
       "  'topic_name': 'Divide-and-Conquer',\n",
       "  'course_id': '912607011899179009'},\n",
       " {'id': '93273',\n",
       "  'topic_name': 'Zero-Sum Games',\n",
       "  'course_id': '912607011899179009'},\n",
       " {'id': '93825',\n",
       "  'topic_name': 'Linear Programming',\n",
       "  'course_id': '912607011899179009'}]"
      ]
     },
     "execution_count": 189,
     "metadata": {},
     "output_type": "execute_result"
    }
   ],
   "source": [
    "res = requests.get(base_url+'readAllTopics')\n",
    "res.json()"
   ]
  },
  {
   "cell_type": "code",
   "execution_count": 191,
   "id": "f9530d84",
   "metadata": {},
   "outputs": [
    {
     "data": {
      "text/plain": [
       "{'error': 'Failed to fetch topics.'}"
      ]
     },
     "execution_count": 191,
     "metadata": {},
     "output_type": "execute_result"
    }
   ],
   "source": [
    "res = requests.get(base_url+'deleteTopics')\n",
    "res.json()"
   ]
  },
  {
   "cell_type": "code",
   "execution_count": 94,
   "id": "217a37f3",
   "metadata": {},
   "outputs": [
    {
     "name": "stdout",
     "output_type": "stream",
     "text": [
      "{'id': '61530', 'topic_name': 'Divide and Conquer', 'course_id': '912607011899179009'}\n"
     ]
    }
   ],
   "source": [
    "topic_id = randrange(10000,100000)\n",
    "topic = \"Divide and Conquer\"\n",
    "data = {'id': topic_id, 'topic_name': topic, 'course_id': \"912607011899179009\"}\n",
    "do_create = True \n",
    "res = requests.get(base_url+'readAllTopics')\n",
    "res_json = res.json()\n",
    "for entry in res_json:\n",
    "    if entry['topic_name'] == topic:\n",
    "        do_create = False\n",
    "\n",
    "if do_create: \n",
    "    res = requests.post(base_url+'createTopic', data=data)\n",
    "    print(res.json())\n",
    "else:\n",
    "    print(\"topic already exists\")"
   ]
  },
  {
   "cell_type": "markdown",
   "id": "4ca6527b",
   "metadata": {},
   "source": [
    "## Question"
   ]
  },
  {
   "cell_type": "code",
   "execution_count": 171,
   "id": "ca87f337",
   "metadata": {},
   "outputs": [
    {
     "data": {
      "text/plain": [
       "{'error': 'Failed to create questions.'}"
      ]
     },
     "execution_count": 171,
     "metadata": {},
     "output_type": "execute_result"
    }
   ],
   "source": [
    "q_id = randrange(10000,100000)\n",
    "item = {\n",
    "    \"question_id\": q_id,\n",
    "    \"question_description\": \"Lorem ipsum something somethign\",\n",
    "    \"hint\": \"use a * b + c\", \n",
    "    \"topic_id\": 61530\n",
    "}\n",
    "data = {'id': item['question_id'], 'question': item['question_description'],  'topic_id': item['topic_id'], 'hint': item['hint']}\n",
    "# data = {'id': item.question_id, 'questions': item.question_description, 'hint': item.hint, 'topic_id': topic_id}  # Replace with your data\n",
    "res = requests.post(base_url+'createQuestion', data=data)\n",
    "res.json()"
   ]
  },
  {
   "cell_type": "code",
   "execution_count": 211,
   "id": "b0cd22e8",
   "metadata": {},
   "outputs": [],
   "source": [
    "res = requests.get(base_url+'readAllQuestions')\n",
    "questions = res.json()"
   ]
  },
  {
   "cell_type": "code",
   "execution_count": 157,
   "id": "083ef048",
   "metadata": {},
   "outputs": [
    {
     "data": {
      "text/plain": [
       "{'message': 'success'}"
      ]
     },
     "execution_count": 157,
     "metadata": {},
     "output_type": "execute_result"
    }
   ],
   "source": [
    "res = requests.get(base_url+'deleteQuestions')\n",
    "resres.json()"
   ]
  },
  {
   "cell_type": "code",
   "execution_count": 219,
   "id": "dba8a468",
   "metadata": {},
   "outputs": [
    {
     "name": "stdout",
     "output_type": "stream",
     "text": [
      "12055\n",
      "14499\n",
      "15355\n",
      "16073\n",
      "18936\n",
      "20455\n",
      "27957\n",
      "28447\n",
      "29715\n",
      "39482\n",
      "40710\n",
      "42686\n",
      "44025\n",
      "46789\n",
      "48966\n",
      "50759\n",
      "63666\n",
      "64106\n",
      "66415\n",
      "68320\n",
      "71553\n",
      "71915\n",
      "76472\n",
      "79147\n",
      "84029\n",
      "85198\n",
      "87842\n",
      "91025\n",
      "96022\n",
      "96216\n"
     ]
    }
   ],
   "source": [
    "for item in questions:\n",
    "    print(item['id'])"
   ]
  },
  {
   "cell_type": "markdown",
   "id": "7e15d6e2",
   "metadata": {},
   "source": [
    "## Solution\n"
   ]
  },
  {
   "cell_type": "code",
   "execution_count": 174,
   "id": "0257388d",
   "metadata": {},
   "outputs": [
    {
     "data": {
      "text/plain": [
       "[{'id': '26569', 'question_id': '16823', 'solution': '1. Divide-and-conquer'},\n",
       " {'id': '32385',\n",
       "  'question_id': '15142',\n",
       "  'solution': 'a) O(nlgn)\\nb) O((n + m)lgn)\\nc) O(nm)\\nd) O(n^2)'},\n",
       " {'id': '42581',\n",
       "  'question_id': '49189',\n",
       "  'solution': 'a) FALSE\\nb) TRUE\\nc) TRUE\\nd) TRUE\\ne) FALSE\\nf) FALSE\\ng) TRUE\\nh) TRUE\\ni) TRUE\\nj) TRUE\\nk) FALSE\\nl) FALSE'},\n",
       " {'id': '43079',\n",
       "  'question_id': '42091',\n",
       "  'solution': 'Classifier B. The running time of B is fixed regardless of n, whereas the running time of A is proportional to n.'},\n",
       " {'id': '49362',\n",
       "  'question_id': '63217',\n",
       "  'solution': \"O(k(n + m)lgn + 4). We do Dijkstra's algorithm 2k times, once for each endpoint of a negative edge, and that takes O((n + m)lgn) time per endpoint; then Bellman-Ford takes O(k^2) time.\"},\n",
       " {'id': '79617', 'question_id': '24478', 'solution': ' '},\n",
       " {'id': '96409', 'question_id': '60644', 'solution': ' '}]"
      ]
     },
     "execution_count": 174,
     "metadata": {},
     "output_type": "execute_result"
    }
   ],
   "source": [
    "res = requests.get(base_url+'readAllSolutions')\n",
    "res.json()"
   ]
  },
  {
   "cell_type": "code",
   "execution_count": 102,
   "id": "74a1b63f",
   "metadata": {},
   "outputs": [
    {
     "data": {
      "text/plain": [
       "{'id': '37721', 'question_id': '51704', 'solution': 'ASDFGHJKLOIUYTREW'}"
      ]
     },
     "execution_count": 102,
     "metadata": {},
     "output_type": "execute_result"
    }
   ],
   "source": [
    "s_id = randrange(10000,100000)\n",
    "item = {\n",
    "    \"id\": s_id ,\n",
    "    \"question_id\": 51704 ,\n",
    "    \"solution\": \"ASDFGHJKLOIUYTREW\"\n",
    "}\n",
    "data = {'id': item['id'], 'question_id': item['question_id'],  'solution': item['solution']}\n",
    "# data = {'id': item.question_id, 'questions': item.question_description, 'hint': item.hint, 'topic_id': topic_id}  # Replace with your data\n",
    "res = requests.post(base_url+'createSolution', data=data)\n",
    "res.json()"
   ]
  },
  {
   "cell_type": "code",
   "execution_count": 156,
   "id": "d6b2a30d",
   "metadata": {},
   "outputs": [
    {
     "data": {
      "text/plain": [
       "{'message': 'success'}"
      ]
     },
     "execution_count": 156,
     "metadata": {},
     "output_type": "execute_result"
    }
   ],
   "source": [
    "res = requests.get(base_url+'deleteSolutions')\n",
    "res.json()"
   ]
  },
  {
   "cell_type": "markdown",
   "id": "296c7050",
   "metadata": {},
   "source": [
    "## Subproblem"
   ]
  },
  {
   "cell_type": "code",
   "execution_count": 175,
   "id": "ca88dbea",
   "metadata": {},
   "outputs": [
    {
     "data": {
      "text/plain": [
       "[{'id': '17922',\n",
       "  'count': '1',\n",
       "  'question_id': '42091',\n",
       "  'title': 'Analyze the complexity of Classifier B',\n",
       "  'description': 'Consider the complexity of Classifier B, which is a random forest classifier with a fixed T = 25 (i.e., 25 decision trees), where each decision tree has depth at most 10.'},\n",
       " {'id': '25173',\n",
       "  'count': '1',\n",
       "  'question_id': '15142',\n",
       "  'title': 'Question (b)',\n",
       "  'description': \"What is the asymptotic running time of Dijkstra's algorithm, on a graph with n vertices and m edges (assuming all edges have non-negative length), if we implement the priority queue with a binary heap?\"},\n",
       " {'id': '30721',\n",
       "  'count': '0',\n",
       "  'question_id': '15142',\n",
       "  'title': 'Question (a)',\n",
       "  'description': 'What is the asymptotic running time of decomposing a directed graph into strongly connected components, if the graph has n vertices and nlgn edges?'},\n",
       " {'id': '37490',\n",
       "  'count': '0',\n",
       "  'question_id': '49189',\n",
       "  'title': 'Undirected Graphs',\n",
       "  'description': 'Think about the properties of an undirected graph and the type of edges that are present in the graph.'},\n",
       " {'id': '48880',\n",
       "  'count': '0',\n",
       "  'question_id': '42091',\n",
       "  'title': 'Analyze the complexity of Classifier A',\n",
       "  'description': 'Consider the complexity of Classifier A, which is a k-nearest neighbors classifier with a fixed k = 25, using a linear search implementation (not a k-d tree).'},\n",
       " {'id': '50398',\n",
       "  'count': '0',\n",
       "  'question_id': '16823',\n",
       "  'title': 'Divide the problem into two subproblems',\n",
       "  'description': 'Divide the problem into two subproblems by comparing the kth element of the two sorted lists and recursively calling the function on the smaller subproblem.'},\n",
       " {'id': '53901',\n",
       "  'count': '2',\n",
       "  'question_id': '16823',\n",
       "  'title': 'Base case',\n",
       "  'description': 'The base case is when the kth element of the two sorted lists is equal, in which case the kth element is returned.'},\n",
       " {'id': '57489',\n",
       "  'count': '2',\n",
       "  'question_id': '42091',\n",
       "  'title': 'Compare the complexities of Classifier A and B',\n",
       "  'description': 'Compare the complexities of Classifier A and B and determine which one will have an asymptotically faster running time.'},\n",
       " {'id': '64082',\n",
       "  'count': '1',\n",
       "  'question_id': '16823',\n",
       "  'title': 'Find the kth element',\n",
       "  'description': 'Find the kth element by comparing the kth element of the two sorted lists and returning the smaller one.'},\n",
       " {'id': '66342',\n",
       "  'count': '1',\n",
       "  'question_id': '49189',\n",
       "  'title': 'Directed Graphs',\n",
       "  'description': 'Think about the properties of a directed graph and the type of edges that are present in the graph.'},\n",
       " {'id': '70383',\n",
       "  'count': '1',\n",
       "  'question_id': '63217',\n",
       "  'title': 'Bellman-Ford Algorithm',\n",
       "  'description': 'Bellman-Ford algorithm is used to find the shortest paths from a given source vertex to all other vertices in a graph. It has a time complexity of O(k^2).'},\n",
       " {'id': '74883',\n",
       "  'count': '2',\n",
       "  'question_id': '63217',\n",
       "  'title': 'Combining Time Complexities',\n",
       "  'description': \"Combine the time complexities of Dijkstra's and Bellman-Ford algorithms to get the total time complexity of your friend's algorithm.\"},\n",
       " {'id': '75637',\n",
       "  'count': '0',\n",
       "  'question_id': '63217',\n",
       "  'title': \"Dijkstra's Algorithm\",\n",
       "  'description': \"Dijkstra's algorithm is used to find the shortest path from a given source vertex to all other vertices in a graph. It has a time complexity of O((n + m)lgn).\"},\n",
       " {'id': '77204',\n",
       "  'count': '2',\n",
       "  'question_id': '15142',\n",
       "  'title': 'Question (c)',\n",
       "  'description': 'What is the asymptotic running time of the Bellman-Ford algorithm, on a graph with n vertices and m edges?'},\n",
       " {'id': '96495',\n",
       "  'count': '2',\n",
       "  'question_id': '49189',\n",
       "  'title': 'Trees',\n",
       "  'description': 'Think about the properties of a tree and the type of edges that are present in the graph.'}]"
      ]
     },
     "execution_count": 175,
     "metadata": {},
     "output_type": "execute_result"
    }
   ],
   "source": [
    "res = requests.get(base_url+'readAllSubproblems')\n",
    "res.json()"
   ]
  },
  {
   "cell_type": "code",
   "execution_count": 120,
   "id": "63225acb",
   "metadata": {},
   "outputs": [
    {
     "data": {
      "text/plain": [
       "{'id': '55264',\n",
       " 'count': '55264',\n",
       " 'question_id': '51704',\n",
       " 'title': 'recursion',\n",
       " 'description': 'trees and recursions'}"
      ]
     },
     "execution_count": 120,
     "metadata": {},
     "output_type": "execute_result"
    }
   ],
   "source": [
    "sub_id = randrange(10000,100000)\n",
    "item = {\n",
    "    \"id\": sub_id ,\n",
    "    \"count\": 2, \n",
    "    \"question_id\": 51704 ,\n",
    "    \"title\": \"recursion\",\n",
    "    \"description\": \"trees and recursions\",\n",
    "}\n",
    "data = {'id': item['id'],'count':item['count'],'question_id': item['question_id'],  'title': item['title'], 'description': item['description']}\n",
    "# data = {'id': item.question_id, 'questions': item.question_description, 'hint': item.hint, 'topic_id': topic_id}  # Replace with your data\n",
    "res = requests.post(base_url+'createSubproblem', data=data)\n",
    "res.json()"
   ]
  },
  {
   "cell_type": "code",
   "execution_count": 155,
   "id": "3d97e8d6",
   "metadata": {},
   "outputs": [
    {
     "data": {
      "text/plain": [
       "{'message': 'success'}"
      ]
     },
     "execution_count": 155,
     "metadata": {},
     "output_type": "execute_result"
    }
   ],
   "source": [
    "res = requests.get(base_url+'deleteSubproblems')\n",
    "res.json()"
   ]
  },
  {
   "cell_type": "code",
   "execution_count": 131,
   "id": "1ebf32b4",
   "metadata": {},
   "outputs": [
    {
     "name": "stdout",
     "output_type": "stream",
     "text": [
      "Divide-and-Conquer\n"
     ]
    }
   ],
   "source": [
    "print(data2014[1]['topic'])"
   ]
  },
  {
   "cell_type": "code",
   "execution_count": 215,
   "id": "16b3f48c",
   "metadata": {},
   "outputs": [],
   "source": [
    "dataSet = []\n",
    "arr = ['2015_new.json', '2014_new.json', '2023_new.json', \"2021_new.json\", \"2024_new.json\", \"2025_new.json\"]\n",
    "for file in arr:\n",
    "    with open('2023_new.json', 'r') as file:\n",
    "        # Parse the JSON data from the file\n",
    "        temp_data = json.load(file)\n",
    "        dataSet.extend(temp_data)\n",
    "\n"
   ]
  },
  {
   "cell_type": "code",
   "execution_count": 216,
   "id": "0800ccb0",
   "metadata": {},
   "outputs": [
    {
     "data": {
      "text/plain": [
       "60"
      ]
     },
     "execution_count": 216,
     "metadata": {},
     "output_type": "execute_result"
    }
   ],
   "source": [
    "len(dataSet)"
   ]
  },
  {
   "cell_type": "code",
   "execution_count": 218,
   "id": "ceb1de96",
   "metadata": {},
   "outputs": [],
   "source": [
    "# # Define the data you want to send in the request (if any)\n",
    "# questions = {'id': question_id, 'questions': question_description, 'hint': hint, 'topic_id': topic_id}  # Replace with your data\n",
    "# solution = {'question_id': question_id, 'id': solution_id, 'solution': solution }\n",
    "# topic = {'topic_id': topic_id, 'topic': topic}\n",
    "# subproblems = {'id': id, 'question_id': question_id, 'count': count, 'title': title, 'description': description}\n",
    "\n",
    "\n",
    "# Send the POST request\n",
    "# response = requests.post(url, data=data)\n",
    "\n",
    "for item in dataSet: \n",
    "    \n",
    "    # Topic\n",
    "    topic_id = randrange(10000,100000)\n",
    "    data = {'id':topic_id, 'topic_name': item['topic'], 'course_id': \"912607011899179009\"}\n",
    "    \n",
    "    do_create = True \n",
    "    res = requests.get(base_url+'readAllTopics')\n",
    "    \n",
    "    for entry in res_json:\n",
    "        if entry['topic_name'] == item['topic']:\n",
    "            do_create = False\n",
    "            topic_id = int(entry['id'])\n",
    "\n",
    "    if do_create: \n",
    "        res = requests.post(base_url+'createTopic', data=data)\n",
    "    else:\n",
    "        print(\"topic already exists\")\n",
    "    \n",
    "    \n",
    "    #questions\n",
    "    question_id = randrange(10000,100000)\n",
    "    question_data = {'id': question_id, 'question': item['question_description'] if item['question_description'] else \" \", 'hint': item['hint'] if 'hint' in item else \" \", 'topic_id': topic_id}  # Replace with your data\n",
    "    res = requests.post(base_url+'createQuestion', data=question_data)\n",
    "    \n",
    "    \n",
    "    \n",
    "#     questions = {'id': randrange(10000,100000), 'questions': item.question_description, 'hint': item.hint, 'topic_id': topic_id}  # Replace with your data\n",
    "    solution_id = randrange(10000,100000)\n",
    "    solution_data = {'question_id': question_id, 'id': solution_id, 'solution': item['answer'] if 'answer' in item else \" \" }\n",
    "    res = requests.post(base_url+'createSolution', data=solution_data)\n",
    "\n",
    "\n",
    "    for i in range(len(item['subproblem'] if 'subproblem' in item else '')): \n",
    "        \n",
    "        data = {'id': randrange(10000,100000),'count':i, 'question_id': question_id,  'title': item['subproblem'][i]['title'] if \"title\" in item['subproblem'][i] else \" \", 'description': item['subproblem'][i]['description'] if item['subproblem'][i]['description'] else \" \"}\n",
    "        res = requests.post(base_url+'createSubproblem', data=data)"
   ]
  },
  {
   "cell_type": "code",
   "execution_count": 217,
   "id": "7047d9f6",
   "metadata": {},
   "outputs": [
    {
     "data": {
      "text/plain": [
       "{'message': 'success'}"
      ]
     },
     "execution_count": 217,
     "metadata": {},
     "output_type": "execute_result"
    }
   ],
   "source": [
    "\n",
    "res = requests.get(base_url+'deleteSubproblems')\n",
    "# res.json()\n",
    "res = requests.get(base_url+'deleteSolutions')\n",
    "# res.json()\n",
    "res = requests.get(base_url+'deleteQuestions')\n",
    "# res.json()\n",
    "res = requests.get(base_url+'deleteTopics')\n",
    "res.json()"
   ]
  },
  {
   "cell_type": "code",
   "execution_count": 14,
   "id": "c7a441c9",
   "metadata": {},
   "outputs": [
    {
     "data": {
      "text/plain": [
       "[{'id': '912459743082872833',\n",
       "  'first_name': 'John',\n",
       "  'last_name': 'Doe',\n",
       "  'email': 'johndoe@example.com',\n",
       "  'password': 'securepassword'},\n",
       " {'id': '912462614630957057',\n",
       "  'first_name': 'dz',\n",
       "  'last_name': 'chang',\n",
       "  'email': 'dzchang@example.com',\n",
       "  'password': 'securepassword'},\n",
       " {'id': '912538581676163073',\n",
       "  'first_name': 'SK',\n",
       "  'last_name': 'Lim',\n",
       "  'email': 'SKSKSK@example.com',\n",
       "  'password': 'passwordsecure'}]"
      ]
     },
     "execution_count": 14,
     "metadata": {},
     "output_type": "execute_result"
    }
   ],
   "source": [
    "res = requests.get(base_url+\"readAllUsers\")\n",
    "res.json()"
   ]
  },
  {
   "cell_type": "code",
   "execution_count": 181,
   "id": "76db6afa",
   "metadata": {},
   "outputs": [
    {
     "name": "stdout",
     "output_type": "stream",
     "text": [
      "<class 'dict'>\n",
      "{'problem': 'Which letter corresponds to the graph of $y = |f(x)|$?', 'solution': 'The graph of $y = |f(x)|$ is the graph of $y = f(x)$ reflected across the x-axis for all values of $x$ where $f(x) < 0$.\\nTherefore, the correct letter that corresponds to the graph of $y = |f(x)|$ is the letter $\\\\boxed{\\\\text{D}}$.The answer is: \\\\text{D}', 'wrong_approach': 'One wrong approach that students may take is to assume that the graph of $y = |f(x)|$ is the same as the graph of $y = f(x)$ for all values of $x$. This approach ignores the fact that the absolute value function $|f(x)|$ reflects the graph of $f(x)$ across the x-axis for values of $x$ where $f(x) < 0$. By not considering this reflection, students may incorrectly choose a different letter as the corresponding graph.', 'guidance': 'Great job identifying a common mistake that students may make when determining the graph of $y = |f(x)|$. You correctly pointed out that some students may assume that the graph of $y = |f(x)|$ is the same as the graph of $y = f(x)$ for all values of $x$. However, this assumption is incorrect.\\n\\nThe absolute value function $|f(x)|$ reflects the graph of $f(x)$ across the x-axis for values of $x$ where $f(x) < 0$. This means that any negative values of $f(x)$ will be reflected above the x-axis when we graph $y = |f(x)|$.\\n\\nBy not considering this reflection, students may incorrectly choose a different letter as the corresponding graph. It is important to remember that the graph of $y = |f(x)|$ will have a different shape compared to the graph of $y = f(x)$ when $f(x)$ takes on negative values.\\n\\nTo determine the correct letter corresponding to the graph of $y = |f(x)|$, we need to consider this reflection and ensure that the graph accurately represents the absolute value of $f(x)$ for all values of $x$.'}\n"
     ]
    }
   ],
   "source": [
    "with open('math_new.json', 'r') as file:\n",
    "    # Parse the JSON data from the file\n",
    "    data_math = json.load(file)\n",
    "    res = eval(data_math[0])\n",
    "    print(type(res))\n",
    "    print(res)\n",
    "#     for i in range(len(data_math)):\n",
    "        \n",
    "# #         for k, v in data_math[i].items():\n",
    "# #             print(k, len(v))\n",
    "#         print(\"++++++++++++++++++++++++\")\n"
   ]
  }
 ],
 "metadata": {
  "kernelspec": {
   "display_name": "Python 3 (ipykernel)",
   "language": "python",
   "name": "python3"
  },
  "language_info": {
   "codemirror_mode": {
    "name": "ipython",
    "version": 3
   },
   "file_extension": ".py",
   "mimetype": "text/x-python",
   "name": "python",
   "nbconvert_exporter": "python",
   "pygments_lexer": "ipython3",
   "version": "3.8.17"
  }
 },
 "nbformat": 4,
 "nbformat_minor": 5
}
