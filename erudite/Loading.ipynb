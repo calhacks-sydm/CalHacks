{
 "cells": [
  {
   "cell_type": "code",
   "execution_count": 1,
   "id": "2beb0d7c",
   "metadata": {},
   "outputs": [],
   "source": [
    "import requests\n",
    "import json"
   ]
  },
  {
   "cell_type": "markdown",
   "id": "0ac16e56",
   "metadata": {},
   "source": [
    "questions  \n",
    "- question_id\n",
    "- questions\n",
    "- hint\n",
    "- topic_id\n",
    "\n",
    "solution\n",
    "- solution_id (generated)\n",
    "- answer\n",
    "- question_id\n",
    "\n",
    "\n",
    "topic\n",
    "- topic_id (generated) \n",
    "- topic \n",
    "\n",
    "subproblems\n",
    "- id (generated)\n",
    "- topic_id\n",
    "- count\n",
    "- question_id\n",
    "- title\n",
    "- description\n"
   ]
  },
  {
   "cell_type": "code",
   "execution_count": 136,
   "id": "33dfab05",
   "metadata": {},
   "outputs": [
    {
     "name": "stdout",
     "output_type": "stream",
     "text": [
      "question_id 10\n",
      "topic 14\n",
      "question_description 2143\n",
      "answer 100\n",
      "hint 92\n",
      "subproblem 3\n",
      "simplifiedAns 1494\n",
      "++++++++++++++++++++++++\n",
      "question_id 10\n",
      "topic 18\n",
      "question_description 631\n",
      "answer 46\n",
      "hint 82\n",
      "subproblem 3\n",
      "simplifiedAns 659\n",
      "++++++++++++++++++++++++\n",
      "question_id 10\n",
      "topic 18\n",
      "question_description 733\n",
      "answer 113\n",
      "hint 97\n",
      "subproblem 3\n",
      "simplifiedAns 1851\n",
      "++++++++++++++++++++++++\n",
      "question_id 10\n",
      "topic 19\n",
      "question_description 860\n",
      "answer 184\n",
      "hint 122\n",
      "subproblem 3\n",
      "simplifiedAns 1148\n",
      "++++++++++++++++++++++++\n",
      "question_id 10\n",
      "topic 18\n",
      "question_description 744\n",
      "answer 21\n",
      "hint 154\n",
      "subproblem 3\n",
      "simplifiedAns 1090\n",
      "++++++++++++++++++++++++\n",
      "question_id 10\n",
      "topic 18\n",
      "question_description 2591\n",
      "hint 99\n",
      "subproblem 0\n",
      "++++++++++++++++++++++++\n",
      "question_id 10\n",
      "topic 17\n",
      "question_description 724\n",
      "++++++++++++++++++++++++\n"
     ]
    }
   ],
   "source": [
    "# Open the JSON file for reading\n",
    "with open('2014_new.json', 'r') as file:\n",
    "    # Parse the JSON data from the file\n",
    "    data2014 = json.load(file)\n",
    "    for i in range(len(data2014)):\n",
    "        for k, v in data2014[i].items():\n",
    "            print(k, len(v))\n",
    "        print(\"++++++++++++++++++++++++\")\n"
   ]
  },
  {
   "cell_type": "code",
   "execution_count": 106,
   "id": "509b384c",
   "metadata": {},
   "outputs": [
    {
     "data": {
      "text/plain": [
       "'Fall2014_1'"
      ]
     },
     "execution_count": 106,
     "metadata": {},
     "output_type": "execute_result"
    }
   ],
   "source": [
    "data[0]['question_id']"
   ]
  },
  {
   "cell_type": "code",
   "execution_count": 11,
   "id": "bc7085a1",
   "metadata": {},
   "outputs": [],
   "source": [
    "base_url = \"http://localhost:3000/api/\""
   ]
  },
  {
   "cell_type": "code",
   "execution_count": 86,
   "id": "0abba1ee",
   "metadata": {},
   "outputs": [
    {
     "data": {
      "text/plain": [
       "{'error': 'Failed to create user.'}"
      ]
     },
     "execution_count": 86,
     "metadata": {},
     "output_type": "execute_result"
    }
   ],
   "source": [
    "data = {\n",
    "        \"first_name\":\"dz\",\n",
    "        \"last_name\":\"chang\",\n",
    "        \"email\":\"dzchang@gmail\",\n",
    "        \"password\":\"hellosecure\", }\n",
    "res = requests.post(base_url+'createUser', data=data)\n",
    "res.json()"
   ]
  },
  {
   "cell_type": "code",
   "execution_count": 88,
   "id": "90699bba",
   "metadata": {},
   "outputs": [
    {
     "data": {
      "text/plain": [
       "[{'id': '912606855362707457',\n",
       "  'first_name': 'dz',\n",
       "  'last_name': 'chang',\n",
       "  'email': 'dzchang@gmail',\n",
       "  'password': 'hellosecure'}]"
      ]
     },
     "execution_count": 88,
     "metadata": {},
     "output_type": "execute_result"
    }
   ],
   "source": [
    "res = requests.get(base_url+'readAllUsers')\n",
    "res.json()"
   ]
  },
  {
   "cell_type": "markdown",
   "id": "a39ddab4",
   "metadata": {},
   "source": [
    "## Courses"
   ]
  },
  {
   "cell_type": "code",
   "execution_count": 168,
   "id": "d9836c2f",
   "metadata": {},
   "outputs": [
    {
     "data": {
      "text/plain": [
       "[{'id': '912607011899179009', 'course_name': 'cs170'}]"
      ]
     },
     "execution_count": 168,
     "metadata": {},
     "output_type": "execute_result"
    }
   ],
   "source": [
    "res = requests.get(base_url+'readAllCourses')\n",
    "res.json()"
   ]
  },
  {
   "cell_type": "code",
   "execution_count": 89,
   "id": "2bb7772e",
   "metadata": {},
   "outputs": [
    {
     "data": {
      "text/plain": [
       "{'error': {}}"
      ]
     },
     "execution_count": 89,
     "metadata": {},
     "output_type": "execute_result"
    }
   ],
   "source": [
    "data = {'course_name': \"cs170\"}\n",
    "res = requests.post(base_url+'createCourse', data=data)\n",
    "res.json()"
   ]
  },
  {
   "cell_type": "markdown",
   "id": "f011fd91",
   "metadata": {},
   "source": [
    "## Topics"
   ]
  },
  {
   "cell_type": "code",
   "execution_count": 189,
   "id": "66fa8d3d",
   "metadata": {},
   "outputs": [
    {
     "data": {
      "text/plain": [
       "[{'id': '12959',\n",
       "  'topic_name': 'Graphs and DFS',\n",
       "  'course_id': '912607011899179009'},\n",
       " {'id': '15342',\n",
       "  'topic_name': 'Divide-and-Conquer',\n",
       "  'course_id': '912607011899179009'},\n",
       " {'id': '16373',\n",
       "  'topic_name': 'NP-Completeness',\n",
       "  'course_id': '912607011899179009'},\n",
       " {'id': '16497',\n",
       "  'topic_name': 'Divide-and-Conquer',\n",
       "  'course_id': '912607011899179009'},\n",
       " {'id': '22397',\n",
       "  'topic_name': 'NP-Completeness',\n",
       "  'course_id': '912607011899179009'},\n",
       " {'id': '22715',\n",
       "  'topic_name': 'Graphs and DFS',\n",
       "  'course_id': '912607011899179009'},\n",
       " {'id': '26703',\n",
       "  'topic_name': 'Graphs and DFS',\n",
       "  'course_id': '912607011899179009'},\n",
       " {'id': '27020',\n",
       "  'topic_name': 'Graphs and DFS',\n",
       "  'course_id': '912607011899179009'},\n",
       " {'id': '29621',\n",
       "  'topic_name': 'Graphs and DFS',\n",
       "  'course_id': '912607011899179009'},\n",
       " {'id': '30618',\n",
       "  'topic_name': 'Greedy Algorithms',\n",
       "  'course_id': '912607011899179009'},\n",
       " {'id': '32792',\n",
       "  'topic_name': 'Paths in Graphs',\n",
       "  'course_id': '912607011899179009'},\n",
       " {'id': '36670',\n",
       "  'topic_name': 'Strongly Connected Components',\n",
       "  'course_id': '912607011899179009'},\n",
       " {'id': '42230',\n",
       "  'topic_name': 'NP-Completeness',\n",
       "  'course_id': '912607011899179009'},\n",
       " {'id': '43116',\n",
       "  'topic_name': 'Graphs and DFS',\n",
       "  'course_id': '912607011899179009'},\n",
       " {'id': '44910',\n",
       "  'topic_name': 'Algorithm Analysis',\n",
       "  'course_id': '912607011899179009'},\n",
       " {'id': '44991',\n",
       "  'topic_name': 'Dynamic Programming',\n",
       "  'course_id': '912607011899179009'},\n",
       " {'id': '45508',\n",
       "  'topic_name': 'Graphs and DFS',\n",
       "  'course_id': '912607011899179009'},\n",
       " {'id': '49937',\n",
       "  'topic_name': 'NP-Completeness',\n",
       "  'course_id': '912607011899179009'},\n",
       " {'id': '60682',\n",
       "  'topic_name': 'Divide-and-Conquer',\n",
       "  'course_id': '912607011899179009'},\n",
       " {'id': '66416',\n",
       "  'topic_name': 'NP-Completeness',\n",
       "  'course_id': '912607011899179009'},\n",
       " {'id': '67220',\n",
       "  'topic_name': 'NP-Completeness',\n",
       "  'course_id': '912607011899179009'},\n",
       " {'id': '72420',\n",
       "  'topic_name': 'Strongly Connected Components',\n",
       "  'course_id': '912607011899179009'},\n",
       " {'id': '73923',\n",
       "  'topic_name': 'NP-Completeness',\n",
       "  'course_id': '912607011899179009'},\n",
       " {'id': '74086',\n",
       "  'topic_name': 'Reductions, Bipartite Matching',\n",
       "  'course_id': '912607011899179009'},\n",
       " {'id': '74387',\n",
       "  'topic_name': 'Reductions, Bipartite Matching',\n",
       "  'course_id': '912607011899179009'},\n",
       " {'id': '75763',\n",
       "  'topic_name': 'Graphs and DFS',\n",
       "  'course_id': '912607011899179009'},\n",
       " {'id': '77545',\n",
       "  'topic_name': 'NP-Completeness',\n",
       "  'course_id': '912607011899179009'},\n",
       " {'id': '82280',\n",
       "  'topic_name': 'Zero-Sum Games',\n",
       "  'course_id': '912607011899179009'},\n",
       " {'id': '86449',\n",
       "  'topic_name': 'Paths in Graphs',\n",
       "  'course_id': '912607011899179009'},\n",
       " {'id': '90413',\n",
       "  'topic_name': 'Graphs and DFS',\n",
       "  'course_id': '912607011899179009'},\n",
       " {'id': '91877',\n",
       "  'topic_name': 'Divide-and-Conquer',\n",
       "  'course_id': '912607011899179009'},\n",
       " {'id': '93273',\n",
       "  'topic_name': 'Zero-Sum Games',\n",
       "  'course_id': '912607011899179009'},\n",
       " {'id': '93825',\n",
       "  'topic_name': 'Linear Programming',\n",
       "  'course_id': '912607011899179009'}]"
      ]
     },
     "execution_count": 189,
     "metadata": {},
     "output_type": "execute_result"
    }
   ],
   "source": [
    "res = requests.get(base_url+'readAllTopics')\n",
    "res.json()"
   ]
  },
  {
   "cell_type": "code",
   "execution_count": 191,
   "id": "f7ab1e14",
   "metadata": {},
   "outputs": [
    {
     "data": {
      "text/plain": [
       "{'error': 'Failed to fetch topics.'}"
      ]
     },
     "execution_count": 191,
     "metadata": {},
     "output_type": "execute_result"
    }
   ],
   "source": [
    "res = requests.get(base_url+'deleteTopics')\n",
    "res.json()"
   ]
  },
  {
   "cell_type": "code",
   "execution_count": 94,
   "id": "d5731686",
   "metadata": {},
   "outputs": [
    {
     "name": "stdout",
     "output_type": "stream",
     "text": [
      "{'id': '61530', 'topic_name': 'Divide and Conquer', 'course_id': '912607011899179009'}\n"
     ]
    }
   ],
   "source": [
    "topic_id = randrange(10000,100000)\n",
    "topic = \"Divide and Conquer\"\n",
    "data = {'id': topic_id, 'topic_name': topic, 'course_id': \"912607011899179009\"}\n",
    "do_create = True \n",
    "res = requests.get(base_url+'readAllTopics')\n",
    "res_json = res.json()\n",
    "for entry in res_json:\n",
    "    if entry['topic_name'] == topic:\n",
    "        do_create = False\n",
    "\n",
    "if do_create: \n",
    "    res = requests.post(base_url+'createTopic', data=data)\n",
    "    print(res.json())\n",
    "else:\n",
    "    print(\"topic already exists\")"
   ]
  },
  {
   "cell_type": "markdown",
   "id": "0fba9dc2",
   "metadata": {},
   "source": [
    "## Question"
   ]
  },
  {
   "cell_type": "code",
   "execution_count": 171,
   "id": "ca91b460",
   "metadata": {},
   "outputs": [
    {
     "data": {
      "text/plain": [
       "{'error': 'Failed to create questions.'}"
      ]
     },
     "execution_count": 171,
     "metadata": {},
     "output_type": "execute_result"
    }
   ],
   "source": [
    "q_id = randrange(10000,100000)\n",
    "item = {\n",
    "    \"question_id\": q_id,\n",
    "    \"question_description\": \"Lorem ipsum something somethign\",\n",
    "    \"hint\": \"use a * b + c\", \n",
    "    \"topic_id\": 61530\n",
    "}\n",
    "data = {'id': item['question_id'], 'question': item['question_description'],  'topic_id': item['topic_id'], 'hint': item['hint']}\n",
    "# data = {'id': item.question_id, 'questions': item.question_description, 'hint': item.hint, 'topic_id': topic_id}  # Replace with your data\n",
    "res = requests.post(base_url+'createQuestion', data=data)\n",
    "res.json()"
   ]
  },
  {
   "cell_type": "code",
   "execution_count": 173,
   "id": "58c37631",
   "metadata": {},
   "outputs": [
    {
     "data": {
      "text/plain": [
       "[{'id': '15142',\n",
       "  'question': \"Answer the following questions. No need to justify your answer. Use O(-) notation.\\n\\n(a) What is the asymptotic running time of decomposing a directed graph into strongly connected components, if the graph has n vertices and nlgn edges?\\n\\n(b) What is the asymptotic running time of Dijkstra's algorithm, on a graph with n vertices and m edges (assuming all edges have non-negative length), if we implement the priority queue with a binary heap?\\n\\n(c) What is the asymptotic running time of the Bellman-Ford algorithm, on a graph with n vertices and m edges?\\n\\n(d) What is the asymptotic solution to the recurrence F(n) = 3F(n/2) + 1gn?\",\n",
       "  'topic_id': '60682',\n",
       "  'hint': 'Break down the problem into smaller sub-problems and try to solve them one by one.'},\n",
       " {'id': '16823',\n",
       "  'question': 'Given two sorted lists of size m and n, we want to find the kth smallest element in the concatenation of the two lists. Fill in the blanks below so we get an algorithm whose running time is O(lgm + Ign). Assume k < m and k < n.\\n\\nFind_kth_elem(A[1..m], B[1..n],k):\\n1. Let x:=A[|k/2}] and y := B[[k/2]].\\n2. If x==y:\\n\\n3. Return |x\\n\\n4. If x>y:\\n5. Return Find_kth_elem(A|| 1 |.) |&/2] |], Bl] [k/2] + 1]..,&]], | [k/2] )\\n6. If x<y:\\n7. Return Find_kth_elem(A|| |k/2| + 1}..[&|], B[L1 |.) [&/2] J], | [k/21)\\n\\nNow, answer the following question. Which algorithm design paradigm does this algorithm best represent?\\n\\n1. Divide-and-conquer\\n\\n2. Greedy algorithm\\n\\n3. Dynamic programming\\n4. Linear programming\\n\\n5. Reduce to network flow\\n\\n6. None of the above',\n",
       "  'topic_id': '16497',\n",
       "  'hint': 'Think about how the problem is being broken down into smaller subproblems and how the solution is being constructed from the solutions of the subproblems.'},\n",
       " {'id': '24478',\n",
       "  'question': \"A set of n space stations need your help in building a radar system to track spaceships traveling between them. The ith space station is located in 3D space at coordinates (xi,yi,zi). The space stations never move. Each space station will have a radar of some power, say ri for the ith space station, where ri is to be determined.\\n\\nYou want to figure how powerful to make each space station's radar transmitter, so that whenever any spaceship travels in a straight line from one space station to another, it will always be in radar range of either the first space station (its origin) or the second space station (its destination). A radar with power ri is capable of tracking space ships anywhere in the sphere with radius ri centered at itself. Thus, a space ship is within radar range through its trip from space station i to space station j if every point along the line from (xi,yi,zi) to (xj,yj,zj) falls within either the sphere of radius ri centered at (xj,yi,zi) or the sphere of radius rj centered (xi,yi,zi). The cost of each radar transmitter is proportional to its power, and you want to minimize the total cost of all of the radar transmitters.\\n\\nYou are given all of the (x1,y1,z1),...,(xn,yn,zn) values, and your job is to choose values for ri,...,rn. Express this problem as a linear program.\\n\\n(a) Describe your variables for the linear program.\\n\\nSolution: ri = the power of the ith radar transmitter.\\n\\n(b) Write out the objective function.\\nSolution: ri + r2 +...+ rn.\\n\\n(c) Between each pair of space stations, say station i and station j, we need one constraint (one linear inequality). What is it?\\nSolution: ri + rj >= sqrt((xi-xj)^2 + (yi-yj)^2 + (zi-zj)^2).\\n\\n(d) What is the asymptotic running time of your algorithm, as a function of n and m and k?\\nGive a short justification (a sentence or two).\\nSolution: O(n^2). We need to compare each pair of space stations to create the constraints.\\n\\nComment: We gave no credit on part (d) for algorithms whose running time is exponential in n (even after memoization). For instance, algorithms that involved trying all subsets of A take at least 2^n time and thus got no credit. As another example, algorithms where the arguments to the function were sets typically fell into this category, as did dynamic programming approaches where the subproblems could include all possible subsets of A. (One way to avoid this was to have the argument(s) be an integer that holds the sum of the elements in the set, rather than using the set itself as the argumentâ€”this way the number of subproblems solved will be O(L) rather than O(2^n)).\",\n",
       "  'topic_id': '93825',\n",
       "  'hint': 'Think about the variables and constraints in the linear program and how they relate to the problem.'},\n",
       " {'id': '42091',\n",
       "  'question': 'Answer the following questions, giving a short justification (a sentence or two).\\n\\n(a) Suppose we have already trained two classifiers. Classifier A is a k-nearest neighbors classifier with a fixed k = 25, using a linear search implementation (not a k-d tree). Classifier B is a random forest classifier with a fixed T = 25 (i.e., 25 decision trees), where each decision tree has depth at most 10. Now we want to know the running time to classify 100 test points. If the number of observations in the training set is very large, which classifier will be faster at this task? In other words, if we consider the asymptotic running time for this task as a function of n, which classifier will have an asymptotically faster running time?',\n",
       "  'topic_id': '44910',\n",
       "  'hint': 'Think about the complexity of each classifier and how it relates to the size of the training set.'},\n",
       " {'id': '49189',\n",
       "  'question': \"Circle TRUE or FALSE. Do not justify your answers on this problem.\\n\\n(a) | TRUE | or FALSE: If we perform DFS on an undirected graph, there are no cross edges.\\n\\n(b) | TRUE] or FALSE: If the DFS tree has no back edges, then there are no cycles in the graph.\\n\\n(c) | TRUE | or FALSE: Any tree with n vertices is guaranteed to have exactly n - 1 edges.\\n\\n(d) TRUE or| FALSE |: Suppose G is a directed graph G = (V,E), and define the undirected graph\\nG' by G' = (V,E') where E' is the set of edges {u,v} such that (u,v) âˆˆ E or (v,u) âˆˆ E. Then,\\nif G is not strongly connected, then it's guaranteed that G' is not connected.\\n\\n(e) TRUE or| FALSE |: If G is a strongly connected directed graph, then there is guaranteed to exist\\na vertex such that deleting that vertex leaves you with a graph that is also strongly connected.\\n\\n(f) TRUE or| FALSE[ Suppose we have a directed acyclic graph (dag) G with at least n - 1 edges\\nand where a topological sort yields the vertices v1,...,vn in that order. If we add the edge\\n(vn, v1), then the resulting graph is guaranteed to be strongly connected.\\n\\n(g) TRUE or| FALSE}: Dijkstra's algorithm will always work correctly on any graph that has at\\nmost two negative edges.\\n\\n(h) | TRUE] or FALSE: If an undirected graph with n vertices has k connected components, then it\\nmust have at least n - k edges.\\n\\n(i) TRUE or| FALSE If a graph with integer lengths on the edges (some of them possibly neg-\\native) has no negative cycle reachable from s, then Dijkstra's algorithm works correctly for\\nfinding the length of the shortest path from s to every other vertex reachable from s.\\n\\n(j) TRUE or| FALSE} If we have a linear program where all of the coefficients and constants\\nin every linear inequality are integers, then the optimum solution to this linear program must\\nassign an integer value to every variable.\\n\\n(k) TRUE or |FALSE|: If we have an undirected graph G = (V,E) where |V| = |E|, then G is\\nguaranteed to be a tree.\\n\\n(l) TRUE or| FALSE}: If G is a graph with positive lengths on the edges, and if all edge lengths\\nare distinct, and if s,t are two vertices, then there is a unique shortest path from s to ft.\",\n",
       "  'topic_id': '43116',\n",
       "  'hint': 'Think about the properties of the graph and the type of edges that are present in the graph.'},\n",
       " {'id': '60644',\n",
       "  'question': \"Our spaceship's cook has baked a zero-gravity pizza and cut it into n slices, but the lack of gravity made him clumsy and the pizza wasn't evenly sliced: the n slices have size 51, 52,...,5,n. There are n hungry space travelers on board who each want to eat a slice of pizza. Suppose the ith traveler would be happy with any slice whose size is at least i. Give an efficient algorithm to determine whether it is possible to distribute the pizza slices so everyone is happy.\\n\\n(a) What algorithm design paradigm is most appropriate for this problem? Circle one of the following.\\n\\n(a) Divide-and-conquer\\n\\n(b) | Greedy algorithm\\n\\n(c) Dynamic programming\\n(d) Linear programming\\n(e) Reduce to network flow\\n\\n(f) None of the above\\n\\n\",\n",
       "  'topic_id': '30618',\n",
       "  'hint': ' '},\n",
       " {'id': '63217',\n",
       "  'question': \"We have a directed graph G = (V,E) with n vertices and m edges and integer lengths on all the edges. Only k of the edges have negative lengths; all the others have non-negative lengths. There are no negative cycles.\\n\\nYour friend has a clever idea for computing the length of the shortest path from a vertex s to a vertex t. He will construct a new graph G' whose vertices are the endpoints of the negative edges of G, together with s and t. Each edge (u,v) in G' represents the length of the shortest path from u to v in G without using any negative-length edge. He'll use Dijkstra's algorithm to compute each of these lengths. Then, he'll add in all of the negative edges to G', and run Bellman-Ford on the result.\\n\\nWhat is the asymptotic running time of your friend's algorithm, as a function of n and m and k? Give a short justification (a sentence or two).\",\n",
       "  'topic_id': '44991',\n",
       "  'hint': \"Think about the time complexity of each step of your friend's algorithm and combine them to get the total time complexity.\"}]"
      ]
     },
     "execution_count": 173,
     "metadata": {},
     "output_type": "execute_result"
    }
   ],
   "source": [
    "res = requests.get(base_url+'readAllQuestions')\n",
    "res.json()"
   ]
  },
  {
   "cell_type": "code",
   "execution_count": 157,
   "id": "3589a1fa",
   "metadata": {},
   "outputs": [
    {
     "data": {
      "text/plain": [
       "{'message': 'success'}"
      ]
     },
     "execution_count": 157,
     "metadata": {},
     "output_type": "execute_result"
    }
   ],
   "source": [
    "res = requests.get(base_url+'deleteQuestions')\n",
    "res.json()"
   ]
  },
  {
   "cell_type": "markdown",
   "id": "a2e14f2a",
   "metadata": {},
   "source": [
    "## Solution\n"
   ]
  },
  {
   "cell_type": "code",
   "execution_count": 174,
   "id": "c755662f",
   "metadata": {},
   "outputs": [
    {
     "data": {
      "text/plain": [
       "[{'id': '26569', 'question_id': '16823', 'solution': '1. Divide-and-conquer'},\n",
       " {'id': '32385',\n",
       "  'question_id': '15142',\n",
       "  'solution': 'a) O(nlgn)\\nb) O((n + m)lgn)\\nc) O(nm)\\nd) O(n^2)'},\n",
       " {'id': '42581',\n",
       "  'question_id': '49189',\n",
       "  'solution': 'a) FALSE\\nb) TRUE\\nc) TRUE\\nd) TRUE\\ne) FALSE\\nf) FALSE\\ng) TRUE\\nh) TRUE\\ni) TRUE\\nj) TRUE\\nk) FALSE\\nl) FALSE'},\n",
       " {'id': '43079',\n",
       "  'question_id': '42091',\n",
       "  'solution': 'Classifier B. The running time of B is fixed regardless of n, whereas the running time of A is proportional to n.'},\n",
       " {'id': '49362',\n",
       "  'question_id': '63217',\n",
       "  'solution': \"O(k(n + m)lgn + 4). We do Dijkstra's algorithm 2k times, once for each endpoint of a negative edge, and that takes O((n + m)lgn) time per endpoint; then Bellman-Ford takes O(k^2) time.\"},\n",
       " {'id': '79617', 'question_id': '24478', 'solution': ' '},\n",
       " {'id': '96409', 'question_id': '60644', 'solution': ' '}]"
      ]
     },
     "execution_count": 174,
     "metadata": {},
     "output_type": "execute_result"
    }
   ],
   "source": [
    "res = requests.get(base_url+'readAllSolutions')\n",
    "res.json()"
   ]
  },
  {
   "cell_type": "code",
   "execution_count": 102,
   "id": "0efdf0d0",
   "metadata": {},
   "outputs": [
    {
     "data": {
      "text/plain": [
       "{'id': '37721', 'question_id': '51704', 'solution': 'ASDFGHJKLOIUYTREW'}"
      ]
     },
     "execution_count": 102,
     "metadata": {},
     "output_type": "execute_result"
    }
   ],
   "source": [
    "s_id = randrange(10000,100000)\n",
    "item = {\n",
    "    \"id\": s_id ,\n",
    "    \"question_id\": 51704 ,\n",
    "    \"solution\": \"ASDFGHJKLOIUYTREW\"\n",
    "}\n",
    "data = {'id': item['id'], 'question_id': item['question_id'],  'solution': item['solution']}\n",
    "# data = {'id': item.question_id, 'questions': item.question_description, 'hint': item.hint, 'topic_id': topic_id}  # Replace with your data\n",
    "res = requests.post(base_url+'createSolution', data=data)\n",
    "res.json()"
   ]
  },
  {
   "cell_type": "code",
   "execution_count": 156,
   "id": "3860c8db",
   "metadata": {},
   "outputs": [
    {
     "data": {
      "text/plain": [
       "{'message': 'success'}"
      ]
     },
     "execution_count": 156,
     "metadata": {},
     "output_type": "execute_result"
    }
   ],
   "source": [
    "res = requests.get(base_url+'deleteSolutions')\n",
    "res.json()"
   ]
  },
  {
   "cell_type": "markdown",
   "id": "b8b82b9f",
   "metadata": {},
   "source": [
    "## Subproblem"
   ]
  },
  {
   "cell_type": "code",
   "execution_count": 175,
   "id": "76196538",
   "metadata": {},
   "outputs": [
    {
     "data": {
      "text/plain": [
       "[{'id': '17922',\n",
       "  'count': '1',\n",
       "  'question_id': '42091',\n",
       "  'title': 'Analyze the complexity of Classifier B',\n",
       "  'description': 'Consider the complexity of Classifier B, which is a random forest classifier with a fixed T = 25 (i.e., 25 decision trees), where each decision tree has depth at most 10.'},\n",
       " {'id': '25173',\n",
       "  'count': '1',\n",
       "  'question_id': '15142',\n",
       "  'title': 'Question (b)',\n",
       "  'description': \"What is the asymptotic running time of Dijkstra's algorithm, on a graph with n vertices and m edges (assuming all edges have non-negative length), if we implement the priority queue with a binary heap?\"},\n",
       " {'id': '30721',\n",
       "  'count': '0',\n",
       "  'question_id': '15142',\n",
       "  'title': 'Question (a)',\n",
       "  'description': 'What is the asymptotic running time of decomposing a directed graph into strongly connected components, if the graph has n vertices and nlgn edges?'},\n",
       " {'id': '37490',\n",
       "  'count': '0',\n",
       "  'question_id': '49189',\n",
       "  'title': 'Undirected Graphs',\n",
       "  'description': 'Think about the properties of an undirected graph and the type of edges that are present in the graph.'},\n",
       " {'id': '48880',\n",
       "  'count': '0',\n",
       "  'question_id': '42091',\n",
       "  'title': 'Analyze the complexity of Classifier A',\n",
       "  'description': 'Consider the complexity of Classifier A, which is a k-nearest neighbors classifier with a fixed k = 25, using a linear search implementation (not a k-d tree).'},\n",
       " {'id': '50398',\n",
       "  'count': '0',\n",
       "  'question_id': '16823',\n",
       "  'title': 'Divide the problem into two subproblems',\n",
       "  'description': 'Divide the problem into two subproblems by comparing the kth element of the two sorted lists and recursively calling the function on the smaller subproblem.'},\n",
       " {'id': '53901',\n",
       "  'count': '2',\n",
       "  'question_id': '16823',\n",
       "  'title': 'Base case',\n",
       "  'description': 'The base case is when the kth element of the two sorted lists is equal, in which case the kth element is returned.'},\n",
       " {'id': '57489',\n",
       "  'count': '2',\n",
       "  'question_id': '42091',\n",
       "  'title': 'Compare the complexities of Classifier A and B',\n",
       "  'description': 'Compare the complexities of Classifier A and B and determine which one will have an asymptotically faster running time.'},\n",
       " {'id': '64082',\n",
       "  'count': '1',\n",
       "  'question_id': '16823',\n",
       "  'title': 'Find the kth element',\n",
       "  'description': 'Find the kth element by comparing the kth element of the two sorted lists and returning the smaller one.'},\n",
       " {'id': '66342',\n",
       "  'count': '1',\n",
       "  'question_id': '49189',\n",
       "  'title': 'Directed Graphs',\n",
       "  'description': 'Think about the properties of a directed graph and the type of edges that are present in the graph.'},\n",
       " {'id': '70383',\n",
       "  'count': '1',\n",
       "  'question_id': '63217',\n",
       "  'title': 'Bellman-Ford Algorithm',\n",
       "  'description': 'Bellman-Ford algorithm is used to find the shortest paths from a given source vertex to all other vertices in a graph. It has a time complexity of O(k^2).'},\n",
       " {'id': '74883',\n",
       "  'count': '2',\n",
       "  'question_id': '63217',\n",
       "  'title': 'Combining Time Complexities',\n",
       "  'description': \"Combine the time complexities of Dijkstra's and Bellman-Ford algorithms to get the total time complexity of your friend's algorithm.\"},\n",
       " {'id': '75637',\n",
       "  'count': '0',\n",
       "  'question_id': '63217',\n",
       "  'title': \"Dijkstra's Algorithm\",\n",
       "  'description': \"Dijkstra's algorithm is used to find the shortest path from a given source vertex to all other vertices in a graph. It has a time complexity of O((n + m)lgn).\"},\n",
       " {'id': '77204',\n",
       "  'count': '2',\n",
       "  'question_id': '15142',\n",
       "  'title': 'Question (c)',\n",
       "  'description': 'What is the asymptotic running time of the Bellman-Ford algorithm, on a graph with n vertices and m edges?'},\n",
       " {'id': '96495',\n",
       "  'count': '2',\n",
       "  'question_id': '49189',\n",
       "  'title': 'Trees',\n",
       "  'description': 'Think about the properties of a tree and the type of edges that are present in the graph.'}]"
      ]
     },
     "execution_count": 175,
     "metadata": {},
     "output_type": "execute_result"
    }
   ],
   "source": [
    "res = requests.get(base_url+'readAllSubproblems')\n",
    "res.json()"
   ]
  },
  {
   "cell_type": "code",
   "execution_count": 120,
   "id": "3ff501e4",
   "metadata": {},
   "outputs": [
    {
     "data": {
      "text/plain": [
       "{'id': '55264',\n",
       " 'count': '55264',\n",
       " 'question_id': '51704',\n",
       " 'title': 'recursion',\n",
       " 'description': 'trees and recursions'}"
      ]
     },
     "execution_count": 120,
     "metadata": {},
     "output_type": "execute_result"
    }
   ],
   "source": [
    "sub_id = randrange(10000,100000)\n",
    "item = {\n",
    "    \"id\": sub_id ,\n",
    "    \"count\": 2, \n",
    "    \"question_id\": 51704 ,\n",
    "    \"title\": \"recursion\",\n",
    "    \"description\": \"trees and recursions\",\n",
    "}\n",
    "data = {'id': item['id'],'count':item['count'],'question_id': item['question_id'],  'title': item['title'], 'description': item['description']}\n",
    "# data = {'id': item.question_id, 'questions': item.question_description, 'hint': item.hint, 'topic_id': topic_id}  # Replace with your data\n",
    "res = requests.post(base_url+'createSubproblem', data=data)\n",
    "res.json()"
   ]
  },
  {
   "cell_type": "code",
   "execution_count": 155,
   "id": "9709adf1",
   "metadata": {},
   "outputs": [
    {
     "data": {
      "text/plain": [
       "{'message': 'success'}"
      ]
     },
     "execution_count": 155,
     "metadata": {},
     "output_type": "execute_result"
    }
   ],
   "source": [
    "res = requests.get(base_url+'deleteSubproblems')\n",
    "res.json()"
   ]
  },
  {
   "cell_type": "code",
   "execution_count": 131,
   "id": "850a1b20",
   "metadata": {},
   "outputs": [
    {
     "name": "stdout",
     "output_type": "stream",
     "text": [
      "Divide-and-Conquer\n"
     ]
    }
   ],
   "source": [
    "print(data2014[1]['topic'])"
   ]
  },
  {
   "cell_type": "code",
   "execution_count": 185,
   "id": "267cd1cc",
   "metadata": {},
   "outputs": [],
   "source": [
    "with open('2015_new.json', 'r') as file:\n",
    "    # Parse the JSON data from the file\n",
    "    data2015 = json.load(file)\n",
    "#     for i in range(len(data2014)):\n",
    "#         for k, v in data2014[i].items():\n",
    "#             print(k, len(v))\n",
    "#         print(\"++++++++++++++++++++++++\")\n",
    "with open('2014_new.json', 'r') as file:\n",
    "    # Parse the JSON data from the file\n",
    "    data2014 = json.load(file)\n",
    "\n",
    "data = data2015.extend(data2015)"
   ]
  },
  {
   "cell_type": "code",
   "execution_count": 187,
   "id": "9f5918ce",
   "metadata": {},
   "outputs": [
    {
     "data": {
      "text/plain": [
       "26"
      ]
     },
     "execution_count": 187,
     "metadata": {},
     "output_type": "execute_result"
    }
   ],
   "source": [
    "len(data2015)"
   ]
  },
  {
   "cell_type": "code",
   "execution_count": 188,
   "id": "66b17477",
   "metadata": {},
   "outputs": [],
   "source": [
    "# # Define the data you want to send in the request (if any)\n",
    "# questions = {'id': question_id, 'questions': question_description, 'hint': hint, 'topic_id': topic_id}  # Replace with your data\n",
    "# solution = {'question_id': question_id, 'id': solution_id, 'solution': solution }\n",
    "# topic = {'topic_id': topic_id, 'topic': topic}\n",
    "# subproblems = {'id': id, 'question_id': question_id, 'count': count, 'title': title, 'description': description}\n",
    "\n",
    "\n",
    "# Send the POST request\n",
    "# response = requests.post(url, data=data)\n",
    "\n",
    "for item in data2015: \n",
    "    \n",
    "    # Topic\n",
    "    topic_id = randrange(10000,100000)\n",
    "    data = {'id':topic_id, 'topic_name': item['topic'], 'course_id': \"912607011899179009\"}\n",
    "    \n",
    "    do_create = True \n",
    "    res = requests.get(base_url+'readAllTopics')\n",
    "    \n",
    "    for entry in res_json:\n",
    "        if entry['topic_name'] == item['topic']:\n",
    "            do_create = False\n",
    "            topic_id = int(entry['id'])\n",
    "\n",
    "    if do_create: \n",
    "        res = requests.post(base_url+'createTopic', data=data)\n",
    "    else:\n",
    "        print(\"topic already exists\")\n",
    "    \n",
    "    \n",
    "    #questions\n",
    "    question_id = randrange(10000,100000)\n",
    "    question_data = {'id': question_id, 'question': item['question_description'] if item['question_description'] else \" \", 'hint': item['hint'] if 'hint' in item else \" \", 'topic_id': topic_id}  # Replace with your data\n",
    "    res = requests.post(base_url+'createQuestion', data=question_data)\n",
    "    \n",
    "    \n",
    "    \n",
    "#     questions = {'id': randrange(10000,100000), 'questions': item.question_description, 'hint': item.hint, 'topic_id': topic_id}  # Replace with your data\n",
    "    solution_id = randrange(10000,100000)\n",
    "    solution_data = {'question_id': question_id, 'id': solution_id, 'solution': item['answer'] if 'answer' in item else \" \" }\n",
    "    res = requests.post(base_url+'createSolution', data=solution_data)\n",
    "\n",
    "\n",
    "    for i in range(len(item['subproblem'] if 'subproblem' in item else '')): \n",
    "        \n",
    "        data = {'id': randrange(10000,100000),'count':i, 'question_id': question_id,  'title': item['subproblem'][i]['title'] if item['subproblem'][i]['title'] else \" \", 'description': item['subproblem'][i]['description'] if item['subproblem'][i]['description'] else \" \"}\n",
    "        res = requests.post(base_url+'createSubproblem', data=data)"
   ]
  },
  {
   "cell_type": "code",
   "execution_count": 167,
   "id": "06646f6a",
   "metadata": {},
   "outputs": [
    {
     "data": {
      "text/plain": [
       "{'message': 'success'}"
      ]
     },
     "execution_count": 167,
     "metadata": {},
     "output_type": "execute_result"
    }
   ],
   "source": [
    "\n",
    "res = requests.get(base_url+'deleteSubproblems')\n",
    "# res.json()\n",
    "res = requests.get(base_url+'deleteSolutions')\n",
    "# res.json()\n",
    "res = requests.get(base_url+'deleteQuestions')\n",
    "# res.json()\n",
    "res = requests.get(base_url+'deleteTopics')\n",
    "res.json()"
   ]
  },
  {
   "cell_type": "code",
   "execution_count": 14,
   "id": "3bce46a5",
   "metadata": {},
   "outputs": [
    {
     "data": {
      "text/plain": [
       "[{'id': '912459743082872833',\n",
       "  'first_name': 'John',\n",
       "  'last_name': 'Doe',\n",
       "  'email': 'johndoe@example.com',\n",
       "  'password': 'securepassword'},\n",
       " {'id': '912462614630957057',\n",
       "  'first_name': 'dz',\n",
       "  'last_name': 'chang',\n",
       "  'email': 'dzchang@example.com',\n",
       "  'password': 'securepassword'},\n",
       " {'id': '912538581676163073',\n",
       "  'first_name': 'SK',\n",
       "  'last_name': 'Lim',\n",
       "  'email': 'SKSKSK@example.com',\n",
       "  'password': 'passwordsecure'}]"
      ]
     },
     "execution_count": 14,
     "metadata": {},
     "output_type": "execute_result"
    }
   ],
   "source": [
    "res = requests.get(base_url+\"readAllUsers\")\n",
    "res.json()"
   ]
  },
  {
   "cell_type": "code",
   "execution_count": 181,
   "id": "7edaf1f4",
   "metadata": {},
   "outputs": [
    {
     "name": "stdout",
     "output_type": "stream",
     "text": [
      "<class 'dict'>\n",
      "{'problem': 'Which letter corresponds to the graph of $y = |f(x)|$?', 'solution': 'The graph of $y = |f(x)|$ is the graph of $y = f(x)$ reflected across the x-axis for all values of $x$ where $f(x) < 0$.\\nTherefore, the correct letter that corresponds to the graph of $y = |f(x)|$ is the letter $\\\\boxed{\\\\text{D}}$.The answer is: \\\\text{D}', 'wrong_approach': 'One wrong approach that students may take is to assume that the graph of $y = |f(x)|$ is the same as the graph of $y = f(x)$ for all values of $x$. This approach ignores the fact that the absolute value function $|f(x)|$ reflects the graph of $f(x)$ across the x-axis for values of $x$ where $f(x) < 0$. By not considering this reflection, students may incorrectly choose a different letter as the corresponding graph.', 'guidance': 'Great job identifying a common mistake that students may make when determining the graph of $y = |f(x)|$. You correctly pointed out that some students may assume that the graph of $y = |f(x)|$ is the same as the graph of $y = f(x)$ for all values of $x$. However, this assumption is incorrect.\\n\\nThe absolute value function $|f(x)|$ reflects the graph of $f(x)$ across the x-axis for values of $x$ where $f(x) < 0$. This means that any negative values of $f(x)$ will be reflected above the x-axis when we graph $y = |f(x)|$.\\n\\nBy not considering this reflection, students may incorrectly choose a different letter as the corresponding graph. It is important to remember that the graph of $y = |f(x)|$ will have a different shape compared to the graph of $y = f(x)$ when $f(x)$ takes on negative values.\\n\\nTo determine the correct letter corresponding to the graph of $y = |f(x)|$, we need to consider this reflection and ensure that the graph accurately represents the absolute value of $f(x)$ for all values of $x$.'}\n"
     ]
    }
   ],
   "source": [
    "with open('math_new.json', 'r') as file:\n",
    "    # Parse the JSON data from the file\n",
    "    data_math = json.load(file)\n",
    "    res = eval(data_math[0])\n",
    "    print(type(res))\n",
    "    print(res)\n",
    "#     for i in range(len(data_math)):\n",
    "        \n",
    "# #         for k, v in data_math[i].items():\n",
    "# #             print(k, len(v))\n",
    "#         print(\"++++++++++++++++++++++++\")\n"
   ]
  }
 ],
 "metadata": {
  "kernelspec": {
   "display_name": "Python 3 (ipykernel)",
   "language": "python",
   "name": "python3"
  },
  "language_info": {
   "codemirror_mode": {
    "name": "ipython",
    "version": 3
   },
   "file_extension": ".py",
   "mimetype": "text/x-python",
   "name": "python",
   "nbconvert_exporter": "python",
   "pygments_lexer": "ipython3",
   "version": "3.8.17"
  }
 },
 "nbformat": 4,
 "nbformat_minor": 5
}
